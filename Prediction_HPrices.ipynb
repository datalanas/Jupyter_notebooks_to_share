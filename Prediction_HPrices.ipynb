{
 "cells": [
  {
   "cell_type": "code",
   "execution_count": 1,
   "metadata": {},
   "outputs": [],
   "source": [
    "import numpy as np\n",
    "import pandas as pd\n",
    "pd.options.display.float_format = '{:,.2f}'.format\n",
    "pd.set_option('colheader_justify', 'left', 'display.max_colwidth', -1, 'display.max_columns', None, 'display.max_rows', None)\n",
    "\n",
    "import matplotlib.pyplot as plt\n",
    "%matplotlib inline\n",
    "import seaborn as sns\n",
    "\n",
    "import warnings\n",
    "warnings.filterwarnings(\"ignore\")\n",
    "\n",
    "from datetime import datetime\n",
    "import os\n",
    "from IPython.core.display import HTML"
   ]
  },
  {
   "cell_type": "code",
   "execution_count": 2,
   "metadata": {},
   "outputs": [],
   "source": [
    "#pandas styling\n",
    "pd.options.display.float_format = '{:,.2f}'.format\n",
    "pd.set_option('colheader_justify', 'left', 'display.max_colwidth', -1, )\n",
    "\n",
    "pd.options.display.float_format = '{:,.2f}'.format\n",
    "pd.set_option('display.max_columns', None)  #or 1000\n",
    "pd.set_option('display.max_rows', None)  #or 1000\n",
    "pd.set_option('precision', 0)"
   ]
  },
  {
   "cell_type": "code",
   "execution_count": 3,
   "metadata": {},
   "outputs": [],
   "source": [
    "import sklearn\n",
    "from sklearn.preprocessing import LabelEncoder, OneHotEncoder\n",
    "from sklearn.metrics import mean_squared_error, mean_absolute_error\n",
    "from sklearn.model_selection import KFold, train_test_split, ShuffleSplit, GridSearchCV, cross_val_score\n",
    "from sklearn.linear_model import LassoCV, RidgeCV, Lasso, Ridge, ElasticNet, ElasticNetCV\n",
    "import xgboost as xgb\n",
    "import lightgbm as lgbm\n",
    "\n",
    "from scipy import stats\n",
    "from scipy.stats import skew, norm\n",
    "from scipy.special import boxcox1p"
   ]
  },
  {
   "cell_type": "code",
   "execution_count": 4,
   "metadata": {},
   "outputs": [],
   "source": [
    "train=pd.read_csv('...train_cleaned.csv')\n",
    "test=pd.read_csv('...test_cleaned.csv')"
   ]
  },
  {
   "cell_type": "code",
   "execution_count": 5,
   "metadata": {},
   "outputs": [],
   "source": [
    "# manage data types\n",
    "cols = train.dtypes[train.dtypes=='object'].index.to_list()\n",
    "cols.extend(['YearBuilt', 'YearRemodAdd', 'GarageYrBlt'])\n",
    "for col in cols:\n",
    "    train[col] = train[col].astype('category')\n",
    "    test[col] = test[col].astype('category')"
   ]
  },
  {
   "cell_type": "code",
   "execution_count": 6,
   "metadata": {},
   "outputs": [],
   "source": [
    "# manage Id column\n",
    "testid = test['Id'] # will be needed for a submussion\n",
    "train.drop('Id', inplace=True, axis=1)\n",
    "test.drop('Id', inplace=True, axis=1)"
   ]
  },
  {
   "cell_type": "code",
   "execution_count": 7,
   "metadata": {},
   "outputs": [],
   "source": [
    "# save target data\n",
    "y_train = train['SalePrice'].values \n",
    "train = train.drop('SalePrice', axis=1)"
   ]
  },
  {
   "cell_type": "markdown",
   "metadata": {},
   "source": [
    "### transforming numerical"
   ]
  },
  {
   "cell_type": "code",
   "execution_count": 8,
   "metadata": {},
   "outputs": [],
   "source": [
    "# transforming target\n",
    "y_train = np.log1p(y_train)"
   ]
  },
  {
   "cell_type": "code",
   "execution_count": 9,
   "metadata": {},
   "outputs": [],
   "source": [
    "def numcode_find_skew(df):\n",
    "    nums = list(df.select_dtypes(include=[np.number]).columns.values)\n",
    "    skews = df[nums].apply(lambda x: skew(x.dropna())).sort_values(ascending=False)\n",
    "    skews = skews[skews>0.5]\n",
    "    print('There are {} features should be Skewed'.format(len(skews)))\n",
    "    print(skews)\n",
    "    \n",
    "    Lambda=0.15\n",
    "    for col in skews.index:\n",
    "        df[col] = boxcox1p(df[col], Lambda)"
   ]
  },
  {
   "cell_type": "code",
   "execution_count": 10,
   "metadata": {},
   "outputs": [
    {
     "name": "stdout",
     "output_type": "stream",
     "text": [
      "There are 13 features should be Skewed\n",
      "EnclosedPorch   3.07\n",
      "MasVnrArea      2.70\n",
      "OpenPorchSF     2.38\n",
      "LotArea         2.26\n",
      "WoodDeckSF      1.43\n",
      "MSSubClass      1.40\n",
      "GrLivArea       1.12\n",
      "HalfBath        0.67\n",
      "TotRmsAbvGrd    0.65\n",
      "LotFrontage     0.64\n",
      "Fireplaces      0.64\n",
      "TotalBsmtSF     0.58\n",
      "BsmtFullBath    0.58\n",
      "dtype: float64\n"
     ]
    }
   ],
   "source": [
    "numcode_find_skew(train)"
   ]
  },
  {
   "cell_type": "code",
   "execution_count": 11,
   "metadata": {},
   "outputs": [],
   "source": [
    "def numcode_boxcox_skew(df):\n",
    "    nums = list(df.select_dtypes(include=[np.number]).columns.values)\n",
    "    skews = df[nums].apply(lambda x: skew(x.dropna())).sort_values(ascending=False)\n",
    "    skews = skews[skews>0.5]\n",
    "    for col in skews.index:\n",
    "        df[col] = boxcox1p(df[col], 0.15)"
   ]
  },
  {
   "cell_type": "code",
   "execution_count": 12,
   "metadata": {},
   "outputs": [],
   "source": [
    "numcode_boxcox_skew(train)\n",
    "numcode_boxcox_skew(test)"
   ]
  },
  {
   "cell_type": "code",
   "execution_count": 13,
   "metadata": {},
   "outputs": [
    {
     "name": "stdout",
     "output_type": "stream",
     "text": [
      "There are 2 features should be Skewed\n",
      "EnclosedPorch   2.07\n",
      "HalfBath        0.54\n",
      "dtype: float64\n"
     ]
    }
   ],
   "source": [
    "numcode_find_skew(train)"
   ]
  },
  {
   "cell_type": "code",
   "execution_count": 14,
   "metadata": {},
   "outputs": [
    {
     "name": "stdout",
     "output_type": "stream",
     "text": [
      "There are 3 features should be Skewed\n",
      "EnclosedPorch   1.90\n",
      "MasVnrArea      0.67\n",
      "HalfBath        0.61\n",
      "dtype: float64\n"
     ]
    }
   ],
   "source": [
    "numcode_find_skew(test)"
   ]
  },
  {
   "cell_type": "code",
   "execution_count": 15,
   "metadata": {},
   "outputs": [],
   "source": [
    "# should be deleted\n",
    "todel = ['EnclosedPorch', 'HalfBath', 'MasVnrArea']\n",
    "train.drop(todel, axis=1, inplace=True)\n",
    "test.drop(todel, axis=1, inplace=True)"
   ]
  },
  {
   "cell_type": "markdown",
   "metadata": {},
   "source": [
    "### encoding categorical"
   ]
  },
  {
   "cell_type": "code",
   "execution_count": 16,
   "metadata": {},
   "outputs": [],
   "source": [
    "def catcode(df):\n",
    "    cols = df.dtypes[df.dtypes=='category'].index\n",
    "    print('There are {} features from {} were encoded'.format(len(cols), df.shape[1]))\n",
    "    for col in cols:\n",
    "        tdf = pd.DataFrame(df[col])\n",
    "        tdf = pd.get_dummies(tdf)\n",
    "        tdf = tdf.drop(tdf.columns[0], axis=1)\n",
    "        df = pd.concat([df, tdf], axis=1).reset_index(drop=True)\n",
    "        df.drop(col, inplace=True, axis=1) #Delete actual column from dataframe\n",
    "    print('New shape is {}'.format(df.shape))\n",
    "    return df"
   ]
  },
  {
   "cell_type": "code",
   "execution_count": 17,
   "metadata": {},
   "outputs": [
    {
     "name": "stdout",
     "output_type": "stream",
     "text": [
      "There are 33 features from 47 were encoded\n",
      "New shape is (1448, 518)\n",
      "There are 33 features from 47 were encoded\n",
      "New shape is (1459, 508)\n"
     ]
    }
   ],
   "source": [
    "train = catcode(train)\n",
    "test = catcode(test)"
   ]
  },
  {
   "cell_type": "code",
   "execution_count": 18,
   "metadata": {},
   "outputs": [],
   "source": [
    "# manage shapes \n",
    "set1 = set(train.columns.tolist())\n",
    "set2 = set(test.columns.tolist())\n",
    "todel = list(set1.difference(set2))\n",
    "train.drop(todel, axis=1, inplace=True)\n",
    "todel2 = list(set2.difference(set1))\n",
    "test.drop(todel2, axis=1, inplace=True)"
   ]
  },
  {
   "cell_type": "markdown",
   "metadata": {},
   "source": [
    "### modeling"
   ]
  },
  {
   "cell_type": "code",
   "execution_count": 19,
   "metadata": {},
   "outputs": [],
   "source": [
    "#Defining cross validation strategy\n",
    "cross_val = KFold(n_splits=10, shuffle=True, random_state=42)\n",
    "\n",
    "#Define function to calculate rmse during training\n",
    "def rmse_train(model, x, y):\n",
    "    rmse = np.sqrt(-cross_val_score(model, x, y, scoring='neg_mean_squared_error', cv=cross_val, n_jobs=-1))\n",
    "    return rmse.mean()\n",
    "\n",
    "#Find rmse for prediction\n",
    "def rmse_pred(y, y_pred):\n",
    "    rmse = np.sqrt(mean_squared_error(y, y_pred))\n",
    "    return rmse"
   ]
  },
  {
   "cell_type": "code",
   "execution_count": 20,
   "metadata": {},
   "outputs": [],
   "source": [
    "#Building Function for Submission\n",
    "def Submission(prediction):\n",
    "    df_pred = pd.DataFrame({'Id':testid, 'SalePrice':prediction})\n",
    "    print('Sample Prediction:', prediction[:5])\n",
    "    \n",
    "    #Defining file name\n",
    "    tday = datetime.today()\n",
    "    tm = str(tday.date().day)+str(tday.date().month)+str('_')+str(tday.time().hour)+str(tday.time().minute)+str(tday.time().second)\n",
    "    fn = '...Subm.csv'\n",
    "    fn = str(fn)+str(tm)+str('.csv')\n",
    "    \n",
    "    #Saving prediction to csv\n",
    "    df_pred['Id'] +=1\n",
    "    df_pred.to_csv(fn, index=False)\n",
    "    print('Submission file saved to', os.path.realpath(fn))"
   ]
  },
  {
   "cell_type": "code",
   "execution_count": 21,
   "metadata": {},
   "outputs": [
    {
     "data": {
      "text/plain": [
       "((1448, 497), (1459, 497))"
      ]
     },
     "execution_count": 21,
     "metadata": {},
     "output_type": "execute_result"
    }
   ],
   "source": [
    "#Defining training inputs\n",
    "X_train = train.values\n",
    "y_train = y_train\n",
    "\n",
    "#Define test inputs\n",
    "X_test = test.values\n",
    "\n",
    "X_train.shape, X_test.shape"
   ]
  },
  {
   "cell_type": "code",
   "execution_count": 22,
   "metadata": {},
   "outputs": [
    {
     "data": {
      "text/plain": [
       "0.0003"
      ]
     },
     "execution_count": 22,
     "metadata": {},
     "output_type": "execute_result"
    }
   ],
   "source": [
    "# Lasso Model\n",
    "alphas=[0.0001, 0.0003, 0.0006, 0.001, 0.003, 0.006, 0.01, 0.03, 0.06, 0.1, 0.3, 0.6, 1, 2, 10, 20, 50]\n",
    "lcv = LassoCV(alphas=alphas, random_state=42, cv=cross_val, n_jobs=-1, max_iter=10000)\n",
    "lcv.fit(X_train, y_train)\n",
    "\n",
    "#Optimum alpha value for lasso model\n",
    "lcv.alpha_"
   ]
  },
  {
   "cell_type": "code",
   "execution_count": 23,
   "metadata": {},
   "outputs": [
    {
     "data": {
      "text/plain": [
       "Lasso(alpha=0.0003, copy_X=True, fit_intercept=True, max_iter=1000,\n",
       "      normalize=False, positive=False, precompute=False, random_state=42,\n",
       "      selection='cyclic', tol=0.0001, warm_start=False)"
      ]
     },
     "execution_count": 23,
     "metadata": {},
     "output_type": "execute_result"
    }
   ],
   "source": [
    "regressor_lasso = Lasso(alpha=0.0003, random_state=42)\n",
    "regressor_lasso.fit(X_train,y_train)"
   ]
  },
  {
   "cell_type": "code",
   "execution_count": 24,
   "metadata": {},
   "outputs": [
    {
     "name": "stdout",
     "output_type": "stream",
     "text": [
      "Training RMSE: 0.1255 \n",
      "Testing RMSE: 0.1042\n"
     ]
    }
   ],
   "source": [
    "#Review RMSE values for Lasso\n",
    "print('Training RMSE: {:.4f} '.format(rmse_train(regressor_lasso, X_train, y_train)))\n",
    "#Making prediction and review Test RMSE\n",
    "print('Testing RMSE: {:.4f}'.format(rmse_pred(y_train, regressor_lasso.predict(X_train))))"
   ]
  },
  {
   "cell_type": "code",
   "execution_count": 25,
   "metadata": {},
   "outputs": [
    {
     "name": "stdout",
     "output_type": "stream",
     "text": [
      "Sample Prediction: [111.86834267 148.55115234 184.93652996 194.9448483  194.31116059]\n",
      "Submission file saved to /home/lana/Desktop/DS_blog/Outbox/HPriceSubm.csv1211_213434.csv\n"
     ]
    }
   ],
   "source": [
    "#Scoring Lasso prediction\n",
    "pred = regressor_lasso.predict(X_test)\n",
    "pred = np.expm1(pred)\n",
    "Submission(pred)"
   ]
  },
  {
   "cell_type": "code",
   "execution_count": 26,
   "metadata": {},
   "outputs": [
    {
     "data": {
      "text/plain": [
       "10.0"
      ]
     },
     "execution_count": 26,
     "metadata": {},
     "output_type": "execute_result"
    }
   ],
   "source": [
    "#Building Ridge Model\n",
    "alphas2 = [10, 12, 16, 12.5, 17, 10.001]\n",
    "rcv = RidgeCV(alphas=alphas, scoring='neg_mean_squared_error', cv=cross_val)\n",
    "rcv.fit(X_train, y_train)\n",
    "rcv.alpha_"
   ]
  },
  {
   "cell_type": "code",
   "execution_count": 27,
   "metadata": {},
   "outputs": [
    {
     "data": {
      "text/plain": [
       "Ridge(alpha=10, copy_X=True, fit_intercept=True, max_iter=10000,\n",
       "      normalize=False, random_state=42, solver='auto', tol=0.001)"
      ]
     },
     "execution_count": 27,
     "metadata": {},
     "output_type": "execute_result"
    }
   ],
   "source": [
    "regressor_ridge = Ridge(alpha=10, max_iter=10000, random_state=42)\n",
    "regressor_ridge.fit(X_train,y_train)"
   ]
  },
  {
   "cell_type": "code",
   "execution_count": 28,
   "metadata": {},
   "outputs": [],
   "source": [
    "pred_ridge = regressor_ridge.predict(X_train)"
   ]
  },
  {
   "cell_type": "code",
   "execution_count": 29,
   "metadata": {},
   "outputs": [
    {
     "name": "stdout",
     "output_type": "stream",
     "text": [
      "Training RMSE:0.1262\n",
      "Testing RMSE:0.1006\n"
     ]
    }
   ],
   "source": [
    "#Review Train RMSE values\n",
    "print('Training RMSE:{:.4f}'.format(rmse_train(regressor_ridge, X_train, y_train)))\n",
    "#Making prediction and review Test RMSE\n",
    "print('Testing RMSE:{:.4f}'.format(rmse_pred(y_train, pred_ridge)))"
   ]
  },
  {
   "cell_type": "code",
   "execution_count": 30,
   "metadata": {},
   "outputs": [
    {
     "name": "stdout",
     "output_type": "stream",
     "text": [
      "Sample Prediction: [111.77467992 145.70852176 188.28810181 199.10213971 179.13308696]\n",
      "Submission file saved to /home/lana/Desktop/DS_blog/Outbox/HPriceSubm.csv1211_213441.csv\n"
     ]
    }
   ],
   "source": [
    "#Make Test Prediction\n",
    "pred_ridge = regressor_ridge.predict(X_test)\n",
    "pred_ridge = np.expm1(pred_ridge)\n",
    "Submission(pred_ridge)"
   ]
  },
  {
   "cell_type": "markdown",
   "metadata": {},
   "source": [
    "### final prediction"
   ]
  },
  {
   "cell_type": "code",
   "execution_count": 31,
   "metadata": {},
   "outputs": [
    {
     "name": "stdout",
     "output_type": "stream",
     "text": [
      "Sample Prediction: [111.82150158 147.12301809 186.60483153 197.01258397 186.56866016]\n",
      "Submission file saved to /home/lana/Desktop/DS_blog/Outbox/HPriceSubm.csv1211_213441.csv\n"
     ]
    }
   ],
   "source": [
    "#Test both lasso and ridge\n",
    "pred = regressor_lasso.predict(X_test)*0.5 + regressor_ridge.predict(X_test)*0.5\n",
    "pred = np.expm1(pred)\n",
    "Submission(pred)"
   ]
  },
  {
   "cell_type": "code",
   "execution_count": null,
   "metadata": {},
   "outputs": [],
   "source": []
  }
 ],
 "metadata": {
  "kernelspec": {
   "display_name": "Python 3",
   "language": "python",
   "name": "python3"
  },
  "language_info": {
   "codemirror_mode": {
    "name": "ipython",
    "version": 3
   },
   "file_extension": ".py",
   "mimetype": "text/x-python",
   "name": "python",
   "nbconvert_exporter": "python",
   "pygments_lexer": "ipython3",
   "version": "3.6.8"
  }
 },
 "nbformat": 4,
 "nbformat_minor": 2
}
