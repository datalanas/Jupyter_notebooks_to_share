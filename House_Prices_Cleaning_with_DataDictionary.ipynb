{
 "cells": [
  {
   "cell_type": "markdown",
   "metadata": {},
   "source": [
    "# Deep, deep cleaning. Data Dictionary, calculated columns, useless crowd, and more"
   ]
  },
  {
   "cell_type": "code",
   "execution_count": 1,
   "metadata": {},
   "outputs": [
    {
     "name": "stdout",
     "output_type": "stream",
     "text": [
      "Versions:\n",
      "  python 3.6.8\n",
      "  -- numpy 1.17.3\n",
      "  -- pandas 0.25.2\n"
     ]
    }
   ],
   "source": [
    "import numpy as np\n",
    "import pandas as pd\n",
    "pd.options.display.float_format = '{:,.2f}'.format\n",
    "from IPython.core.display import HTML \n",
    "\n",
    "import warnings\n",
    "warnings.filterwarnings(\"ignore\")\n",
    "\n",
    "import platform\n",
    "print('Versions:')\n",
    "print('  python', platform.python_version())\n",
    "n = ('numpy', 'pandas')\n",
    "nn = (np, pd)\n",
    "for a, b in zip(n, nn):\n",
    "    print('  --', str(a), b.__version__)"
   ]
  },
  {
   "cell_type": "code",
   "execution_count": 2,
   "metadata": {},
   "outputs": [],
   "source": [
    "pd.options.display.float_format = '{:,.2f}'.format\n",
    "pd.set_option('colheader_justify', 'left', 'display.max_colwidth', -1, )"
   ]
  },
  {
   "cell_type": "code",
   "execution_count": 3,
   "metadata": {},
   "outputs": [],
   "source": [
    "def dicts(w):\n",
    "    \"\"\"Print data and value dictionaries for columns which name contains specified text\"\"\"\n",
    "    print('Data Dictionary:')\n",
    "    display(HTML(ddict[ddict.index.str.contains(w)].to_html()))\n",
    "    print('Value Description:')\n",
    "    tdf = ddes[ddes['Feature'].str.contains(w)]\n",
    "    tdf = tdf[['Feature', 'Val', 'Value']]\n",
    "    display(HTML(tdf.to_html()))"
   ]
  },
  {
   "cell_type": "code",
   "execution_count": 4,
   "metadata": {},
   "outputs": [],
   "source": [
    "def noinfo(df, threshold):\n",
    "    \"\"\"Return a list, and number, of flat columns:\n",
    "    1. If missing values more than a threshold\n",
    "    2. If top value is used more than threshold times\"\"\"\n",
    "    flat = []\n",
    "    for col in df.columns:\n",
    "        if df[col].value_counts(normalize=True).to_frame().T.iloc[0,0] > threshold:\n",
    "            flat.append(col)  \n",
    "        if (df[col].isnull().sum() * 100 / len(df.index)) > (threshold*100):\n",
    "            flat.append(col)\n",
    "    flat = pd.unique(flat).tolist()\n",
    "    print(len(flat), 'columns are flat') \n",
    "    return flat"
   ]
  },
  {
   "cell_type": "code",
   "execution_count": 5,
   "metadata": {},
   "outputs": [
    {
     "name": "stdout",
     "output_type": "stream",
     "text": [
      "train shape: (1460, 80)\n",
      "test shape: (1459, 79)\n",
      "Concatenated data set has 2919 rows and 80 columns\n"
     ]
    }
   ],
   "source": [
    "train = pd.read_csv('.../HPriceKaggleTrain.csv', index_col='Id')\n",
    "print('train shape:', train.shape)\n",
    "test = pd.read_csv('.../HPriceKaggleTest.csv', index_col='Id')\n",
    "print('test shape:', test.shape)\n",
    "df = pd.concat([train, test], axis=0, sort=False).reset_index(drop=True)\n",
    "print('Concatenated data set has {} rows and {} columns'.format(df.shape[0], df.shape[1]))"
   ]
  },
  {
   "cell_type": "markdown",
   "metadata": {},
   "source": [
    "The importance of data cleaning is hard to overestimate - incorrect or inconsistent data leads to false conclusions.  \n",
    "\n",
    "And so, we should understand the data as much deep, as it possible.  \n",
    "\n",
    "Creating a Data Dictionary helps here a lot."
   ]
  },
  {
   "cell_type": "code",
   "execution_count": 6,
   "metadata": {},
   "outputs": [
    {
     "data": {
      "text/html": [
       "<div>\n",
       "<style scoped>\n",
       "    .dataframe tbody tr th:only-of-type {\n",
       "        vertical-align: middle;\n",
       "    }\n",
       "\n",
       "    .dataframe tbody tr th {\n",
       "        vertical-align: top;\n",
       "    }\n",
       "\n",
       "    .dataframe thead th {\n",
       "        text-align: right;\n",
       "    }\n",
       "</style>\n",
       "<table border=\"1\" class=\"dataframe\">\n",
       "  <thead>\n",
       "    <tr style=\"text-align: left;\">\n",
       "      <th></th>\n",
       "      <th>Description</th>\n",
       "      <th>#Unique</th>\n",
       "      <th>%Missing</th>\n",
       "      <th>TopValue</th>\n",
       "      <th>%UsedTop</th>\n",
       "      <th>Dtype</th>\n",
       "      <th>Type</th>\n",
       "      <th>Unit</th>\n",
       "    </tr>\n",
       "  </thead>\n",
       "  <tbody>\n",
       "    <tr>\n",
       "      <th>TotRmsAbvGrd</th>\n",
       "      <td>Total rooms above grade (does not include bathrooms)</td>\n",
       "      <td>14</td>\n",
       "      <td>0.00</td>\n",
       "      <td>6</td>\n",
       "      <td>28.91</td>\n",
       "      <td>int64</td>\n",
       "      <td>discrete</td>\n",
       "      <td>quantity</td>\n",
       "    </tr>\n",
       "  </tbody>\n",
       "</table>\n",
       "</div>"
      ],
      "text/plain": [
       "             Description                                             #Unique  \\\n",
       "TotRmsAbvGrd   Total rooms above grade (does not include bathrooms)  14        \n",
       "\n",
       "              %Missing TopValue  %UsedTop Dtype  Type      Unit       \n",
       "TotRmsAbvGrd 0.00       6       28.91      int64  discrete  quantity  "
      ]
     },
     "execution_count": 6,
     "metadata": {},
     "output_type": "execute_result"
    }
   ],
   "source": [
    "ddict = pd.read_excel('.../HPricesDDict.xlsx', index_col=0)\n",
    "ddict.sample()"
   ]
  },
  {
   "cell_type": "markdown",
   "metadata": {},
   "source": [
    "Data Dictionary has following columns:\n",
    "- 'Description' - feature meaning\n",
    "- '#Unique' - number of unique values in the columns where NaN calculated as value also  \n",
    "- '%Missing' - % of missing values\n",
    "- 'TopValue' - the most used value  \n",
    "- '%UsedTop' - % of using top value  \n",
    "- 'Dtype' - column's python data type \n",
    "- 'Type' - column's data type \n",
    "- 'Unit' - given unit of value "
   ]
  },
  {
   "cell_type": "code",
   "execution_count": 7,
   "metadata": {},
   "outputs": [
    {
     "data": {
      "text/html": [
       "<div>\n",
       "<style scoped>\n",
       "    .dataframe tbody tr th:only-of-type {\n",
       "        vertical-align: middle;\n",
       "    }\n",
       "\n",
       "    .dataframe tbody tr th {\n",
       "        vertical-align: top;\n",
       "    }\n",
       "\n",
       "    .dataframe thead th {\n",
       "        text-align: right;\n",
       "    }\n",
       "</style>\n",
       "<table border=\"1\" class=\"dataframe\">\n",
       "  <thead>\n",
       "    <tr style=\"text-align: left;\">\n",
       "      <th></th>\n",
       "      <th>Feature</th>\n",
       "      <th>Descript</th>\n",
       "      <th>Val</th>\n",
       "      <th>Value</th>\n",
       "      <th>Type</th>\n",
       "      <th>Unit</th>\n",
       "    </tr>\n",
       "  </thead>\n",
       "  <tbody>\n",
       "    <tr>\n",
       "      <th>114</th>\n",
       "      <td>OverallQual</td>\n",
       "      <td>Rates the overall material and finish of the house</td>\n",
       "      <td>3</td>\n",
       "      <td>Fair</td>\n",
       "      <td>ordinal</td>\n",
       "      <td>rate</td>\n",
       "    </tr>\n",
       "  </tbody>\n",
       "</table>\n",
       "</div>"
      ],
      "text/plain": [
       "    Feature      Descript                                             Val  \\\n",
       "114  OverallQual   Rates the overall material and finish of the house  3    \n",
       "\n",
       "    Value Type     Unit   \n",
       "114  Fair  ordinal  rate  "
      ]
     },
     "execution_count": 7,
     "metadata": {},
     "output_type": "execute_result"
    }
   ],
   "source": [
    "ddes = pd.read_excel('.../HPricesDDescribtion.xlsx', index_col=0)\n",
    "ddes.sample()"
   ]
  },
  {
   "cell_type": "markdown",
   "metadata": {},
   "source": [
    "A Data Description file was created first and contains fewer common information, but it has description for every categorical value.\n",
    "- 'Feature' - main data set column name\n",
    "- 'Descript' - feature meaning\n",
    "- 'Val' - value\n",
    "- 'Value' - value meaning\n",
    "- 'Type' - column's data type\n",
    "- 'Unit' - given unit of value"
   ]
  },
  {
   "cell_type": "markdown",
   "metadata": {},
   "source": [
    "# Memory usage"
   ]
  },
  {
   "cell_type": "code",
   "execution_count": 8,
   "metadata": {},
   "outputs": [
    {
     "name": "stdout",
     "output_type": "stream",
     "text": [
      "1824.5 MB\n"
     ]
    }
   ],
   "source": [
    "mu_before = round(df.memory_usage(index=True).sum()/1024, 2)\n",
    "print(mu_before, 'MB')"
   ]
  },
  {
   "cell_type": "code",
   "execution_count": 9,
   "metadata": {},
   "outputs": [
    {
     "data": {
      "text/html": [
       "<div>\n",
       "<style scoped>\n",
       "    .dataframe tbody tr th:only-of-type {\n",
       "        vertical-align: middle;\n",
       "    }\n",
       "\n",
       "    .dataframe tbody tr th {\n",
       "        vertical-align: top;\n",
       "    }\n",
       "\n",
       "    .dataframe thead th {\n",
       "        text-align: right;\n",
       "    }\n",
       "</style>\n",
       "<table border=\"1\" class=\"dataframe\">\n",
       "  <thead>\n",
       "    <tr style=\"text-align: left;\">\n",
       "      <th></th>\n",
       "      <th>0</th>\n",
       "    </tr>\n",
       "  </thead>\n",
       "  <tbody>\n",
       "    <tr>\n",
       "      <th>CentralAir</th>\n",
       "      <td>192654</td>\n",
       "    </tr>\n",
       "    <tr>\n",
       "      <th>PavedDrive</th>\n",
       "      <td>192654</td>\n",
       "    </tr>\n",
       "    <tr>\n",
       "      <th>RoofMatl</th>\n",
       "      <td>186811</td>\n",
       "    </tr>\n",
       "    <tr>\n",
       "      <th>Exterior1st</th>\n",
       "      <td>186735</td>\n",
       "    </tr>\n",
       "    <tr>\n",
       "      <th>Exterior2nd</th>\n",
       "      <td>186720</td>\n",
       "    </tr>\n",
       "  </tbody>\n",
       "</table>\n",
       "</div>"
      ],
      "text/plain": [
       "             0     \n",
       "CentralAir   192654\n",
       "PavedDrive   192654\n",
       "RoofMatl     186811\n",
       "Exterior1st  186735\n",
       "Exterior2nd  186720"
      ]
     },
     "execution_count": 9,
     "metadata": {},
     "output_type": "execute_result"
    }
   ],
   "source": [
    "df.memory_usage(deep=True).nlargest().to_frame()"
   ]
  },
  {
   "cell_type": "markdown",
   "metadata": {},
   "source": [
    "As we know, casting object data to categorical decrease a memory usage tremendously. Let's take a look."
   ]
  },
  {
   "cell_type": "code",
   "execution_count": 10,
   "metadata": {},
   "outputs": [
    {
     "data": {
      "text/plain": [
       "43"
      ]
     },
     "execution_count": 10,
     "metadata": {},
     "output_type": "execute_result"
    }
   ],
   "source": [
    "cols = df.dtypes[df.dtypes=='object'].index.to_list()\n",
    "len(cols)"
   ]
  },
  {
   "cell_type": "markdown",
   "metadata": {},
   "source": [
    "We have 43 object features here.  \n",
    "Let's find a columns with a maximum of unique values to make a decision (we can cast not very vary features only)."
   ]
  },
  {
   "cell_type": "code",
   "execution_count": 11,
   "metadata": {
    "scrolled": true
   },
   "outputs": [
    {
     "data": {
      "text/plain": [
       "Neighborhood    25\n",
       "Exterior2nd     16\n",
       "Exterior1st     15\n",
       "Condition1      9 \n",
       "SaleType        9 \n",
       "Name: unique, dtype: object"
      ]
     },
     "execution_count": 11,
     "metadata": {},
     "output_type": "execute_result"
    }
   ],
   "source": [
    "df[cols].describe(include='all').loc['unique', :].sort_values(ascending=False).head()"
   ]
  },
  {
   "cell_type": "markdown",
   "metadata": {},
   "source": [
    "Thus, we can change data types for all this features and check the memory usage again"
   ]
  },
  {
   "cell_type": "code",
   "execution_count": 12,
   "metadata": {},
   "outputs": [
    {
     "name": "stdout",
     "output_type": "stream",
     "text": [
      "976.8798828125 MB\n"
     ]
    }
   ],
   "source": [
    "for col in cols:\n",
    "    df[col] = df[col].astype('category')\n",
    "    \n",
    "print(df.memory_usage(index=True).sum()/1024, 'MB')    "
   ]
  },
  {
   "cell_type": "markdown",
   "metadata": {},
   "source": [
    "# Duplicates\n",
    "Simple but important step"
   ]
  },
  {
   "cell_type": "code",
   "execution_count": 13,
   "metadata": {},
   "outputs": [
    {
     "data": {
      "text/plain": [
       "0"
      ]
     },
     "execution_count": 13,
     "metadata": {},
     "output_type": "execute_result"
    }
   ],
   "source": [
    "df.duplicated().sum()"
   ]
  },
  {
   "cell_type": "markdown",
   "metadata": {},
   "source": [
    "# Feature Selection"
   ]
  },
  {
   "cell_type": "markdown",
   "metadata": {},
   "source": [
    "### Extraction of calculated columns:"
   ]
  },
  {
   "cell_type": "code",
   "execution_count": 14,
   "metadata": {},
   "outputs": [
    {
     "data": {
      "text/html": [
       "<div>\n",
       "<style scoped>\n",
       "    .dataframe tbody tr th:only-of-type {\n",
       "        vertical-align: middle;\n",
       "    }\n",
       "\n",
       "    .dataframe tbody tr th {\n",
       "        vertical-align: top;\n",
       "    }\n",
       "\n",
       "    .dataframe thead th {\n",
       "        text-align: right;\n",
       "    }\n",
       "</style>\n",
       "<table border=\"1\" class=\"dataframe\">\n",
       "  <thead>\n",
       "    <tr style=\"text-align: left;\">\n",
       "      <th></th>\n",
       "      <th>Description</th>\n",
       "      <th>#Unique</th>\n",
       "      <th>%Missing</th>\n",
       "      <th>TopValue</th>\n",
       "      <th>%UsedTop</th>\n",
       "      <th>Dtype</th>\n",
       "      <th>Type</th>\n",
       "      <th>Unit</th>\n",
       "    </tr>\n",
       "  </thead>\n",
       "  <tbody>\n",
       "    <tr>\n",
       "      <th>1stFlrSF</th>\n",
       "      <td>First Floor square feet</td>\n",
       "      <td>1083</td>\n",
       "      <td>0.00</td>\n",
       "      <td>864</td>\n",
       "      <td>1.58</td>\n",
       "      <td>int64</td>\n",
       "      <td>cont</td>\n",
       "      <td>square feet</td>\n",
       "    </tr>\n",
       "    <tr>\n",
       "      <th>2ndFlrSF</th>\n",
       "      <td>Second floor square feet</td>\n",
       "      <td>635</td>\n",
       "      <td>0.00</td>\n",
       "      <td>0</td>\n",
       "      <td>57.14</td>\n",
       "      <td>int64</td>\n",
       "      <td>cont</td>\n",
       "      <td>square feet</td>\n",
       "    </tr>\n",
       "    <tr>\n",
       "      <th>3SsnPorch</th>\n",
       "      <td>Three season porch area in square feet</td>\n",
       "      <td>31</td>\n",
       "      <td>0.00</td>\n",
       "      <td>0</td>\n",
       "      <td>98.73</td>\n",
       "      <td>int64</td>\n",
       "      <td>cont</td>\n",
       "      <td>square feet</td>\n",
       "    </tr>\n",
       "    <tr>\n",
       "      <th>BsmtFinSF1</th>\n",
       "      <td>Type 1 finished square feet</td>\n",
       "      <td>992</td>\n",
       "      <td>0.03</td>\n",
       "      <td>0</td>\n",
       "      <td>31.83</td>\n",
       "      <td>float64</td>\n",
       "      <td>cont</td>\n",
       "      <td>square feet</td>\n",
       "    </tr>\n",
       "    <tr>\n",
       "      <th>BsmtFinSF2</th>\n",
       "      <td>Type 2 finished square feet</td>\n",
       "      <td>273</td>\n",
       "      <td>0.03</td>\n",
       "      <td>0</td>\n",
       "      <td>88.08</td>\n",
       "      <td>float64</td>\n",
       "      <td>cont</td>\n",
       "      <td>square feet</td>\n",
       "    </tr>\n",
       "    <tr>\n",
       "      <th>BsmtUnfSF</th>\n",
       "      <td>Unfinished square feet of basement area</td>\n",
       "      <td>1136</td>\n",
       "      <td>0.03</td>\n",
       "      <td>0</td>\n",
       "      <td>8.26</td>\n",
       "      <td>float64</td>\n",
       "      <td>cont</td>\n",
       "      <td>square feet</td>\n",
       "    </tr>\n",
       "    <tr>\n",
       "      <th>EnclosedPorch</th>\n",
       "      <td>Enclosed porch area in square feet</td>\n",
       "      <td>183</td>\n",
       "      <td>0.00</td>\n",
       "      <td>0</td>\n",
       "      <td>84.28</td>\n",
       "      <td>int64</td>\n",
       "      <td>cont</td>\n",
       "      <td>square feet</td>\n",
       "    </tr>\n",
       "    <tr>\n",
       "      <th>GarageArea</th>\n",
       "      <td>Size of garage in square feet</td>\n",
       "      <td>604</td>\n",
       "      <td>0.03</td>\n",
       "      <td>0</td>\n",
       "      <td>5.38</td>\n",
       "      <td>float64</td>\n",
       "      <td>cont</td>\n",
       "      <td>square feet</td>\n",
       "    </tr>\n",
       "    <tr>\n",
       "      <th>GrLivArea</th>\n",
       "      <td>Above grade (ground) living area square feet</td>\n",
       "      <td>1292</td>\n",
       "      <td>0.00</td>\n",
       "      <td>864</td>\n",
       "      <td>1.40</td>\n",
       "      <td>int64</td>\n",
       "      <td>cont</td>\n",
       "      <td>square feet</td>\n",
       "    </tr>\n",
       "    <tr>\n",
       "      <th>LotArea</th>\n",
       "      <td>Lot size in square feet</td>\n",
       "      <td>1951</td>\n",
       "      <td>0.00</td>\n",
       "      <td>9600</td>\n",
       "      <td>1.51</td>\n",
       "      <td>int64</td>\n",
       "      <td>cont</td>\n",
       "      <td>square feet</td>\n",
       "    </tr>\n",
       "    <tr>\n",
       "      <th>LowQualFinSF</th>\n",
       "      <td>Low quality finished square feet (all floors)</td>\n",
       "      <td>36</td>\n",
       "      <td>0.00</td>\n",
       "      <td>0</td>\n",
       "      <td>98.63</td>\n",
       "      <td>int64</td>\n",
       "      <td>cont</td>\n",
       "      <td>square feet</td>\n",
       "    </tr>\n",
       "    <tr>\n",
       "      <th>MasVnrArea</th>\n",
       "      <td>Masonry veneer area in square feet</td>\n",
       "      <td>445</td>\n",
       "      <td>0.79</td>\n",
       "      <td>0</td>\n",
       "      <td>59.54</td>\n",
       "      <td>float64</td>\n",
       "      <td>cont</td>\n",
       "      <td>square feet</td>\n",
       "    </tr>\n",
       "    <tr>\n",
       "      <th>OpenPorchSF</th>\n",
       "      <td>Open porch area in square feet</td>\n",
       "      <td>252</td>\n",
       "      <td>0.00</td>\n",
       "      <td>0</td>\n",
       "      <td>44.47</td>\n",
       "      <td>int64</td>\n",
       "      <td>cont</td>\n",
       "      <td>square feet</td>\n",
       "    </tr>\n",
       "    <tr>\n",
       "      <th>PoolArea</th>\n",
       "      <td>Pool area in square feet</td>\n",
       "      <td>14</td>\n",
       "      <td>0.00</td>\n",
       "      <td>0</td>\n",
       "      <td>99.55</td>\n",
       "      <td>int64</td>\n",
       "      <td>cont</td>\n",
       "      <td>square feet</td>\n",
       "    </tr>\n",
       "    <tr>\n",
       "      <th>ScreenPorch</th>\n",
       "      <td>Screen porch area in square feet</td>\n",
       "      <td>121</td>\n",
       "      <td>0.00</td>\n",
       "      <td>0</td>\n",
       "      <td>91.23</td>\n",
       "      <td>int64</td>\n",
       "      <td>cont</td>\n",
       "      <td>square feet</td>\n",
       "    </tr>\n",
       "    <tr>\n",
       "      <th>TotalBsmtSF</th>\n",
       "      <td>Total square feet of basement area</td>\n",
       "      <td>1059</td>\n",
       "      <td>0.03</td>\n",
       "      <td>0</td>\n",
       "      <td>2.67</td>\n",
       "      <td>float64</td>\n",
       "      <td>cont</td>\n",
       "      <td>square feet</td>\n",
       "    </tr>\n",
       "    <tr>\n",
       "      <th>WoodDeckSF</th>\n",
       "      <td>Wood deck area in square feet</td>\n",
       "      <td>379</td>\n",
       "      <td>0.00</td>\n",
       "      <td>0</td>\n",
       "      <td>52.18</td>\n",
       "      <td>int64</td>\n",
       "      <td>cont</td>\n",
       "      <td>square feet</td>\n",
       "    </tr>\n",
       "  </tbody>\n",
       "</table>\n",
       "</div>"
      ],
      "text/plain": [
       "              Description                                      #Unique  \\\n",
       "1stFlrSF        First Floor square feet                        1083      \n",
       "2ndFlrSF        Second floor square feet                       635       \n",
       "3SsnPorch       Three season porch area in square feet         31        \n",
       "BsmtFinSF1      Type 1 finished square feet                    992       \n",
       "BsmtFinSF2      Type 2 finished square feet                    273       \n",
       "BsmtUnfSF       Unfinished square feet of basement area        1136      \n",
       "EnclosedPorch   Enclosed porch area in square feet             183       \n",
       "GarageArea      Size of garage in square feet                  604       \n",
       "GrLivArea       Above grade (ground) living area square feet   1292      \n",
       "LotArea         Lot size in square feet                        1951      \n",
       "LowQualFinSF    Low quality finished square feet (all floors)  36        \n",
       "MasVnrArea      Masonry veneer area in square feet             445       \n",
       "OpenPorchSF     Open porch area in square feet                 252       \n",
       "PoolArea        Pool area in square feet                       14        \n",
       "ScreenPorch     Screen porch area in square feet               121       \n",
       "TotalBsmtSF     Total square feet of basement area             1059      \n",
       "WoodDeckSF      Wood deck area in square feet                  379       \n",
       "\n",
       "               %Missing TopValue  %UsedTop Dtype    Type  Unit          \n",
       "1stFlrSF      0.00       864     1.58       int64    cont  square feet  \n",
       "2ndFlrSF      0.00       0       57.14      int64    cont  square feet  \n",
       "3SsnPorch     0.00       0       98.73      int64    cont  square feet  \n",
       "BsmtFinSF1    0.03       0       31.83      float64  cont  square feet  \n",
       "BsmtFinSF2    0.03       0       88.08      float64  cont  square feet  \n",
       "BsmtUnfSF     0.03       0       8.26       float64  cont  square feet  \n",
       "EnclosedPorch 0.00       0       84.28      int64    cont  square feet  \n",
       "GarageArea    0.03       0       5.38       float64  cont  square feet  \n",
       "GrLivArea     0.00       864     1.40       int64    cont  square feet  \n",
       "LotArea       0.00       9600    1.51       int64    cont  square feet  \n",
       "LowQualFinSF  0.00       0       98.63      int64    cont  square feet  \n",
       "MasVnrArea    0.79       0       59.54      float64  cont  square feet  \n",
       "OpenPorchSF   0.00       0       44.47      int64    cont  square feet  \n",
       "PoolArea      0.00       0       99.55      int64    cont  square feet  \n",
       "ScreenPorch   0.00       0       91.23      int64    cont  square feet  \n",
       "TotalBsmtSF   0.03       0       2.67       float64  cont  square feet  \n",
       "WoodDeckSF    0.00       0       52.18      int64    cont  square feet  "
      ]
     },
     "execution_count": 14,
     "metadata": {},
     "output_type": "execute_result"
    }
   ],
   "source": [
    "sf = ddict[ddict['Unit']=='square feet']\n",
    "sf"
   ]
  },
  {
   "cell_type": "code",
   "execution_count": 15,
   "metadata": {},
   "outputs": [
    {
     "data": {
      "text/html": [
       "<div>\n",
       "<style scoped>\n",
       "    .dataframe tbody tr th:only-of-type {\n",
       "        vertical-align: middle;\n",
       "    }\n",
       "\n",
       "    .dataframe tbody tr th {\n",
       "        vertical-align: top;\n",
       "    }\n",
       "\n",
       "    .dataframe thead th {\n",
       "        text-align: right;\n",
       "    }\n",
       "</style>\n",
       "<table border=\"1\" class=\"dataframe\">\n",
       "  <thead>\n",
       "    <tr style=\"text-align: left;\">\n",
       "      <th></th>\n",
       "      <th>1stFlrSF</th>\n",
       "      <th>2ndFlrSF</th>\n",
       "      <th>3SsnPorch</th>\n",
       "      <th>BsmtFinSF1</th>\n",
       "      <th>BsmtFinSF2</th>\n",
       "      <th>BsmtUnfSF</th>\n",
       "      <th>EnclosedPorch</th>\n",
       "      <th>GarageArea</th>\n",
       "      <th>GrLivArea</th>\n",
       "      <th>LotArea</th>\n",
       "      <th>LowQualFinSF</th>\n",
       "      <th>MasVnrArea</th>\n",
       "      <th>OpenPorchSF</th>\n",
       "      <th>PoolArea</th>\n",
       "      <th>ScreenPorch</th>\n",
       "      <th>TotalBsmtSF</th>\n",
       "      <th>WoodDeckSF</th>\n",
       "    </tr>\n",
       "  </thead>\n",
       "  <tbody>\n",
       "    <tr>\n",
       "      <th>2681</th>\n",
       "      <td>1358</td>\n",
       "      <td>1368</td>\n",
       "      <td>0</td>\n",
       "      <td>527.00</td>\n",
       "      <td>0.00</td>\n",
       "      <td>815.00</td>\n",
       "      <td>168</td>\n",
       "      <td>725.00</td>\n",
       "      <td>2726</td>\n",
       "      <td>10019</td>\n",
       "      <td>0</td>\n",
       "      <td>397.00</td>\n",
       "      <td>169</td>\n",
       "      <td>0</td>\n",
       "      <td>0</td>\n",
       "      <td>1,342.00</td>\n",
       "      <td>307</td>\n",
       "    </tr>\n",
       "  </tbody>\n",
       "</table>\n",
       "</div>"
      ],
      "text/plain": [
       "      1stFlrSF  2ndFlrSF  3SsnPorch  BsmtFinSF1  BsmtFinSF2  BsmtUnfSF  \\\n",
       "2681  1358      1368      0         527.00      0.00        815.00       \n",
       "\n",
       "      EnclosedPorch  GarageArea  GrLivArea  LotArea  LowQualFinSF  MasVnrArea  \\\n",
       "2681  168           725.00       2726       10019    0            397.00        \n",
       "\n",
       "      OpenPorchSF  PoolArea  ScreenPorch  TotalBsmtSF  WoodDeckSF  \n",
       "2681  169          0         0           1,342.00      307         "
      ]
     },
     "execution_count": 15,
     "metadata": {},
     "output_type": "execute_result"
    }
   ],
   "source": [
    "df[sf.index].sample()"
   ]
  },
  {
   "cell_type": "code",
   "execution_count": 16,
   "metadata": {},
   "outputs": [
    {
     "data": {
      "text/html": [
       "<div>\n",
       "<style scoped>\n",
       "    .dataframe tbody tr th:only-of-type {\n",
       "        vertical-align: middle;\n",
       "    }\n",
       "\n",
       "    .dataframe tbody tr th {\n",
       "        vertical-align: top;\n",
       "    }\n",
       "\n",
       "    .dataframe thead th {\n",
       "        text-align: right;\n",
       "    }\n",
       "</style>\n",
       "<table border=\"1\" class=\"dataframe\">\n",
       "  <thead>\n",
       "    <tr style=\"text-align: left;\">\n",
       "      <th></th>\n",
       "      <th>1stFlrSF</th>\n",
       "      <th>2ndFlrSF</th>\n",
       "      <th>LowQualFinSF</th>\n",
       "      <th>GrLivArea</th>\n",
       "    </tr>\n",
       "  </thead>\n",
       "  <tbody>\n",
       "    <tr>\n",
       "      <th>633</th>\n",
       "      <td>1056</td>\n",
       "      <td>0</td>\n",
       "      <td>0</td>\n",
       "      <td>1056</td>\n",
       "    </tr>\n",
       "  </tbody>\n",
       "</table>\n",
       "</div>"
      ],
      "text/plain": [
       "     1stFlrSF  2ndFlrSF  LowQualFinSF  GrLivArea\n",
       "633  1056      0         0             1056     "
      ]
     },
     "execution_count": 16,
     "metadata": {},
     "output_type": "execute_result"
    }
   ],
   "source": [
    "df[['1stFlrSF', '2ndFlrSF', 'LowQualFinSF', 'GrLivArea']].sample()"
   ]
  },
  {
   "cell_type": "markdown",
   "metadata": {},
   "source": [
    "Looks like there are calculated columns here, let's check"
   ]
  },
  {
   "cell_type": "code",
   "execution_count": 17,
   "metadata": {},
   "outputs": [
    {
     "data": {
      "text/plain": [
       "True"
      ]
     },
     "execution_count": 17,
     "metadata": {},
     "output_type": "execute_result"
    }
   ],
   "source": [
    "df['Temp'] = df['1stFlrSF'] + df['2ndFlrSF'] + df['LowQualFinSF']\n",
    "df['Temp'].equals(df['GrLivArea'])"
   ]
  },
  {
   "cell_type": "code",
   "execution_count": 18,
   "metadata": {},
   "outputs": [
    {
     "data": {
      "text/html": [
       "<div>\n",
       "<style scoped>\n",
       "    .dataframe tbody tr th:only-of-type {\n",
       "        vertical-align: middle;\n",
       "    }\n",
       "\n",
       "    .dataframe tbody tr th {\n",
       "        vertical-align: top;\n",
       "    }\n",
       "\n",
       "    .dataframe thead th {\n",
       "        text-align: right;\n",
       "    }\n",
       "</style>\n",
       "<table border=\"1\" class=\"dataframe\">\n",
       "  <thead>\n",
       "    <tr style=\"text-align: left;\">\n",
       "      <th></th>\n",
       "      <th>BsmtFinSF1</th>\n",
       "      <th>BsmtFinSF2</th>\n",
       "      <th>BsmtUnfSF</th>\n",
       "      <th>TotalBsmtSF</th>\n",
       "    </tr>\n",
       "  </thead>\n",
       "  <tbody>\n",
       "    <tr>\n",
       "      <th>1852</th>\n",
       "      <td>552.00</td>\n",
       "      <td>393.00</td>\n",
       "      <td>104.00</td>\n",
       "      <td>1,049.00</td>\n",
       "    </tr>\n",
       "  </tbody>\n",
       "</table>\n",
       "</div>"
      ],
      "text/plain": [
       "      BsmtFinSF1  BsmtFinSF2  BsmtUnfSF  TotalBsmtSF\n",
       "1852 552.00      393.00      104.00     1,049.00    "
      ]
     },
     "execution_count": 18,
     "metadata": {},
     "output_type": "execute_result"
    }
   ],
   "source": [
    "df[['BsmtFinSF1', 'BsmtFinSF2', 'BsmtUnfSF', 'TotalBsmtSF']].sample()"
   ]
  },
  {
   "cell_type": "code",
   "execution_count": 19,
   "metadata": {},
   "outputs": [
    {
     "data": {
      "text/plain": [
       "True"
      ]
     },
     "execution_count": 19,
     "metadata": {},
     "output_type": "execute_result"
    }
   ],
   "source": [
    "df['Temp'] = df['BsmtFinSF1'] + df['BsmtFinSF2'] + df['BsmtUnfSF']\n",
    "df['Temp'].equals(df['TotalBsmtSF'])"
   ]
  },
  {
   "cell_type": "code",
   "execution_count": 20,
   "metadata": {},
   "outputs": [
    {
     "data": {
      "text/html": [
       "<div>\n",
       "<style scoped>\n",
       "    .dataframe tbody tr th:only-of-type {\n",
       "        vertical-align: middle;\n",
       "    }\n",
       "\n",
       "    .dataframe tbody tr th {\n",
       "        vertical-align: top;\n",
       "    }\n",
       "\n",
       "    .dataframe thead th {\n",
       "        text-align: right;\n",
       "    }\n",
       "</style>\n",
       "<table border=\"1\" class=\"dataframe\">\n",
       "  <thead>\n",
       "    <tr style=\"text-align: left;\">\n",
       "      <th></th>\n",
       "      <th>3SsnPorch</th>\n",
       "      <th>EnclosedPorch</th>\n",
       "      <th>OpenPorchSF</th>\n",
       "      <th>ScreenPorch</th>\n",
       "      <th>GarageArea</th>\n",
       "      <th>LotArea</th>\n",
       "      <th>MasVnrArea</th>\n",
       "      <th>PoolArea</th>\n",
       "      <th>WoodDeckSF</th>\n",
       "    </tr>\n",
       "  </thead>\n",
       "  <tbody>\n",
       "    <tr>\n",
       "      <th>2174</th>\n",
       "      <td>0</td>\n",
       "      <td>0</td>\n",
       "      <td>116</td>\n",
       "      <td>0</td>\n",
       "      <td>725.00</td>\n",
       "      <td>9720</td>\n",
       "      <td>134.00</td>\n",
       "      <td>0</td>\n",
       "      <td>168</td>\n",
       "    </tr>\n",
       "  </tbody>\n",
       "</table>\n",
       "</div>"
      ],
      "text/plain": [
       "      3SsnPorch  EnclosedPorch  OpenPorchSF  ScreenPorch  GarageArea  LotArea  \\\n",
       "2174  0          0              116          0           725.00       9720      \n",
       "\n",
       "      MasVnrArea  PoolArea  WoodDeckSF  \n",
       "2174 134.00       0         168         "
      ]
     },
     "execution_count": 20,
     "metadata": {},
     "output_type": "execute_result"
    }
   ],
   "source": [
    "df[['3SsnPorch', 'EnclosedPorch', 'OpenPorchSF', 'ScreenPorch', 'GarageArea', 'LotArea', 'MasVnrArea',  'PoolArea', 'WoodDeckSF']].sample()"
   ]
  },
  {
   "cell_type": "code",
   "execution_count": 21,
   "metadata": {},
   "outputs": [
    {
     "data": {
      "text/html": [
       "<div>\n",
       "<style scoped>\n",
       "    .dataframe tbody tr th:only-of-type {\n",
       "        vertical-align: middle;\n",
       "    }\n",
       "\n",
       "    .dataframe tbody tr th {\n",
       "        vertical-align: top;\n",
       "    }\n",
       "\n",
       "    .dataframe thead th {\n",
       "        text-align: right;\n",
       "    }\n",
       "</style>\n",
       "<table border=\"1\" class=\"dataframe\">\n",
       "  <thead>\n",
       "    <tr style=\"text-align: left;\">\n",
       "      <th></th>\n",
       "      <th>Description</th>\n",
       "      <th>#Unique</th>\n",
       "      <th>%Missing</th>\n",
       "      <th>TopValue</th>\n",
       "      <th>%UsedTop</th>\n",
       "      <th>Dtype</th>\n",
       "      <th>Type</th>\n",
       "      <th>Unit</th>\n",
       "    </tr>\n",
       "  </thead>\n",
       "  <tbody>\n",
       "    <tr>\n",
       "      <th>BedroomAbvGr</th>\n",
       "      <td>Bedrooms above grade (does NOT include basement bedrooms)</td>\n",
       "      <td>8</td>\n",
       "      <td>0.00</td>\n",
       "      <td>3</td>\n",
       "      <td>54.68</td>\n",
       "      <td>int64</td>\n",
       "      <td>discrete</td>\n",
       "      <td>quantity</td>\n",
       "    </tr>\n",
       "    <tr>\n",
       "      <th>BsmtFullBath</th>\n",
       "      <td>Basement full bathrooms</td>\n",
       "      <td>5</td>\n",
       "      <td>0.07</td>\n",
       "      <td>0</td>\n",
       "      <td>58.41</td>\n",
       "      <td>float64</td>\n",
       "      <td>discrete</td>\n",
       "      <td>quantity</td>\n",
       "    </tr>\n",
       "    <tr>\n",
       "      <th>BsmtHalfBath</th>\n",
       "      <td>Basement half bathrooms</td>\n",
       "      <td>4</td>\n",
       "      <td>0.07</td>\n",
       "      <td>0</td>\n",
       "      <td>93.94</td>\n",
       "      <td>float64</td>\n",
       "      <td>discrete</td>\n",
       "      <td>quantity</td>\n",
       "    </tr>\n",
       "    <tr>\n",
       "      <th>Fireplaces</th>\n",
       "      <td>Number of fireplaces</td>\n",
       "      <td>5</td>\n",
       "      <td>0.00</td>\n",
       "      <td>0</td>\n",
       "      <td>48.65</td>\n",
       "      <td>int64</td>\n",
       "      <td>discrete</td>\n",
       "      <td>quantity</td>\n",
       "    </tr>\n",
       "    <tr>\n",
       "      <th>FullBath</th>\n",
       "      <td>Full bathrooms above grade</td>\n",
       "      <td>5</td>\n",
       "      <td>0.00</td>\n",
       "      <td>2</td>\n",
       "      <td>52.42</td>\n",
       "      <td>int64</td>\n",
       "      <td>discrete</td>\n",
       "      <td>quantity</td>\n",
       "    </tr>\n",
       "    <tr>\n",
       "      <th>GarageCars</th>\n",
       "      <td>Size of garage in car capacity</td>\n",
       "      <td>7</td>\n",
       "      <td>0.03</td>\n",
       "      <td>2</td>\n",
       "      <td>54.61</td>\n",
       "      <td>float64</td>\n",
       "      <td>discrete</td>\n",
       "      <td>quantity</td>\n",
       "    </tr>\n",
       "    <tr>\n",
       "      <th>HalfBath</th>\n",
       "      <td>Half baths above grade</td>\n",
       "      <td>3</td>\n",
       "      <td>0.00</td>\n",
       "      <td>0</td>\n",
       "      <td>62.83</td>\n",
       "      <td>int64</td>\n",
       "      <td>discrete</td>\n",
       "      <td>quantity</td>\n",
       "    </tr>\n",
       "    <tr>\n",
       "      <th>KitchenAbvGr</th>\n",
       "      <td>Kitchens above grade</td>\n",
       "      <td>4</td>\n",
       "      <td>0.00</td>\n",
       "      <td>1</td>\n",
       "      <td>95.41</td>\n",
       "      <td>int64</td>\n",
       "      <td>discrete</td>\n",
       "      <td>quantity</td>\n",
       "    </tr>\n",
       "    <tr>\n",
       "      <th>TotRmsAbvGrd</th>\n",
       "      <td>Total rooms above grade (does not include bathrooms)</td>\n",
       "      <td>14</td>\n",
       "      <td>0.00</td>\n",
       "      <td>6</td>\n",
       "      <td>28.91</td>\n",
       "      <td>int64</td>\n",
       "      <td>discrete</td>\n",
       "      <td>quantity</td>\n",
       "    </tr>\n",
       "  </tbody>\n",
       "</table>\n",
       "</div>"
      ],
      "text/plain": [
       "             Description                                                  \\\n",
       "BedroomAbvGr   Bedrooms above grade (does NOT include basement bedrooms)   \n",
       "BsmtFullBath   Basement full bathrooms                                     \n",
       "BsmtHalfBath   Basement half bathrooms                                     \n",
       "Fireplaces     Number of fireplaces                                        \n",
       "FullBath       Full bathrooms above grade                                  \n",
       "GarageCars     Size of garage in car capacity                              \n",
       "HalfBath       Half baths above grade                                      \n",
       "KitchenAbvGr   Kitchens above grade                                        \n",
       "TotRmsAbvGrd   Total rooms above grade (does not include bathrooms)        \n",
       "\n",
       "              #Unique  %Missing TopValue  %UsedTop Dtype    Type       \\\n",
       "BedroomAbvGr  8       0.00       3       54.68      int64    discrete   \n",
       "BsmtFullBath  5       0.07       0       58.41      float64  discrete   \n",
       "BsmtHalfBath  4       0.07       0       93.94      float64  discrete   \n",
       "Fireplaces    5       0.00       0       48.65      int64    discrete   \n",
       "FullBath      5       0.00       2       52.42      int64    discrete   \n",
       "GarageCars    7       0.03       2       54.61      float64  discrete   \n",
       "HalfBath      3       0.00       0       62.83      int64    discrete   \n",
       "KitchenAbvGr  4       0.00       1       95.41      int64    discrete   \n",
       "TotRmsAbvGrd  14      0.00       6       28.91      int64    discrete   \n",
       "\n",
       "             Unit       \n",
       "BedroomAbvGr  quantity  \n",
       "BsmtFullBath  quantity  \n",
       "BsmtHalfBath  quantity  \n",
       "Fireplaces    quantity  \n",
       "FullBath      quantity  \n",
       "GarageCars    quantity  \n",
       "HalfBath      quantity  \n",
       "KitchenAbvGr  quantity  \n",
       "TotRmsAbvGrd  quantity  "
      ]
     },
     "execution_count": 21,
     "metadata": {},
     "output_type": "execute_result"
    }
   ],
   "source": [
    "q = ddict[ddict['Unit']=='quantity']\n",
    "q"
   ]
  },
  {
   "cell_type": "code",
   "execution_count": 22,
   "metadata": {},
   "outputs": [
    {
     "data": {
      "text/html": [
       "<div>\n",
       "<style scoped>\n",
       "    .dataframe tbody tr th:only-of-type {\n",
       "        vertical-align: middle;\n",
       "    }\n",
       "\n",
       "    .dataframe tbody tr th {\n",
       "        vertical-align: top;\n",
       "    }\n",
       "\n",
       "    .dataframe thead th {\n",
       "        text-align: right;\n",
       "    }\n",
       "</style>\n",
       "<table border=\"1\" class=\"dataframe\">\n",
       "  <thead>\n",
       "    <tr style=\"text-align: left;\">\n",
       "      <th></th>\n",
       "      <th>BedroomAbvGr</th>\n",
       "      <th>BsmtFullBath</th>\n",
       "      <th>BsmtHalfBath</th>\n",
       "      <th>Fireplaces</th>\n",
       "      <th>FullBath</th>\n",
       "      <th>GarageCars</th>\n",
       "      <th>HalfBath</th>\n",
       "      <th>KitchenAbvGr</th>\n",
       "      <th>TotRmsAbvGrd</th>\n",
       "    </tr>\n",
       "  </thead>\n",
       "  <tbody>\n",
       "    <tr>\n",
       "      <th>1977</th>\n",
       "      <td>4</td>\n",
       "      <td>0.00</td>\n",
       "      <td>0.00</td>\n",
       "      <td>1</td>\n",
       "      <td>2</td>\n",
       "      <td>3.00</td>\n",
       "      <td>1</td>\n",
       "      <td>1</td>\n",
       "      <td>9</td>\n",
       "    </tr>\n",
       "  </tbody>\n",
       "</table>\n",
       "</div>"
      ],
      "text/plain": [
       "      BedroomAbvGr  BsmtFullBath  BsmtHalfBath  Fireplaces  FullBath  \\\n",
       "1977  4            0.00          0.00           1           2          \n",
       "\n",
       "      GarageCars  HalfBath  KitchenAbvGr  TotRmsAbvGrd  \n",
       "1977 3.00         1         1             9             "
      ]
     },
     "execution_count": 22,
     "metadata": {},
     "output_type": "execute_result"
    }
   ],
   "source": [
    "df[q.index].sample()"
   ]
  },
  {
   "cell_type": "code",
   "execution_count": 23,
   "metadata": {},
   "outputs": [
    {
     "data": {
      "text/plain": [
       "False"
      ]
     },
     "execution_count": 23,
     "metadata": {},
     "output_type": "execute_result"
    }
   ],
   "source": [
    "df['Temp'] = df['FullBath'] + df['HalfBath'] + df['KitchenAbvGr'] + df['BedroomAbvGr']\n",
    "df['Temp'].equals(df['TotRmsAbvGrd'])"
   ]
  },
  {
   "cell_type": "markdown",
   "metadata": {},
   "source": [
    "Now we can drop the 'Temp' column we created and discovered calculated columns:"
   ]
  },
  {
   "cell_type": "code",
   "execution_count": 24,
   "metadata": {},
   "outputs": [
    {
     "data": {
      "text/plain": [
       "(2919, 78)"
      ]
     },
     "execution_count": 24,
     "metadata": {},
     "output_type": "execute_result"
    }
   ],
   "source": [
    "df = df.drop('Temp', axis=1)\n",
    "calculated = ['GrLivArea', 'TotalBsmtSF']\n",
    "df = df.drop(calculated, axis=1)\n",
    "df.shape"
   ]
  },
  {
   "cell_type": "code",
   "execution_count": 25,
   "metadata": {},
   "outputs": [
    {
     "data": {
      "text/plain": [
       "(78, 8)"
      ]
     },
     "execution_count": 25,
     "metadata": {},
     "output_type": "execute_result"
    }
   ],
   "source": [
    "#do the same with an auxiliary tables\n",
    "ddict = ddict.loc[~ddict.index.isin(calculated)]\n",
    "ddes = ddes.loc[~ddes['Feature'].isin(calculated)]\n",
    "ddict.shape"
   ]
  },
  {
   "cell_type": "markdown",
   "metadata": {},
   "source": [
    "### Variance Threshold"
   ]
  },
  {
   "cell_type": "markdown",
   "metadata": {},
   "source": [
    "When a feature doesn’t vary much within itself, it generally has very little predictive power.  "
   ]
  },
  {
   "cell_type": "code",
   "execution_count": 26,
   "metadata": {},
   "outputs": [
    {
     "name": "stdout",
     "output_type": "stream",
     "text": [
      "Data Dictionary:\n"
     ]
    },
    {
     "data": {
      "text/html": [
       "<table border=\"1\" class=\"dataframe\">\n",
       "  <thead>\n",
       "    <tr style=\"text-align: left;\">\n",
       "      <th></th>\n",
       "      <th>Description</th>\n",
       "      <th>#Unique</th>\n",
       "      <th>%Missing</th>\n",
       "      <th>TopValue</th>\n",
       "      <th>%UsedTop</th>\n",
       "      <th>Dtype</th>\n",
       "      <th>Type</th>\n",
       "      <th>Unit</th>\n",
       "    </tr>\n",
       "  </thead>\n",
       "  <tbody>\n",
       "    <tr>\n",
       "      <th>PoolArea</th>\n",
       "      <td>Pool area in square feet</td>\n",
       "      <td>14</td>\n",
       "      <td>0.00</td>\n",
       "      <td>0</td>\n",
       "      <td>99.55</td>\n",
       "      <td>int64</td>\n",
       "      <td>cont</td>\n",
       "      <td>square feet</td>\n",
       "    </tr>\n",
       "    <tr>\n",
       "      <th>PoolQC</th>\n",
       "      <td>Pool quality</td>\n",
       "      <td>4</td>\n",
       "      <td>99.66</td>\n",
       "      <td>Ex</td>\n",
       "      <td>0.14</td>\n",
       "      <td>object</td>\n",
       "      <td>ordinal</td>\n",
       "      <td>rate</td>\n",
       "    </tr>\n",
       "  </tbody>\n",
       "</table>"
      ],
      "text/plain": [
       "<IPython.core.display.HTML object>"
      ]
     },
     "metadata": {},
     "output_type": "display_data"
    },
    {
     "name": "stdout",
     "output_type": "stream",
     "text": [
      "Value Description:\n"
     ]
    },
    {
     "data": {
      "text/html": [
       "<table border=\"1\" class=\"dataframe\">\n",
       "  <thead>\n",
       "    <tr style=\"text-align: left;\">\n",
       "      <th></th>\n",
       "      <th>Feature</th>\n",
       "      <th>Val</th>\n",
       "      <th>Value</th>\n",
       "    </tr>\n",
       "  </thead>\n",
       "  <tbody>\n",
       "    <tr>\n",
       "      <th>317</th>\n",
       "      <td>PoolArea</td>\n",
       "      <td>NaN</td>\n",
       "      <td>NaN</td>\n",
       "    </tr>\n",
       "    <tr>\n",
       "      <th>321</th>\n",
       "      <td>PoolQC</td>\n",
       "      <td>Fa</td>\n",
       "      <td>Fair</td>\n",
       "    </tr>\n",
       "    <tr>\n",
       "      <th>320</th>\n",
       "      <td>PoolQC</td>\n",
       "      <td>TA</td>\n",
       "      <td>Average/Typical</td>\n",
       "    </tr>\n",
       "    <tr>\n",
       "      <th>319</th>\n",
       "      <td>PoolQC</td>\n",
       "      <td>Gd</td>\n",
       "      <td>Good</td>\n",
       "    </tr>\n",
       "    <tr>\n",
       "      <th>318</th>\n",
       "      <td>PoolQC</td>\n",
       "      <td>Ex</td>\n",
       "      <td>Excellent</td>\n",
       "    </tr>\n",
       "    <tr>\n",
       "      <th>322</th>\n",
       "      <td>PoolQC</td>\n",
       "      <td>NaN</td>\n",
       "      <td>No Pool</td>\n",
       "    </tr>\n",
       "  </tbody>\n",
       "</table>"
      ],
      "text/plain": [
       "<IPython.core.display.HTML object>"
      ]
     },
     "metadata": {},
     "output_type": "display_data"
    }
   ],
   "source": [
    "dicts('Pool')"
   ]
  },
  {
   "cell_type": "markdown",
   "metadata": {},
   "source": [
    "How to decide what threshold to use for removing low-variance features?  \n",
    "I haven't find any deep tutorial about it yet. \n",
    "So, I've decided to use 80% for study cases [as here](https://scikit-learn.org/stable/modules/feature_selection.html) and try several in a real life cases."
   ]
  },
  {
   "cell_type": "code",
   "execution_count": 27,
   "metadata": {},
   "outputs": [
    {
     "name": "stdout",
     "output_type": "stream",
     "text": [
      "33 columns are flat\n"
     ]
    }
   ],
   "source": [
    "flat = noinfo(df, 0.8)\n",
    "# flat"
   ]
  },
  {
   "cell_type": "code",
   "execution_count": 28,
   "metadata": {},
   "outputs": [
    {
     "data": {
      "text/html": [
       "<div>\n",
       "<style scoped>\n",
       "    .dataframe tbody tr th:only-of-type {\n",
       "        vertical-align: middle;\n",
       "    }\n",
       "\n",
       "    .dataframe tbody tr th {\n",
       "        vertical-align: top;\n",
       "    }\n",
       "\n",
       "    .dataframe thead th {\n",
       "        text-align: right;\n",
       "    }\n",
       "</style>\n",
       "<table border=\"1\" class=\"dataframe\">\n",
       "  <thead>\n",
       "    <tr style=\"text-align: left;\">\n",
       "      <th></th>\n",
       "      <th>Description</th>\n",
       "      <th>#Unique</th>\n",
       "      <th>%Missing</th>\n",
       "      <th>TopValue</th>\n",
       "      <th>%UsedTop</th>\n",
       "      <th>Dtype</th>\n",
       "      <th>Type</th>\n",
       "      <th>Unit</th>\n",
       "    </tr>\n",
       "  </thead>\n",
       "  <tbody>\n",
       "    <tr>\n",
       "      <th>3SsnPorch</th>\n",
       "      <td>Three season porch area in square feet</td>\n",
       "      <td>31</td>\n",
       "      <td>0.00</td>\n",
       "      <td>0</td>\n",
       "      <td>98.73</td>\n",
       "      <td>int64</td>\n",
       "      <td>cont</td>\n",
       "      <td>square feet</td>\n",
       "    </tr>\n",
       "    <tr>\n",
       "      <th>Alley</th>\n",
       "      <td>Type of alley access to property</td>\n",
       "      <td>3</td>\n",
       "      <td>93.22</td>\n",
       "      <td>Grvl</td>\n",
       "      <td>4.11</td>\n",
       "      <td>object</td>\n",
       "      <td>nominal</td>\n",
       "      <td>-</td>\n",
       "    </tr>\n",
       "    <tr>\n",
       "      <th>BldgType</th>\n",
       "      <td>Type of dwelling</td>\n",
       "      <td>5</td>\n",
       "      <td>0.00</td>\n",
       "      <td>1Fam</td>\n",
       "      <td>83.08</td>\n",
       "      <td>object</td>\n",
       "      <td>nominal</td>\n",
       "      <td>-</td>\n",
       "    </tr>\n",
       "    <tr>\n",
       "      <th>BsmtCond</th>\n",
       "      <td>Evaluates the general condition of the basement</td>\n",
       "      <td>5</td>\n",
       "      <td>2.81</td>\n",
       "      <td>TA</td>\n",
       "      <td>89.28</td>\n",
       "      <td>object</td>\n",
       "      <td>ordinal</td>\n",
       "      <td>rate</td>\n",
       "    </tr>\n",
       "    <tr>\n",
       "      <th>BsmtFinSF2</th>\n",
       "      <td>Type 2 finished square feet</td>\n",
       "      <td>273</td>\n",
       "      <td>0.03</td>\n",
       "      <td>0</td>\n",
       "      <td>88.08</td>\n",
       "      <td>float64</td>\n",
       "      <td>cont</td>\n",
       "      <td>square feet</td>\n",
       "    </tr>\n",
       "    <tr>\n",
       "      <th>BsmtFinType2</th>\n",
       "      <td>Rating of basement finished area (if multiple types)</td>\n",
       "      <td>7</td>\n",
       "      <td>2.74</td>\n",
       "      <td>Unf</td>\n",
       "      <td>85.41</td>\n",
       "      <td>object</td>\n",
       "      <td>ordinal</td>\n",
       "      <td>rate</td>\n",
       "    </tr>\n",
       "    <tr>\n",
       "      <th>BsmtHalfBath</th>\n",
       "      <td>Basement half bathrooms</td>\n",
       "      <td>4</td>\n",
       "      <td>0.07</td>\n",
       "      <td>0</td>\n",
       "      <td>93.94</td>\n",
       "      <td>float64</td>\n",
       "      <td>discrete</td>\n",
       "      <td>quantity</td>\n",
       "    </tr>\n",
       "    <tr>\n",
       "      <th>CentralAir</th>\n",
       "      <td>Central air conditioning</td>\n",
       "      <td>2</td>\n",
       "      <td>0.00</td>\n",
       "      <td>Y</td>\n",
       "      <td>93.29</td>\n",
       "      <td>object</td>\n",
       "      <td>binary</td>\n",
       "      <td>-</td>\n",
       "    </tr>\n",
       "    <tr>\n",
       "      <th>Condition1</th>\n",
       "      <td>Proximity to various conditions</td>\n",
       "      <td>9</td>\n",
       "      <td>0.00</td>\n",
       "      <td>Norm</td>\n",
       "      <td>86.02</td>\n",
       "      <td>object</td>\n",
       "      <td>nominal</td>\n",
       "      <td>-</td>\n",
       "    </tr>\n",
       "    <tr>\n",
       "      <th>Condition2</th>\n",
       "      <td>Proximity to various conditions (if more than one is pr</td>\n",
       "      <td>8</td>\n",
       "      <td>0.00</td>\n",
       "      <td>Norm</td>\n",
       "      <td>98.97</td>\n",
       "      <td>object</td>\n",
       "      <td>nominal</td>\n",
       "      <td>-</td>\n",
       "    </tr>\n",
       "    <tr>\n",
       "      <th>Electrical</th>\n",
       "      <td>Electrical system</td>\n",
       "      <td>6</td>\n",
       "      <td>0.03</td>\n",
       "      <td>SBrkr</td>\n",
       "      <td>91.50</td>\n",
       "      <td>object</td>\n",
       "      <td>nominal</td>\n",
       "      <td>-</td>\n",
       "    </tr>\n",
       "    <tr>\n",
       "      <th>EnclosedPorch</th>\n",
       "      <td>Enclosed porch area in square feet</td>\n",
       "      <td>183</td>\n",
       "      <td>0.00</td>\n",
       "      <td>0</td>\n",
       "      <td>84.28</td>\n",
       "      <td>int64</td>\n",
       "      <td>cont</td>\n",
       "      <td>square feet</td>\n",
       "    </tr>\n",
       "    <tr>\n",
       "      <th>ExterCond</th>\n",
       "      <td>Evaluates the present condition of the material on the e</td>\n",
       "      <td>5</td>\n",
       "      <td>0.00</td>\n",
       "      <td>TA</td>\n",
       "      <td>86.95</td>\n",
       "      <td>object</td>\n",
       "      <td>ordinal</td>\n",
       "      <td>rate</td>\n",
       "    </tr>\n",
       "    <tr>\n",
       "      <th>Fence</th>\n",
       "      <td>Fence quality</td>\n",
       "      <td>5</td>\n",
       "      <td>80.44</td>\n",
       "      <td>MnPrv</td>\n",
       "      <td>11.27</td>\n",
       "      <td>object</td>\n",
       "      <td>nominal</td>\n",
       "      <td>-</td>\n",
       "    </tr>\n",
       "    <tr>\n",
       "      <th>Functional</th>\n",
       "      <td>Home functionality (Assume typical unless deductions ar</td>\n",
       "      <td>8</td>\n",
       "      <td>0.07</td>\n",
       "      <td>Typ</td>\n",
       "      <td>93.08</td>\n",
       "      <td>object</td>\n",
       "      <td>nominal</td>\n",
       "      <td>-</td>\n",
       "    </tr>\n",
       "    <tr>\n",
       "      <th>GarageCond</th>\n",
       "      <td>Garage condition</td>\n",
       "      <td>6</td>\n",
       "      <td>5.45</td>\n",
       "      <td>TA</td>\n",
       "      <td>90.92</td>\n",
       "      <td>object</td>\n",
       "      <td>ordinal</td>\n",
       "      <td>rate</td>\n",
       "    </tr>\n",
       "    <tr>\n",
       "      <th>GarageQual</th>\n",
       "      <td>Garage quality</td>\n",
       "      <td>6</td>\n",
       "      <td>5.45</td>\n",
       "      <td>TA</td>\n",
       "      <td>89.21</td>\n",
       "      <td>object</td>\n",
       "      <td>ordinal</td>\n",
       "      <td>rate</td>\n",
       "    </tr>\n",
       "    <tr>\n",
       "      <th>Heating</th>\n",
       "      <td>Type of heating</td>\n",
       "      <td>6</td>\n",
       "      <td>0.00</td>\n",
       "      <td>GasA</td>\n",
       "      <td>98.46</td>\n",
       "      <td>object</td>\n",
       "      <td>nominal</td>\n",
       "      <td>-</td>\n",
       "    </tr>\n",
       "    <tr>\n",
       "      <th>KitchenAbvGr</th>\n",
       "      <td>Kitchens above grade</td>\n",
       "      <td>4</td>\n",
       "      <td>0.00</td>\n",
       "      <td>1</td>\n",
       "      <td>95.41</td>\n",
       "      <td>int64</td>\n",
       "      <td>discrete</td>\n",
       "      <td>quantity</td>\n",
       "    </tr>\n",
       "    <tr>\n",
       "      <th>LandContour</th>\n",
       "      <td>Flatness of the property</td>\n",
       "      <td>4</td>\n",
       "      <td>0.00</td>\n",
       "      <td>Lvl</td>\n",
       "      <td>89.83</td>\n",
       "      <td>object</td>\n",
       "      <td>nominal</td>\n",
       "      <td>-</td>\n",
       "    </tr>\n",
       "    <tr>\n",
       "      <th>LandSlope</th>\n",
       "      <td>Slope of property</td>\n",
       "      <td>3</td>\n",
       "      <td>0.00</td>\n",
       "      <td>Gtl</td>\n",
       "      <td>95.17</td>\n",
       "      <td>object</td>\n",
       "      <td>nominal</td>\n",
       "      <td>-</td>\n",
       "    </tr>\n",
       "    <tr>\n",
       "      <th>LowQualFinSF</th>\n",
       "      <td>Low quality finished square feet (all floors)</td>\n",
       "      <td>36</td>\n",
       "      <td>0.00</td>\n",
       "      <td>0</td>\n",
       "      <td>98.63</td>\n",
       "      <td>int64</td>\n",
       "      <td>cont</td>\n",
       "      <td>square feet</td>\n",
       "    </tr>\n",
       "    <tr>\n",
       "      <th>MiscFeature</th>\n",
       "      <td>Miscellaneous feature not covered in other categories</td>\n",
       "      <td>5</td>\n",
       "      <td>96.40</td>\n",
       "      <td>Shed</td>\n",
       "      <td>3.25</td>\n",
       "      <td>object</td>\n",
       "      <td>nominal</td>\n",
       "      <td>-</td>\n",
       "    </tr>\n",
       "    <tr>\n",
       "      <th>MiscVal</th>\n",
       "      <td>$Value of miscellaneous feature</td>\n",
       "      <td>38</td>\n",
       "      <td>0.00</td>\n",
       "      <td>0</td>\n",
       "      <td>96.47</td>\n",
       "      <td>int64</td>\n",
       "      <td>cont</td>\n",
       "      <td>USD</td>\n",
       "    </tr>\n",
       "    <tr>\n",
       "      <th>PavedDrive</th>\n",
       "      <td>Paved driveway</td>\n",
       "      <td>3</td>\n",
       "      <td>0.00</td>\n",
       "      <td>Y</td>\n",
       "      <td>90.48</td>\n",
       "      <td>object</td>\n",
       "      <td>nominal</td>\n",
       "      <td>-</td>\n",
       "    </tr>\n",
       "    <tr>\n",
       "      <th>PoolArea</th>\n",
       "      <td>Pool area in square feet</td>\n",
       "      <td>14</td>\n",
       "      <td>0.00</td>\n",
       "      <td>0</td>\n",
       "      <td>99.55</td>\n",
       "      <td>int64</td>\n",
       "      <td>cont</td>\n",
       "      <td>square feet</td>\n",
       "    </tr>\n",
       "    <tr>\n",
       "      <th>PoolQC</th>\n",
       "      <td>Pool quality</td>\n",
       "      <td>4</td>\n",
       "      <td>99.66</td>\n",
       "      <td>Ex</td>\n",
       "      <td>0.14</td>\n",
       "      <td>object</td>\n",
       "      <td>ordinal</td>\n",
       "      <td>rate</td>\n",
       "    </tr>\n",
       "    <tr>\n",
       "      <th>RoofMatl</th>\n",
       "      <td>Roof material</td>\n",
       "      <td>8</td>\n",
       "      <td>0.00</td>\n",
       "      <td>CompShg</td>\n",
       "      <td>98.53</td>\n",
       "      <td>object</td>\n",
       "      <td>nominal</td>\n",
       "      <td>-</td>\n",
       "    </tr>\n",
       "    <tr>\n",
       "      <th>SaleCondition</th>\n",
       "      <td>Condition of sale</td>\n",
       "      <td>6</td>\n",
       "      <td>0.00</td>\n",
       "      <td>Normal</td>\n",
       "      <td>82.29</td>\n",
       "      <td>object</td>\n",
       "      <td>nominal</td>\n",
       "      <td>-</td>\n",
       "    </tr>\n",
       "    <tr>\n",
       "      <th>SaleType</th>\n",
       "      <td>Type of sale</td>\n",
       "      <td>10</td>\n",
       "      <td>0.03</td>\n",
       "      <td>WD</td>\n",
       "      <td>86.50</td>\n",
       "      <td>object</td>\n",
       "      <td>nominal</td>\n",
       "      <td>-</td>\n",
       "    </tr>\n",
       "    <tr>\n",
       "      <th>ScreenPorch</th>\n",
       "      <td>Screen porch area in square feet</td>\n",
       "      <td>121</td>\n",
       "      <td>0.00</td>\n",
       "      <td>0</td>\n",
       "      <td>91.23</td>\n",
       "      <td>int64</td>\n",
       "      <td>cont</td>\n",
       "      <td>square feet</td>\n",
       "    </tr>\n",
       "    <tr>\n",
       "      <th>Street</th>\n",
       "      <td>Type of road access to property</td>\n",
       "      <td>2</td>\n",
       "      <td>0.00</td>\n",
       "      <td>Pave</td>\n",
       "      <td>99.59</td>\n",
       "      <td>object</td>\n",
       "      <td>nominal</td>\n",
       "      <td>-</td>\n",
       "    </tr>\n",
       "    <tr>\n",
       "      <th>Utilities</th>\n",
       "      <td>Type of utilities available</td>\n",
       "      <td>3</td>\n",
       "      <td>0.07</td>\n",
       "      <td>AllPub</td>\n",
       "      <td>99.90</td>\n",
       "      <td>object</td>\n",
       "      <td>nominal</td>\n",
       "      <td>-</td>\n",
       "    </tr>\n",
       "  </tbody>\n",
       "</table>\n",
       "</div>"
      ],
      "text/plain": [
       "              Description                                                 \\\n",
       "3SsnPorch       Three season porch area in square feet                     \n",
       "Alley           Type of alley access to property                           \n",
       "BldgType        Type of dwelling                                           \n",
       "BsmtCond        Evaluates the general condition of the basement            \n",
       "BsmtFinSF2      Type 2 finished square feet                                \n",
       "BsmtFinType2    Rating of basement finished area (if multiple types)       \n",
       "BsmtHalfBath    Basement half bathrooms                                    \n",
       "CentralAir      Central air conditioning                                   \n",
       "Condition1      Proximity to various conditions                            \n",
       "Condition2      Proximity to various conditions (if more than one is pr    \n",
       "Electrical      Electrical system                                          \n",
       "EnclosedPorch   Enclosed porch area in square feet                         \n",
       "ExterCond       Evaluates the present condition of the material on the e   \n",
       "Fence           Fence quality                                              \n",
       "Functional      Home functionality (Assume typical unless deductions ar    \n",
       "GarageCond      Garage condition                                           \n",
       "GarageQual      Garage quality                                             \n",
       "Heating         Type of heating                                            \n",
       "KitchenAbvGr    Kitchens above grade                                       \n",
       "LandContour     Flatness of the property                                   \n",
       "LandSlope       Slope of property                                          \n",
       "LowQualFinSF    Low quality finished square feet (all floors)              \n",
       "MiscFeature     Miscellaneous feature not covered in other categories      \n",
       "MiscVal         $Value of miscellaneous feature                            \n",
       "PavedDrive      Paved driveway                                             \n",
       "PoolArea        Pool area in square feet                                   \n",
       "PoolQC          Pool quality                                               \n",
       "RoofMatl        Roof material                                              \n",
       "SaleCondition   Condition of sale                                          \n",
       "SaleType        Type of sale                                               \n",
       "ScreenPorch     Screen porch area in square feet                           \n",
       "Street          Type of road access to property                            \n",
       "Utilities       Type of utilities available                                \n",
       "\n",
       "               #Unique  %Missing TopValue  %UsedTop Dtype    Type       \\\n",
       "3SsnPorch      31      0.00       0       98.73      int64    cont       \n",
       "Alley          3       93.22      Grvl    4.11       object   nominal    \n",
       "BldgType       5       0.00       1Fam    83.08      object   nominal    \n",
       "BsmtCond       5       2.81       TA      89.28      object   ordinal    \n",
       "BsmtFinSF2     273     0.03       0       88.08      float64  cont       \n",
       "BsmtFinType2   7       2.74       Unf     85.41      object   ordinal    \n",
       "BsmtHalfBath   4       0.07       0       93.94      float64  discrete   \n",
       "CentralAir     2       0.00       Y       93.29      object   binary     \n",
       "Condition1     9       0.00       Norm    86.02      object   nominal    \n",
       "Condition2     8       0.00       Norm    98.97      object   nominal    \n",
       "Electrical     6       0.03       SBrkr   91.50      object   nominal    \n",
       "EnclosedPorch  183     0.00       0       84.28      int64    cont       \n",
       "ExterCond      5       0.00       TA      86.95      object   ordinal    \n",
       "Fence          5       80.44      MnPrv   11.27      object   nominal    \n",
       "Functional     8       0.07       Typ     93.08      object   nominal    \n",
       "GarageCond     6       5.45       TA      90.92      object   ordinal    \n",
       "GarageQual     6       5.45       TA      89.21      object   ordinal    \n",
       "Heating        6       0.00       GasA    98.46      object   nominal    \n",
       "KitchenAbvGr   4       0.00       1       95.41      int64    discrete   \n",
       "LandContour    4       0.00       Lvl     89.83      object   nominal    \n",
       "LandSlope      3       0.00       Gtl     95.17      object   nominal    \n",
       "LowQualFinSF   36      0.00       0       98.63      int64    cont       \n",
       "MiscFeature    5       96.40      Shed    3.25       object   nominal    \n",
       "MiscVal        38      0.00       0       96.47      int64    cont       \n",
       "PavedDrive     3       0.00       Y       90.48      object   nominal    \n",
       "PoolArea       14      0.00       0       99.55      int64    cont       \n",
       "PoolQC         4       99.66      Ex      0.14       object   ordinal    \n",
       "RoofMatl       8       0.00       CompShg 98.53      object   nominal    \n",
       "SaleCondition  6       0.00       Normal  82.29      object   nominal    \n",
       "SaleType       10      0.03       WD      86.50      object   nominal    \n",
       "ScreenPorch    121     0.00       0       91.23      int64    cont       \n",
       "Street         2       0.00       Pave    99.59      object   nominal    \n",
       "Utilities      3       0.07       AllPub  99.90      object   nominal    \n",
       "\n",
       "              Unit          \n",
       "3SsnPorch      square feet  \n",
       "Alley          -            \n",
       "BldgType       -            \n",
       "BsmtCond       rate         \n",
       "BsmtFinSF2     square feet  \n",
       "BsmtFinType2   rate         \n",
       "BsmtHalfBath   quantity     \n",
       "CentralAir     -            \n",
       "Condition1     -            \n",
       "Condition2     -            \n",
       "Electrical     -            \n",
       "EnclosedPorch  square feet  \n",
       "ExterCond      rate         \n",
       "Fence          -            \n",
       "Functional     -            \n",
       "GarageCond     rate         \n",
       "GarageQual     rate         \n",
       "Heating        -            \n",
       "KitchenAbvGr   quantity     \n",
       "LandContour    -            \n",
       "LandSlope      -            \n",
       "LowQualFinSF   square feet  \n",
       "MiscFeature    -            \n",
       "MiscVal        USD          \n",
       "PavedDrive     -            \n",
       "PoolArea       square feet  \n",
       "PoolQC         rate         \n",
       "RoofMatl       -            \n",
       "SaleCondition  -            \n",
       "SaleType       -            \n",
       "ScreenPorch    square feet  \n",
       "Street         -            \n",
       "Utilities      -            "
      ]
     },
     "execution_count": 28,
     "metadata": {},
     "output_type": "execute_result"
    }
   ],
   "source": [
    "ddict.loc[ddict.index.isin(flat)]"
   ]
  },
  {
   "cell_type": "code",
   "execution_count": 29,
   "metadata": {},
   "outputs": [
    {
     "data": {
      "text/plain": [
       "(2919, 45)"
      ]
     },
     "execution_count": 29,
     "metadata": {},
     "output_type": "execute_result"
    }
   ],
   "source": [
    "# deleting useless data\n",
    "df = df.drop(flat, axis=1)\n",
    "df.shape"
   ]
  },
  {
   "cell_type": "code",
   "execution_count": 30,
   "metadata": {},
   "outputs": [
    {
     "data": {
      "text/plain": [
       "45"
      ]
     },
     "execution_count": 30,
     "metadata": {},
     "output_type": "execute_result"
    }
   ],
   "source": [
    "# do the same with auxiliary\n",
    "ddes = ddes.loc[~ddes['Feature'].isin(flat)].reset_index(drop=True)\n",
    "ddict = ddict.loc[~ddict.index.isin(flat)]\n",
    "len(ddict)"
   ]
  },
  {
   "cell_type": "markdown",
   "metadata": {},
   "source": [
    "# Missing values"
   ]
  },
  {
   "cell_type": "code",
   "execution_count": 31,
   "metadata": {},
   "outputs": [
    {
     "data": {
      "text/plain": [
       "SalePrice       1459\n",
       "FireplaceQu     1420\n",
       "LotFrontage     486 \n",
       "GarageFinish    159 \n",
       "GarageYrBlt     159 \n",
       "GarageType      157 \n",
       "BsmtExposure    82  \n",
       "BsmtQual        81  \n",
       "BsmtFinType1    79  \n",
       "MasVnrType      24  \n",
       "MasVnrArea      23  \n",
       "MSZoning        4   \n",
       "BsmtFullBath    2   \n",
       "Exterior1st     1   \n",
       "Exterior2nd     1   \n",
       "BsmtUnfSF       1   \n",
       "BsmtFinSF1      1   \n",
       "KitchenQual     1   \n",
       "GarageCars      1   \n",
       "GarageArea      1   \n",
       "dtype: int64"
      ]
     },
     "execution_count": 31,
     "metadata": {},
     "output_type": "execute_result"
    }
   ],
   "source": [
    "tdf = df.isnull().sum().sort_values(ascending=False)\n",
    "tdf.loc[(tdf != 0)]"
   ]
  },
  {
   "cell_type": "markdown",
   "metadata": {},
   "source": [
    "Let's do it step by step"
   ]
  },
  {
   "cell_type": "code",
   "execution_count": 32,
   "metadata": {},
   "outputs": [
    {
     "name": "stdout",
     "output_type": "stream",
     "text": [
      "Data Dictionary:\n"
     ]
    },
    {
     "data": {
      "text/html": [
       "<table border=\"1\" class=\"dataframe\">\n",
       "  <thead>\n",
       "    <tr style=\"text-align: left;\">\n",
       "      <th></th>\n",
       "      <th>Description</th>\n",
       "      <th>#Unique</th>\n",
       "      <th>%Missing</th>\n",
       "      <th>TopValue</th>\n",
       "      <th>%UsedTop</th>\n",
       "      <th>Dtype</th>\n",
       "      <th>Type</th>\n",
       "      <th>Unit</th>\n",
       "    </tr>\n",
       "  </thead>\n",
       "  <tbody>\n",
       "    <tr>\n",
       "      <th>FireplaceQu</th>\n",
       "      <td>Fireplace quality</td>\n",
       "      <td>6</td>\n",
       "      <td>48.65</td>\n",
       "      <td>Gd</td>\n",
       "      <td>25.49</td>\n",
       "      <td>object</td>\n",
       "      <td>ordinal</td>\n",
       "      <td>rate</td>\n",
       "    </tr>\n",
       "    <tr>\n",
       "      <th>Fireplaces</th>\n",
       "      <td>Number of fireplaces</td>\n",
       "      <td>5</td>\n",
       "      <td>0.00</td>\n",
       "      <td>0</td>\n",
       "      <td>48.65</td>\n",
       "      <td>int64</td>\n",
       "      <td>discrete</td>\n",
       "      <td>quantity</td>\n",
       "    </tr>\n",
       "  </tbody>\n",
       "</table>"
      ],
      "text/plain": [
       "<IPython.core.display.HTML object>"
      ]
     },
     "metadata": {},
     "output_type": "display_data"
    },
    {
     "name": "stdout",
     "output_type": "stream",
     "text": [
      "Value Description:\n"
     ]
    },
    {
     "data": {
      "text/html": [
       "<table border=\"1\" class=\"dataframe\">\n",
       "  <thead>\n",
       "    <tr style=\"text-align: left;\">\n",
       "      <th></th>\n",
       "      <th>Feature</th>\n",
       "      <th>Val</th>\n",
       "      <th>Value</th>\n",
       "    </tr>\n",
       "  </thead>\n",
       "  <tbody>\n",
       "    <tr>\n",
       "      <th>63</th>\n",
       "      <td>FireplaceQu</td>\n",
       "      <td>Po</td>\n",
       "      <td>Poor - Ben Franklin Stove</td>\n",
       "    </tr>\n",
       "    <tr>\n",
       "      <th>64</th>\n",
       "      <td>FireplaceQu</td>\n",
       "      <td>Ex</td>\n",
       "      <td>Excellent - Exceptional Masonry Fireplace</td>\n",
       "    </tr>\n",
       "    <tr>\n",
       "      <th>65</th>\n",
       "      <td>FireplaceQu</td>\n",
       "      <td>NaN</td>\n",
       "      <td>No Fireplace</td>\n",
       "    </tr>\n",
       "    <tr>\n",
       "      <th>66</th>\n",
       "      <td>FireplaceQu</td>\n",
       "      <td>Gd</td>\n",
       "      <td>Good - Masonry Fireplace in main level</td>\n",
       "    </tr>\n",
       "    <tr>\n",
       "      <th>67</th>\n",
       "      <td>FireplaceQu</td>\n",
       "      <td>Fa</td>\n",
       "      <td>Fair - Prefabricated Fireplace in basement</td>\n",
       "    </tr>\n",
       "    <tr>\n",
       "      <th>68</th>\n",
       "      <td>FireplaceQu</td>\n",
       "      <td>TA</td>\n",
       "      <td>Average - Prefabricated Fireplace in main living area or</td>\n",
       "    </tr>\n",
       "    <tr>\n",
       "      <th>69</th>\n",
       "      <td>Fireplaces</td>\n",
       "      <td>NaN</td>\n",
       "      <td>NaN</td>\n",
       "    </tr>\n",
       "  </tbody>\n",
       "</table>"
      ],
      "text/plain": [
       "<IPython.core.display.HTML object>"
      ]
     },
     "metadata": {},
     "output_type": "display_data"
    }
   ],
   "source": [
    "dicts('Fire')"
   ]
  },
  {
   "cell_type": "markdown",
   "metadata": {},
   "source": [
    "As we can see, this missings just mean \"no\". Let's fill it and go further."
   ]
  },
  {
   "cell_type": "code",
   "execution_count": 33,
   "metadata": {},
   "outputs": [],
   "source": [
    "df['FireplaceQu'] = df['FireplaceQu'].cat.add_categories('none').fillna('none')"
   ]
  },
  {
   "cell_type": "code",
   "execution_count": 34,
   "metadata": {},
   "outputs": [
    {
     "name": "stdout",
     "output_type": "stream",
     "text": [
      "Data Dictionary:\n"
     ]
    },
    {
     "data": {
      "text/html": [
       "<table border=\"1\" class=\"dataframe\">\n",
       "  <thead>\n",
       "    <tr style=\"text-align: left;\">\n",
       "      <th></th>\n",
       "      <th>Description</th>\n",
       "      <th>#Unique</th>\n",
       "      <th>%Missing</th>\n",
       "      <th>TopValue</th>\n",
       "      <th>%UsedTop</th>\n",
       "      <th>Dtype</th>\n",
       "      <th>Type</th>\n",
       "      <th>Unit</th>\n",
       "    </tr>\n",
       "  </thead>\n",
       "  <tbody>\n",
       "    <tr>\n",
       "      <th>LotArea</th>\n",
       "      <td>Lot size in square feet</td>\n",
       "      <td>1951</td>\n",
       "      <td>0.00</td>\n",
       "      <td>9600</td>\n",
       "      <td>1.51</td>\n",
       "      <td>int64</td>\n",
       "      <td>cont</td>\n",
       "      <td>square feet</td>\n",
       "    </tr>\n",
       "    <tr>\n",
       "      <th>LotConfig</th>\n",
       "      <td>Lot configuration</td>\n",
       "      <td>5</td>\n",
       "      <td>0.00</td>\n",
       "      <td>Inside</td>\n",
       "      <td>73.07</td>\n",
       "      <td>object</td>\n",
       "      <td>nominal</td>\n",
       "      <td>-</td>\n",
       "    </tr>\n",
       "    <tr>\n",
       "      <th>LotFrontage</th>\n",
       "      <td>Linear feet of street connected to property</td>\n",
       "      <td>129</td>\n",
       "      <td>16.65</td>\n",
       "      <td>60</td>\n",
       "      <td>9.46</td>\n",
       "      <td>float64</td>\n",
       "      <td>cont</td>\n",
       "      <td>linear feet</td>\n",
       "    </tr>\n",
       "    <tr>\n",
       "      <th>LotShape</th>\n",
       "      <td>General shape of property</td>\n",
       "      <td>4</td>\n",
       "      <td>0.00</td>\n",
       "      <td>Reg</td>\n",
       "      <td>63.69</td>\n",
       "      <td>object</td>\n",
       "      <td>nominal</td>\n",
       "      <td>-</td>\n",
       "    </tr>\n",
       "  </tbody>\n",
       "</table>"
      ],
      "text/plain": [
       "<IPython.core.display.HTML object>"
      ]
     },
     "metadata": {},
     "output_type": "display_data"
    },
    {
     "name": "stdout",
     "output_type": "stream",
     "text": [
      "Value Description:\n"
     ]
    },
    {
     "data": {
      "text/html": [
       "<table border=\"1\" class=\"dataframe\">\n",
       "  <thead>\n",
       "    <tr style=\"text-align: left;\">\n",
       "      <th></th>\n",
       "      <th>Feature</th>\n",
       "      <th>Val</th>\n",
       "      <th>Value</th>\n",
       "    </tr>\n",
       "  </thead>\n",
       "  <tbody>\n",
       "    <tr>\n",
       "      <th>110</th>\n",
       "      <td>LotArea</td>\n",
       "      <td>NaN</td>\n",
       "      <td>NaN</td>\n",
       "    </tr>\n",
       "    <tr>\n",
       "      <th>111</th>\n",
       "      <td>LotConfig</td>\n",
       "      <td>Corner</td>\n",
       "      <td>Corner lot</td>\n",
       "    </tr>\n",
       "    <tr>\n",
       "      <th>112</th>\n",
       "      <td>LotConfig</td>\n",
       "      <td>FR2</td>\n",
       "      <td>Frontage on 2 sides of property</td>\n",
       "    </tr>\n",
       "    <tr>\n",
       "      <th>113</th>\n",
       "      <td>LotConfig</td>\n",
       "      <td>CulDSac</td>\n",
       "      <td>Cul-de-sac</td>\n",
       "    </tr>\n",
       "    <tr>\n",
       "      <th>114</th>\n",
       "      <td>LotConfig</td>\n",
       "      <td>Inside</td>\n",
       "      <td>Inside lot</td>\n",
       "    </tr>\n",
       "    <tr>\n",
       "      <th>115</th>\n",
       "      <td>LotConfig</td>\n",
       "      <td>FR3</td>\n",
       "      <td>Frontage on 3 sides of property</td>\n",
       "    </tr>\n",
       "    <tr>\n",
       "      <th>116</th>\n",
       "      <td>LotFrontage</td>\n",
       "      <td>NaN</td>\n",
       "      <td>NaN</td>\n",
       "    </tr>\n",
       "    <tr>\n",
       "      <th>117</th>\n",
       "      <td>LotShape</td>\n",
       "      <td>Reg</td>\n",
       "      <td>Regular</td>\n",
       "    </tr>\n",
       "    <tr>\n",
       "      <th>118</th>\n",
       "      <td>LotShape</td>\n",
       "      <td>IR1</td>\n",
       "      <td>Slightly irregular</td>\n",
       "    </tr>\n",
       "    <tr>\n",
       "      <th>119</th>\n",
       "      <td>LotShape</td>\n",
       "      <td>IR2</td>\n",
       "      <td>Moderately Irregular</td>\n",
       "    </tr>\n",
       "    <tr>\n",
       "      <th>120</th>\n",
       "      <td>LotShape</td>\n",
       "      <td>IR3</td>\n",
       "      <td>Irregular</td>\n",
       "    </tr>\n",
       "  </tbody>\n",
       "</table>"
      ],
      "text/plain": [
       "<IPython.core.display.HTML object>"
      ]
     },
     "metadata": {},
     "output_type": "display_data"
    }
   ],
   "source": [
    "dicts('Lot')"
   ]
  },
  {
   "cell_type": "markdown",
   "metadata": {},
   "source": [
    "For a more correct filling, let's do it by grouping neighbourhoods."
   ]
  },
  {
   "cell_type": "code",
   "execution_count": 35,
   "metadata": {},
   "outputs": [],
   "source": [
    "df['LotFrontage'] = df.groupby('Neighborhood')['LotFrontage'].transform(lambda x: x.fillna(x.median()))"
   ]
  },
  {
   "cell_type": "markdown",
   "metadata": {},
   "source": [
    "To understand garage's characteristics we'll need to dive even more deeper."
   ]
  },
  {
   "cell_type": "code",
   "execution_count": 36,
   "metadata": {},
   "outputs": [
    {
     "name": "stdout",
     "output_type": "stream",
     "text": [
      "Data Dictionary:\n"
     ]
    },
    {
     "data": {
      "text/html": [
       "<table border=\"1\" class=\"dataframe\">\n",
       "  <thead>\n",
       "    <tr style=\"text-align: left;\">\n",
       "      <th></th>\n",
       "      <th>Description</th>\n",
       "      <th>#Unique</th>\n",
       "      <th>%Missing</th>\n",
       "      <th>TopValue</th>\n",
       "      <th>%UsedTop</th>\n",
       "      <th>Dtype</th>\n",
       "      <th>Type</th>\n",
       "      <th>Unit</th>\n",
       "    </tr>\n",
       "  </thead>\n",
       "  <tbody>\n",
       "    <tr>\n",
       "      <th>GarageArea</th>\n",
       "      <td>Size of garage in square feet</td>\n",
       "      <td>604</td>\n",
       "      <td>0.03</td>\n",
       "      <td>0</td>\n",
       "      <td>5.38</td>\n",
       "      <td>float64</td>\n",
       "      <td>cont</td>\n",
       "      <td>square feet</td>\n",
       "    </tr>\n",
       "    <tr>\n",
       "      <th>GarageCars</th>\n",
       "      <td>Size of garage in car capacity</td>\n",
       "      <td>7</td>\n",
       "      <td>0.03</td>\n",
       "      <td>2</td>\n",
       "      <td>54.61</td>\n",
       "      <td>float64</td>\n",
       "      <td>discrete</td>\n",
       "      <td>quantity</td>\n",
       "    </tr>\n",
       "    <tr>\n",
       "      <th>GarageFinish</th>\n",
       "      <td>Interior finish of the garage</td>\n",
       "      <td>4</td>\n",
       "      <td>5.45</td>\n",
       "      <td>Unf</td>\n",
       "      <td>42.14</td>\n",
       "      <td>object</td>\n",
       "      <td>nominal</td>\n",
       "      <td>-</td>\n",
       "    </tr>\n",
       "    <tr>\n",
       "      <th>GarageType</th>\n",
       "      <td>Garage location</td>\n",
       "      <td>7</td>\n",
       "      <td>5.38</td>\n",
       "      <td>Attchd</td>\n",
       "      <td>59.03</td>\n",
       "      <td>object</td>\n",
       "      <td>nominal</td>\n",
       "      <td>-</td>\n",
       "    </tr>\n",
       "    <tr>\n",
       "      <th>GarageYrBlt</th>\n",
       "      <td>Year garage was built</td>\n",
       "      <td>104</td>\n",
       "      <td>5.45</td>\n",
       "      <td>2005</td>\n",
       "      <td>4.86</td>\n",
       "      <td>float64</td>\n",
       "      <td>time</td>\n",
       "      <td>year</td>\n",
       "    </tr>\n",
       "  </tbody>\n",
       "</table>"
      ],
      "text/plain": [
       "<IPython.core.display.HTML object>"
      ]
     },
     "metadata": {},
     "output_type": "display_data"
    },
    {
     "name": "stdout",
     "output_type": "stream",
     "text": [
      "Value Description:\n"
     ]
    },
    {
     "data": {
      "text/html": [
       "<table border=\"1\" class=\"dataframe\">\n",
       "  <thead>\n",
       "    <tr style=\"text-align: left;\">\n",
       "      <th></th>\n",
       "      <th>Feature</th>\n",
       "      <th>Val</th>\n",
       "      <th>Value</th>\n",
       "    </tr>\n",
       "  </thead>\n",
       "  <tbody>\n",
       "    <tr>\n",
       "      <th>77</th>\n",
       "      <td>GarageArea</td>\n",
       "      <td>NaN</td>\n",
       "      <td>NaN</td>\n",
       "    </tr>\n",
       "    <tr>\n",
       "      <th>78</th>\n",
       "      <td>GarageCars</td>\n",
       "      <td>NaN</td>\n",
       "      <td>NaN</td>\n",
       "    </tr>\n",
       "    <tr>\n",
       "      <th>79</th>\n",
       "      <td>GarageFinish</td>\n",
       "      <td>RFn</td>\n",
       "      <td>Rough Finished</td>\n",
       "    </tr>\n",
       "    <tr>\n",
       "      <th>80</th>\n",
       "      <td>GarageFinish</td>\n",
       "      <td>Fin</td>\n",
       "      <td>Finished</td>\n",
       "    </tr>\n",
       "    <tr>\n",
       "      <th>81</th>\n",
       "      <td>GarageFinish</td>\n",
       "      <td>NaN</td>\n",
       "      <td>No Garage</td>\n",
       "    </tr>\n",
       "    <tr>\n",
       "      <th>82</th>\n",
       "      <td>GarageFinish</td>\n",
       "      <td>Unf</td>\n",
       "      <td>Unfinished</td>\n",
       "    </tr>\n",
       "    <tr>\n",
       "      <th>83</th>\n",
       "      <td>GarageType</td>\n",
       "      <td>NaN</td>\n",
       "      <td>No Garage</td>\n",
       "    </tr>\n",
       "    <tr>\n",
       "      <th>84</th>\n",
       "      <td>GarageType</td>\n",
       "      <td>CarPort</td>\n",
       "      <td>Car Port</td>\n",
       "    </tr>\n",
       "    <tr>\n",
       "      <th>85</th>\n",
       "      <td>GarageType</td>\n",
       "      <td>Basment</td>\n",
       "      <td>Basement Garage</td>\n",
       "    </tr>\n",
       "    <tr>\n",
       "      <th>86</th>\n",
       "      <td>GarageType</td>\n",
       "      <td>Attchd</td>\n",
       "      <td>Attached to home</td>\n",
       "    </tr>\n",
       "    <tr>\n",
       "      <th>87</th>\n",
       "      <td>GarageType</td>\n",
       "      <td>2Types</td>\n",
       "      <td>More than one type of garage</td>\n",
       "    </tr>\n",
       "    <tr>\n",
       "      <th>88</th>\n",
       "      <td>GarageType</td>\n",
       "      <td>Detchd</td>\n",
       "      <td>Detached from home</td>\n",
       "    </tr>\n",
       "    <tr>\n",
       "      <th>89</th>\n",
       "      <td>GarageType</td>\n",
       "      <td>BuiltIn</td>\n",
       "      <td>Built-In (Garage part of house - typically has room</td>\n",
       "    </tr>\n",
       "    <tr>\n",
       "      <th>90</th>\n",
       "      <td>GarageYrBlt</td>\n",
       "      <td>123</td>\n",
       "      <td>digits</td>\n",
       "    </tr>\n",
       "  </tbody>\n",
       "</table>"
      ],
      "text/plain": [
       "<IPython.core.display.HTML object>"
      ]
     },
     "metadata": {},
     "output_type": "display_data"
    }
   ],
   "source": [
    "dicts('Garage')"
   ]
  },
  {
   "cell_type": "code",
   "execution_count": 37,
   "metadata": {},
   "outputs": [],
   "source": [
    "for col in ['GarageFinish', 'GarageType']:\n",
    "    df[col] = df[col].cat.add_categories('none').fillna('none')"
   ]
  },
  {
   "cell_type": "code",
   "execution_count": 38,
   "metadata": {},
   "outputs": [],
   "source": [
    "gar = ddict[ddict.index.str.contains('Garage')].index"
   ]
  },
  {
   "cell_type": "code",
   "execution_count": 39,
   "metadata": {},
   "outputs": [
    {
     "data": {
      "text/html": [
       "<div>\n",
       "<style scoped>\n",
       "    .dataframe tbody tr th:only-of-type {\n",
       "        vertical-align: middle;\n",
       "    }\n",
       "\n",
       "    .dataframe tbody tr th {\n",
       "        vertical-align: top;\n",
       "    }\n",
       "\n",
       "    .dataframe thead th {\n",
       "        text-align: right;\n",
       "    }\n",
       "</style>\n",
       "<table border=\"1\" class=\"dataframe\">\n",
       "  <thead>\n",
       "    <tr style=\"text-align: left;\">\n",
       "      <th></th>\n",
       "      <th>GarageArea</th>\n",
       "      <th>GarageCars</th>\n",
       "      <th>GarageFinish</th>\n",
       "      <th>GarageType</th>\n",
       "      <th>GarageYrBlt</th>\n",
       "    </tr>\n",
       "  </thead>\n",
       "  <tbody>\n",
       "    <tr>\n",
       "      <th>2576</th>\n",
       "      <td>nan</td>\n",
       "      <td>nan</td>\n",
       "      <td>none</td>\n",
       "      <td>Detchd</td>\n",
       "      <td>nan</td>\n",
       "    </tr>\n",
       "  </tbody>\n",
       "</table>\n",
       "</div>"
      ],
      "text/plain": [
       "      GarageArea  GarageCars GarageFinish GarageType  GarageYrBlt\n",
       "2576 nan         nan          none         Detchd    nan         "
      ]
     },
     "execution_count": 39,
     "metadata": {},
     "output_type": "execute_result"
    }
   ],
   "source": [
    "df[gar].loc[df['GarageArea'].isnull()]"
   ]
  },
  {
   "cell_type": "code",
   "execution_count": 40,
   "metadata": {},
   "outputs": [
    {
     "data": {
      "text/html": [
       "<div>\n",
       "<style scoped>\n",
       "    .dataframe tbody tr th:only-of-type {\n",
       "        vertical-align: middle;\n",
       "    }\n",
       "\n",
       "    .dataframe tbody tr th {\n",
       "        vertical-align: top;\n",
       "    }\n",
       "\n",
       "    .dataframe thead th {\n",
       "        text-align: right;\n",
       "    }\n",
       "</style>\n",
       "<table border=\"1\" class=\"dataframe\">\n",
       "  <thead>\n",
       "    <tr style=\"text-align: left;\">\n",
       "      <th></th>\n",
       "      <th>GarageArea</th>\n",
       "      <th>GarageCars</th>\n",
       "      <th>GarageFinish</th>\n",
       "      <th>GarageType</th>\n",
       "      <th>GarageYrBlt</th>\n",
       "    </tr>\n",
       "  </thead>\n",
       "  <tbody>\n",
       "    <tr>\n",
       "      <th>2576</th>\n",
       "      <td>nan</td>\n",
       "      <td>nan</td>\n",
       "      <td>none</td>\n",
       "      <td>Detchd</td>\n",
       "      <td>nan</td>\n",
       "    </tr>\n",
       "  </tbody>\n",
       "</table>\n",
       "</div>"
      ],
      "text/plain": [
       "      GarageArea  GarageCars GarageFinish GarageType  GarageYrBlt\n",
       "2576 nan         nan          none         Detchd    nan         "
      ]
     },
     "execution_count": 40,
     "metadata": {},
     "output_type": "execute_result"
    }
   ],
   "source": [
    "df[gar].loc[df['GarageCars'].isnull()]"
   ]
  },
  {
   "cell_type": "code",
   "execution_count": 41,
   "metadata": {},
   "outputs": [],
   "source": [
    "for col in ['GarageArea', 'GarageCars']:\n",
    "    df[col] = df[col].fillna(0)"
   ]
  },
  {
   "cell_type": "markdown",
   "metadata": {},
   "source": [
    "For 'GarageYrBlt' I'll check the value of 'GarageFinish' to be shure what it's no garage here:"
   ]
  },
  {
   "cell_type": "code",
   "execution_count": 42,
   "metadata": {},
   "outputs": [
    {
     "data": {
      "text/plain": [
       "[none]\n",
       "Categories (1, object): [none]"
      ]
     },
     "execution_count": 42,
     "metadata": {},
     "output_type": "execute_result"
    }
   ],
   "source": [
    "tdf = df[gar].loc[df['GarageYrBlt'].isnull()]\n",
    "tdf['GarageFinish'].unique()"
   ]
  },
  {
   "cell_type": "code",
   "execution_count": 43,
   "metadata": {},
   "outputs": [],
   "source": [
    "df['GarageYrBlt'] = df['GarageYrBlt'].fillna(0)"
   ]
  },
  {
   "cell_type": "code",
   "execution_count": 44,
   "metadata": {},
   "outputs": [
    {
     "data": {
      "text/plain": [
       "GarageArea      0\n",
       "GarageCars      0\n",
       "GarageFinish    0\n",
       "GarageType      0\n",
       "GarageYrBlt     0\n",
       "dtype: int64"
      ]
     },
     "execution_count": 44,
     "metadata": {},
     "output_type": "execute_result"
    }
   ],
   "source": [
    "df[gar].isnull().sum()"
   ]
  },
  {
   "cell_type": "markdown",
   "metadata": {},
   "source": [
    "What the basement features are preparing for us?"
   ]
  },
  {
   "cell_type": "code",
   "execution_count": 45,
   "metadata": {},
   "outputs": [
    {
     "name": "stdout",
     "output_type": "stream",
     "text": [
      "Data Dictionary:\n"
     ]
    },
    {
     "data": {
      "text/html": [
       "<table border=\"1\" class=\"dataframe\">\n",
       "  <thead>\n",
       "    <tr style=\"text-align: left;\">\n",
       "      <th></th>\n",
       "      <th>Description</th>\n",
       "      <th>#Unique</th>\n",
       "      <th>%Missing</th>\n",
       "      <th>TopValue</th>\n",
       "      <th>%UsedTop</th>\n",
       "      <th>Dtype</th>\n",
       "      <th>Type</th>\n",
       "      <th>Unit</th>\n",
       "    </tr>\n",
       "  </thead>\n",
       "  <tbody>\n",
       "    <tr>\n",
       "      <th>BsmtExposure</th>\n",
       "      <td>Refers to walkout or garden level walls</td>\n",
       "      <td>5</td>\n",
       "      <td>2.81</td>\n",
       "      <td>No</td>\n",
       "      <td>65.23</td>\n",
       "      <td>object</td>\n",
       "      <td>ordinal</td>\n",
       "      <td>rate</td>\n",
       "    </tr>\n",
       "    <tr>\n",
       "      <th>BsmtFinSF1</th>\n",
       "      <td>Type 1 finished square feet</td>\n",
       "      <td>992</td>\n",
       "      <td>0.03</td>\n",
       "      <td>0</td>\n",
       "      <td>31.83</td>\n",
       "      <td>float64</td>\n",
       "      <td>cont</td>\n",
       "      <td>square feet</td>\n",
       "    </tr>\n",
       "    <tr>\n",
       "      <th>BsmtFinType1</th>\n",
       "      <td>Rating of basement finished area</td>\n",
       "      <td>7</td>\n",
       "      <td>2.71</td>\n",
       "      <td>Unf</td>\n",
       "      <td>29.15</td>\n",
       "      <td>object</td>\n",
       "      <td>ordinal</td>\n",
       "      <td>rate</td>\n",
       "    </tr>\n",
       "    <tr>\n",
       "      <th>BsmtFullBath</th>\n",
       "      <td>Basement full bathrooms</td>\n",
       "      <td>5</td>\n",
       "      <td>0.07</td>\n",
       "      <td>0</td>\n",
       "      <td>58.41</td>\n",
       "      <td>float64</td>\n",
       "      <td>discrete</td>\n",
       "      <td>quantity</td>\n",
       "    </tr>\n",
       "    <tr>\n",
       "      <th>BsmtQual</th>\n",
       "      <td>Evaluates the height of the basement</td>\n",
       "      <td>5</td>\n",
       "      <td>2.77</td>\n",
       "      <td>TA</td>\n",
       "      <td>43.95</td>\n",
       "      <td>object</td>\n",
       "      <td>ordinal</td>\n",
       "      <td>rate</td>\n",
       "    </tr>\n",
       "    <tr>\n",
       "      <th>BsmtUnfSF</th>\n",
       "      <td>Unfinished square feet of basement area</td>\n",
       "      <td>1136</td>\n",
       "      <td>0.03</td>\n",
       "      <td>0</td>\n",
       "      <td>8.26</td>\n",
       "      <td>float64</td>\n",
       "      <td>cont</td>\n",
       "      <td>square feet</td>\n",
       "    </tr>\n",
       "  </tbody>\n",
       "</table>"
      ],
      "text/plain": [
       "<IPython.core.display.HTML object>"
      ]
     },
     "metadata": {},
     "output_type": "display_data"
    },
    {
     "name": "stdout",
     "output_type": "stream",
     "text": [
      "Value Description:\n"
     ]
    },
    {
     "data": {
      "text/html": [
       "<table border=\"1\" class=\"dataframe\">\n",
       "  <thead>\n",
       "    <tr style=\"text-align: left;\">\n",
       "      <th></th>\n",
       "      <th>Feature</th>\n",
       "      <th>Val</th>\n",
       "      <th>Value</th>\n",
       "    </tr>\n",
       "  </thead>\n",
       "  <tbody>\n",
       "    <tr>\n",
       "      <th>3</th>\n",
       "      <td>BsmtExposure</td>\n",
       "      <td>Gd</td>\n",
       "      <td>Good Exposure</td>\n",
       "    </tr>\n",
       "    <tr>\n",
       "      <th>4</th>\n",
       "      <td>BsmtExposure</td>\n",
       "      <td>Av</td>\n",
       "      <td>Average Exposure (split levels or foyers typically score</td>\n",
       "    </tr>\n",
       "    <tr>\n",
       "      <th>5</th>\n",
       "      <td>BsmtExposure</td>\n",
       "      <td>No</td>\n",
       "      <td>No Exposure</td>\n",
       "    </tr>\n",
       "    <tr>\n",
       "      <th>6</th>\n",
       "      <td>BsmtExposure</td>\n",
       "      <td>NaN</td>\n",
       "      <td>No Basement</td>\n",
       "    </tr>\n",
       "    <tr>\n",
       "      <th>7</th>\n",
       "      <td>BsmtExposure</td>\n",
       "      <td>Mn</td>\n",
       "      <td>Mimimum Exposure</td>\n",
       "    </tr>\n",
       "    <tr>\n",
       "      <th>8</th>\n",
       "      <td>BsmtFinSF1</td>\n",
       "      <td>NaN</td>\n",
       "      <td>NaN</td>\n",
       "    </tr>\n",
       "    <tr>\n",
       "      <th>9</th>\n",
       "      <td>BsmtFinType1</td>\n",
       "      <td>ALQ</td>\n",
       "      <td>Average Living Quarters</td>\n",
       "    </tr>\n",
       "    <tr>\n",
       "      <th>10</th>\n",
       "      <td>BsmtFinType1</td>\n",
       "      <td>NaN</td>\n",
       "      <td>No Basement</td>\n",
       "    </tr>\n",
       "    <tr>\n",
       "      <th>11</th>\n",
       "      <td>BsmtFinType1</td>\n",
       "      <td>Rec</td>\n",
       "      <td>Average Rec Room</td>\n",
       "    </tr>\n",
       "    <tr>\n",
       "      <th>12</th>\n",
       "      <td>BsmtFinType1</td>\n",
       "      <td>Unf</td>\n",
       "      <td>Unfinshed</td>\n",
       "    </tr>\n",
       "    <tr>\n",
       "      <th>13</th>\n",
       "      <td>BsmtFinType1</td>\n",
       "      <td>BLQ</td>\n",
       "      <td>Below Average Living Quarters</td>\n",
       "    </tr>\n",
       "    <tr>\n",
       "      <th>14</th>\n",
       "      <td>BsmtFinType1</td>\n",
       "      <td>GLQ</td>\n",
       "      <td>Good Living Quarters</td>\n",
       "    </tr>\n",
       "    <tr>\n",
       "      <th>15</th>\n",
       "      <td>BsmtFinType1</td>\n",
       "      <td>LwQ</td>\n",
       "      <td>Low Quality</td>\n",
       "    </tr>\n",
       "    <tr>\n",
       "      <th>16</th>\n",
       "      <td>BsmtFullBath</td>\n",
       "      <td>NaN</td>\n",
       "      <td>NaN</td>\n",
       "    </tr>\n",
       "    <tr>\n",
       "      <th>17</th>\n",
       "      <td>BsmtQual</td>\n",
       "      <td>TA</td>\n",
       "      <td>Typical (80-89 inches)</td>\n",
       "    </tr>\n",
       "    <tr>\n",
       "      <th>18</th>\n",
       "      <td>BsmtQual</td>\n",
       "      <td>Gd</td>\n",
       "      <td>Good (90-99 inches)</td>\n",
       "    </tr>\n",
       "    <tr>\n",
       "      <th>19</th>\n",
       "      <td>BsmtQual</td>\n",
       "      <td>Ex</td>\n",
       "      <td>Excellent (100+ inches)</td>\n",
       "    </tr>\n",
       "    <tr>\n",
       "      <th>20</th>\n",
       "      <td>BsmtQual</td>\n",
       "      <td>Po</td>\n",
       "      <td>Poor (&lt;70 inches</td>\n",
       "    </tr>\n",
       "    <tr>\n",
       "      <th>21</th>\n",
       "      <td>BsmtQual</td>\n",
       "      <td>NaN</td>\n",
       "      <td>No Basement</td>\n",
       "    </tr>\n",
       "    <tr>\n",
       "      <th>22</th>\n",
       "      <td>BsmtQual</td>\n",
       "      <td>Fa</td>\n",
       "      <td>Fair (70-79 inches)</td>\n",
       "    </tr>\n",
       "    <tr>\n",
       "      <th>23</th>\n",
       "      <td>BsmtUnfSF</td>\n",
       "      <td>NaN</td>\n",
       "      <td>NaN</td>\n",
       "    </tr>\n",
       "  </tbody>\n",
       "</table>"
      ],
      "text/plain": [
       "<IPython.core.display.HTML object>"
      ]
     },
     "metadata": {},
     "output_type": "display_data"
    }
   ],
   "source": [
    "dicts('Bsmt')"
   ]
  },
  {
   "cell_type": "code",
   "execution_count": 46,
   "metadata": {},
   "outputs": [],
   "source": [
    "noBsmt = ['BsmtQual', 'BsmtFinType1', 'BsmtExposure']\n",
    "for col in noBsmt:\n",
    "    df[col] = df[col].cat.add_categories('no basement').fillna('no basement')"
   ]
  },
  {
   "cell_type": "code",
   "execution_count": 47,
   "metadata": {},
   "outputs": [],
   "source": [
    "df['BsmtExposure'] = df['BsmtExposure'].replace({'No':'no exposure'})"
   ]
  },
  {
   "cell_type": "code",
   "execution_count": 48,
   "metadata": {},
   "outputs": [],
   "source": [
    "for col in ['BsmtFullBath', 'BsmtUnfSF', 'BsmtFinSF1']:\n",
    "    df[col] = df[col].fillna(0)"
   ]
  },
  {
   "cell_type": "code",
   "execution_count": 49,
   "metadata": {},
   "outputs": [
    {
     "data": {
      "text/plain": [
       "BsmtQual        0\n",
       "BsmtFinType1    0\n",
       "BsmtExposure    0\n",
       "dtype: int64"
      ]
     },
     "execution_count": 49,
     "metadata": {},
     "output_type": "execute_result"
    }
   ],
   "source": [
    "df[noBsmt].isnull().sum()"
   ]
  },
  {
   "cell_type": "markdown",
   "metadata": {},
   "source": [
    "Massonry"
   ]
  },
  {
   "cell_type": "code",
   "execution_count": 50,
   "metadata": {},
   "outputs": [
    {
     "name": "stdout",
     "output_type": "stream",
     "text": [
      "Data Dictionary:\n"
     ]
    },
    {
     "data": {
      "text/html": [
       "<table border=\"1\" class=\"dataframe\">\n",
       "  <thead>\n",
       "    <tr style=\"text-align: left;\">\n",
       "      <th></th>\n",
       "      <th>Description</th>\n",
       "      <th>#Unique</th>\n",
       "      <th>%Missing</th>\n",
       "      <th>TopValue</th>\n",
       "      <th>%UsedTop</th>\n",
       "      <th>Dtype</th>\n",
       "      <th>Type</th>\n",
       "      <th>Unit</th>\n",
       "    </tr>\n",
       "  </thead>\n",
       "  <tbody>\n",
       "    <tr>\n",
       "      <th>MasVnrArea</th>\n",
       "      <td>Masonry veneer area in square feet</td>\n",
       "      <td>445</td>\n",
       "      <td>0.79</td>\n",
       "      <td>0</td>\n",
       "      <td>59.54</td>\n",
       "      <td>float64</td>\n",
       "      <td>cont</td>\n",
       "      <td>square feet</td>\n",
       "    </tr>\n",
       "    <tr>\n",
       "      <th>MasVnrType</th>\n",
       "      <td>Masonry veneer type</td>\n",
       "      <td>5</td>\n",
       "      <td>0.82</td>\n",
       "      <td>None</td>\n",
       "      <td>59.68</td>\n",
       "      <td>object</td>\n",
       "      <td>nominal</td>\n",
       "      <td>-</td>\n",
       "    </tr>\n",
       "  </tbody>\n",
       "</table>"
      ],
      "text/plain": [
       "<IPython.core.display.HTML object>"
      ]
     },
     "metadata": {},
     "output_type": "display_data"
    },
    {
     "name": "stdout",
     "output_type": "stream",
     "text": [
      "Value Description:\n"
     ]
    },
    {
     "data": {
      "text/html": [
       "<table border=\"1\" class=\"dataframe\">\n",
       "  <thead>\n",
       "    <tr style=\"text-align: left;\">\n",
       "      <th></th>\n",
       "      <th>Feature</th>\n",
       "      <th>Val</th>\n",
       "      <th>Value</th>\n",
       "    </tr>\n",
       "  </thead>\n",
       "  <tbody>\n",
       "    <tr>\n",
       "      <th>145</th>\n",
       "      <td>MasVnrArea</td>\n",
       "      <td>NaN</td>\n",
       "      <td>NaN</td>\n",
       "    </tr>\n",
       "    <tr>\n",
       "      <th>146</th>\n",
       "      <td>MasVnrType</td>\n",
       "      <td>Stone</td>\n",
       "      <td>Stone</td>\n",
       "    </tr>\n",
       "    <tr>\n",
       "      <th>147</th>\n",
       "      <td>MasVnrType</td>\n",
       "      <td>BrkFace</td>\n",
       "      <td>Brick Face</td>\n",
       "    </tr>\n",
       "    <tr>\n",
       "      <th>148</th>\n",
       "      <td>MasVnrType</td>\n",
       "      <td>BrkCmn</td>\n",
       "      <td>Brick Common</td>\n",
       "    </tr>\n",
       "    <tr>\n",
       "      <th>149</th>\n",
       "      <td>MasVnrType</td>\n",
       "      <td>CBlock</td>\n",
       "      <td>Cinder Block</td>\n",
       "    </tr>\n",
       "    <tr>\n",
       "      <th>150</th>\n",
       "      <td>MasVnrType</td>\n",
       "      <td>None</td>\n",
       "      <td>None</td>\n",
       "    </tr>\n",
       "  </tbody>\n",
       "</table>"
      ],
      "text/plain": [
       "<IPython.core.display.HTML object>"
      ]
     },
     "metadata": {},
     "output_type": "display_data"
    }
   ],
   "source": [
    "dicts('Mas')"
   ]
  },
  {
   "cell_type": "code",
   "execution_count": 51,
   "metadata": {},
   "outputs": [],
   "source": [
    "df['MasVnrType'] = df['MasVnrType'].cat.add_categories('none').fillna('none')"
   ]
  },
  {
   "cell_type": "code",
   "execution_count": 52,
   "metadata": {},
   "outputs": [
    {
     "data": {
      "text/plain": [
       "[none]\n",
       "Categories (1, object): [none]"
      ]
     },
     "execution_count": 52,
     "metadata": {},
     "output_type": "execute_result"
    }
   ],
   "source": [
    "tdf = df[['MasVnrType', 'MasVnrArea']].loc[df['MasVnrArea'].isnull()]\n",
    "tdf['MasVnrType'].unique()"
   ]
  },
  {
   "cell_type": "code",
   "execution_count": 53,
   "metadata": {},
   "outputs": [],
   "source": [
    "df['MasVnrArea'] = df['MasVnrArea'].fillna(0)"
   ]
  },
  {
   "cell_type": "code",
   "execution_count": 54,
   "metadata": {},
   "outputs": [
    {
     "name": "stdout",
     "output_type": "stream",
     "text": [
      "Data Dictionary:\n"
     ]
    },
    {
     "data": {
      "text/html": [
       "<table border=\"1\" class=\"dataframe\">\n",
       "  <thead>\n",
       "    <tr style=\"text-align: left;\">\n",
       "      <th></th>\n",
       "      <th>Description</th>\n",
       "      <th>#Unique</th>\n",
       "      <th>%Missing</th>\n",
       "      <th>TopValue</th>\n",
       "      <th>%UsedTop</th>\n",
       "      <th>Dtype</th>\n",
       "      <th>Type</th>\n",
       "      <th>Unit</th>\n",
       "    </tr>\n",
       "  </thead>\n",
       "  <tbody>\n",
       "    <tr>\n",
       "      <th>MSZoning</th>\n",
       "      <td>Identifies the general zoning classification of the sale.</td>\n",
       "      <td>6</td>\n",
       "      <td>0.14</td>\n",
       "      <td>RL</td>\n",
       "      <td>77.60</td>\n",
       "      <td>object</td>\n",
       "      <td>nominal</td>\n",
       "      <td>-</td>\n",
       "    </tr>\n",
       "  </tbody>\n",
       "</table>"
      ],
      "text/plain": [
       "<IPython.core.display.HTML object>"
      ]
     },
     "metadata": {},
     "output_type": "display_data"
    },
    {
     "name": "stdout",
     "output_type": "stream",
     "text": [
      "Value Description:\n"
     ]
    },
    {
     "data": {
      "text/html": [
       "<table border=\"1\" class=\"dataframe\">\n",
       "  <thead>\n",
       "    <tr style=\"text-align: left;\">\n",
       "      <th></th>\n",
       "      <th>Feature</th>\n",
       "      <th>Val</th>\n",
       "      <th>Value</th>\n",
       "    </tr>\n",
       "  </thead>\n",
       "  <tbody>\n",
       "    <tr>\n",
       "      <th>137</th>\n",
       "      <td>MSZoning</td>\n",
       "      <td>A</td>\n",
       "      <td>Agriculture</td>\n",
       "    </tr>\n",
       "    <tr>\n",
       "      <th>138</th>\n",
       "      <td>MSZoning</td>\n",
       "      <td>C</td>\n",
       "      <td>Commercial</td>\n",
       "    </tr>\n",
       "    <tr>\n",
       "      <th>139</th>\n",
       "      <td>MSZoning</td>\n",
       "      <td>FV</td>\n",
       "      <td>Floating Village Residential</td>\n",
       "    </tr>\n",
       "    <tr>\n",
       "      <th>140</th>\n",
       "      <td>MSZoning</td>\n",
       "      <td>I</td>\n",
       "      <td>Industrial</td>\n",
       "    </tr>\n",
       "    <tr>\n",
       "      <th>141</th>\n",
       "      <td>MSZoning</td>\n",
       "      <td>RH</td>\n",
       "      <td>Residential High Density</td>\n",
       "    </tr>\n",
       "    <tr>\n",
       "      <th>142</th>\n",
       "      <td>MSZoning</td>\n",
       "      <td>RL</td>\n",
       "      <td>Residential Low Density</td>\n",
       "    </tr>\n",
       "    <tr>\n",
       "      <th>143</th>\n",
       "      <td>MSZoning</td>\n",
       "      <td>RP</td>\n",
       "      <td>Residential Low Density Park</td>\n",
       "    </tr>\n",
       "    <tr>\n",
       "      <th>144</th>\n",
       "      <td>MSZoning</td>\n",
       "      <td>RM</td>\n",
       "      <td>Residential Medium Density</td>\n",
       "    </tr>\n",
       "  </tbody>\n",
       "</table>"
      ],
      "text/plain": [
       "<IPython.core.display.HTML object>"
      ]
     },
     "metadata": {},
     "output_type": "display_data"
    }
   ],
   "source": [
    "dicts('MSZ')"
   ]
  },
  {
   "cell_type": "markdown",
   "metadata": {},
   "source": [
    "'MSZoning' identifies the general zoning classification of the sale - let's take a look to sales when MSZoning is missing"
   ]
  },
  {
   "cell_type": "code",
   "execution_count": 55,
   "metadata": {},
   "outputs": [
    {
     "data": {
      "text/html": [
       "<div>\n",
       "<style scoped>\n",
       "    .dataframe tbody tr th:only-of-type {\n",
       "        vertical-align: middle;\n",
       "    }\n",
       "\n",
       "    .dataframe tbody tr th {\n",
       "        vertical-align: top;\n",
       "    }\n",
       "\n",
       "    .dataframe thead th {\n",
       "        text-align: right;\n",
       "    }\n",
       "</style>\n",
       "<table border=\"1\" class=\"dataframe\">\n",
       "  <thead>\n",
       "    <tr style=\"text-align: left;\">\n",
       "      <th></th>\n",
       "      <th>SalePrice</th>\n",
       "      <th>MSZoning</th>\n",
       "    </tr>\n",
       "  </thead>\n",
       "  <tbody>\n",
       "    <tr>\n",
       "      <th>1915</th>\n",
       "      <td>nan</td>\n",
       "      <td>NaN</td>\n",
       "    </tr>\n",
       "    <tr>\n",
       "      <th>2216</th>\n",
       "      <td>nan</td>\n",
       "      <td>NaN</td>\n",
       "    </tr>\n",
       "    <tr>\n",
       "      <th>2250</th>\n",
       "      <td>nan</td>\n",
       "      <td>NaN</td>\n",
       "    </tr>\n",
       "    <tr>\n",
       "      <th>2904</th>\n",
       "      <td>nan</td>\n",
       "      <td>NaN</td>\n",
       "    </tr>\n",
       "  </tbody>\n",
       "</table>\n",
       "</div>"
      ],
      "text/plain": [
       "      SalePrice MSZoning\n",
       "1915 nan         NaN    \n",
       "2216 nan         NaN    \n",
       "2250 nan         NaN    \n",
       "2904 nan         NaN    "
      ]
     },
     "execution_count": 55,
     "metadata": {},
     "output_type": "execute_result"
    }
   ],
   "source": [
    "sale = ddict[ddict.index.str.contains('Sale')].index\n",
    "sale = np.append(sale, ['MSZoning'])\n",
    "df[sale].loc[df['MSZoning'].isnull()]"
   ]
  },
  {
   "cell_type": "markdown",
   "metadata": {},
   "source": [
    "All missing values in 'SalePrice' are from a test data set, so I'll fill with the top value "
   ]
  },
  {
   "cell_type": "code",
   "execution_count": 56,
   "metadata": {},
   "outputs": [],
   "source": [
    "df['MSZoning'] = df['MSZoning'].fillna('RL')"
   ]
  },
  {
   "cell_type": "code",
   "execution_count": 57,
   "metadata": {},
   "outputs": [
    {
     "name": "stdout",
     "output_type": "stream",
     "text": [
      "Data Dictionary:\n"
     ]
    },
    {
     "data": {
      "text/html": [
       "<table border=\"1\" class=\"dataframe\">\n",
       "  <thead>\n",
       "    <tr style=\"text-align: left;\">\n",
       "      <th></th>\n",
       "      <th>Description</th>\n",
       "      <th>#Unique</th>\n",
       "      <th>%Missing</th>\n",
       "      <th>TopValue</th>\n",
       "      <th>%UsedTop</th>\n",
       "      <th>Dtype</th>\n",
       "      <th>Type</th>\n",
       "      <th>Unit</th>\n",
       "    </tr>\n",
       "  </thead>\n",
       "  <tbody>\n",
       "    <tr>\n",
       "      <th>ExterQual</th>\n",
       "      <td>Evaluates the quality of the material on the exterior</td>\n",
       "      <td>4</td>\n",
       "      <td>0.00</td>\n",
       "      <td>TA</td>\n",
       "      <td>61.60</td>\n",
       "      <td>object</td>\n",
       "      <td>ordinal</td>\n",
       "      <td>rate</td>\n",
       "    </tr>\n",
       "    <tr>\n",
       "      <th>Exterior1st</th>\n",
       "      <td>Exterior covering on house</td>\n",
       "      <td>16</td>\n",
       "      <td>0.03</td>\n",
       "      <td>VinylSd</td>\n",
       "      <td>35.11</td>\n",
       "      <td>object</td>\n",
       "      <td>nominal</td>\n",
       "      <td>-</td>\n",
       "    </tr>\n",
       "    <tr>\n",
       "      <th>Exterior2nd</th>\n",
       "      <td>Exterior covering on house (if more than one material)</td>\n",
       "      <td>17</td>\n",
       "      <td>0.03</td>\n",
       "      <td>VinylSd</td>\n",
       "      <td>34.74</td>\n",
       "      <td>object</td>\n",
       "      <td>nominal</td>\n",
       "      <td>-</td>\n",
       "    </tr>\n",
       "  </tbody>\n",
       "</table>"
      ],
      "text/plain": [
       "<IPython.core.display.HTML object>"
      ]
     },
     "metadata": {},
     "output_type": "display_data"
    },
    {
     "name": "stdout",
     "output_type": "stream",
     "text": [
      "Value Description:\n"
     ]
    },
    {
     "data": {
      "text/html": [
       "<table border=\"1\" class=\"dataframe\">\n",
       "  <thead>\n",
       "    <tr style=\"text-align: left;\">\n",
       "      <th></th>\n",
       "      <th>Feature</th>\n",
       "      <th>Val</th>\n",
       "      <th>Value</th>\n",
       "    </tr>\n",
       "  </thead>\n",
       "  <tbody>\n",
       "    <tr>\n",
       "      <th>24</th>\n",
       "      <td>ExterQual</td>\n",
       "      <td>Po</td>\n",
       "      <td>Poor</td>\n",
       "    </tr>\n",
       "    <tr>\n",
       "      <th>25</th>\n",
       "      <td>ExterQual</td>\n",
       "      <td>Fa</td>\n",
       "      <td>Fair</td>\n",
       "    </tr>\n",
       "    <tr>\n",
       "      <th>26</th>\n",
       "      <td>ExterQual</td>\n",
       "      <td>TA</td>\n",
       "      <td>Average/Typical</td>\n",
       "    </tr>\n",
       "    <tr>\n",
       "      <th>27</th>\n",
       "      <td>ExterQual</td>\n",
       "      <td>Gd</td>\n",
       "      <td>Good</td>\n",
       "    </tr>\n",
       "    <tr>\n",
       "      <th>28</th>\n",
       "      <td>ExterQual</td>\n",
       "      <td>Ex</td>\n",
       "      <td>Excellent</td>\n",
       "    </tr>\n",
       "    <tr>\n",
       "      <th>29</th>\n",
       "      <td>Exterior1st</td>\n",
       "      <td>AsphShn</td>\n",
       "      <td>Asphalt Shingles</td>\n",
       "    </tr>\n",
       "    <tr>\n",
       "      <th>30</th>\n",
       "      <td>Exterior1st</td>\n",
       "      <td>AsbShng</td>\n",
       "      <td>Asbestos Shingles</td>\n",
       "    </tr>\n",
       "    <tr>\n",
       "      <th>31</th>\n",
       "      <td>Exterior1st</td>\n",
       "      <td>WdShing</td>\n",
       "      <td>Wood Shingles</td>\n",
       "    </tr>\n",
       "    <tr>\n",
       "      <th>32</th>\n",
       "      <td>Exterior1st</td>\n",
       "      <td>Stucco</td>\n",
       "      <td>Stucco</td>\n",
       "    </tr>\n",
       "    <tr>\n",
       "      <th>33</th>\n",
       "      <td>Exterior1st</td>\n",
       "      <td>BrkComm</td>\n",
       "      <td>Brick Common</td>\n",
       "    </tr>\n",
       "    <tr>\n",
       "      <th>34</th>\n",
       "      <td>Exterior1st</td>\n",
       "      <td>BrkFace</td>\n",
       "      <td>Brick Face</td>\n",
       "    </tr>\n",
       "    <tr>\n",
       "      <th>35</th>\n",
       "      <td>Exterior1st</td>\n",
       "      <td>CBlock</td>\n",
       "      <td>Cinder Block</td>\n",
       "    </tr>\n",
       "    <tr>\n",
       "      <th>36</th>\n",
       "      <td>Exterior1st</td>\n",
       "      <td>CemntBd</td>\n",
       "      <td>Cement Board</td>\n",
       "    </tr>\n",
       "    <tr>\n",
       "      <th>37</th>\n",
       "      <td>Exterior1st</td>\n",
       "      <td>HdBoard</td>\n",
       "      <td>Hard Board</td>\n",
       "    </tr>\n",
       "    <tr>\n",
       "      <th>38</th>\n",
       "      <td>Exterior1st</td>\n",
       "      <td>VinylSd</td>\n",
       "      <td>Vinyl Siding</td>\n",
       "    </tr>\n",
       "    <tr>\n",
       "      <th>39</th>\n",
       "      <td>Exterior1st</td>\n",
       "      <td>ImStucc</td>\n",
       "      <td>Imitation Stucco</td>\n",
       "    </tr>\n",
       "    <tr>\n",
       "      <th>40</th>\n",
       "      <td>Exterior1st</td>\n",
       "      <td>MetalSd</td>\n",
       "      <td>Metal Siding</td>\n",
       "    </tr>\n",
       "    <tr>\n",
       "      <th>41</th>\n",
       "      <td>Exterior1st</td>\n",
       "      <td>Other</td>\n",
       "      <td>Other</td>\n",
       "    </tr>\n",
       "    <tr>\n",
       "      <th>42</th>\n",
       "      <td>Exterior1st</td>\n",
       "      <td>Plywood</td>\n",
       "      <td>Plywood</td>\n",
       "    </tr>\n",
       "    <tr>\n",
       "      <th>43</th>\n",
       "      <td>Exterior1st</td>\n",
       "      <td>PreCast</td>\n",
       "      <td>PreCast</td>\n",
       "    </tr>\n",
       "    <tr>\n",
       "      <th>44</th>\n",
       "      <td>Exterior1st</td>\n",
       "      <td>Stone</td>\n",
       "      <td>Stone</td>\n",
       "    </tr>\n",
       "    <tr>\n",
       "      <th>45</th>\n",
       "      <td>Exterior1st</td>\n",
       "      <td>Wd Sdng</td>\n",
       "      <td>Wood Siding</td>\n",
       "    </tr>\n",
       "    <tr>\n",
       "      <th>46</th>\n",
       "      <td>Exterior2nd</td>\n",
       "      <td>AsbShng</td>\n",
       "      <td>Asbestos Shingles</td>\n",
       "    </tr>\n",
       "    <tr>\n",
       "      <th>47</th>\n",
       "      <td>Exterior2nd</td>\n",
       "      <td>Wd Sdng</td>\n",
       "      <td>Wood Siding</td>\n",
       "    </tr>\n",
       "    <tr>\n",
       "      <th>48</th>\n",
       "      <td>Exterior2nd</td>\n",
       "      <td>VinylSd</td>\n",
       "      <td>Vinyl Siding</td>\n",
       "    </tr>\n",
       "    <tr>\n",
       "      <th>49</th>\n",
       "      <td>Exterior2nd</td>\n",
       "      <td>Stone</td>\n",
       "      <td>Stone</td>\n",
       "    </tr>\n",
       "    <tr>\n",
       "      <th>50</th>\n",
       "      <td>Exterior2nd</td>\n",
       "      <td>PreCast</td>\n",
       "      <td>PreCast</td>\n",
       "    </tr>\n",
       "    <tr>\n",
       "      <th>51</th>\n",
       "      <td>Exterior2nd</td>\n",
       "      <td>Plywood</td>\n",
       "      <td>Plywood</td>\n",
       "    </tr>\n",
       "    <tr>\n",
       "      <th>52</th>\n",
       "      <td>Exterior2nd</td>\n",
       "      <td>Other</td>\n",
       "      <td>Other</td>\n",
       "    </tr>\n",
       "    <tr>\n",
       "      <th>53</th>\n",
       "      <td>Exterior2nd</td>\n",
       "      <td>MetalSd</td>\n",
       "      <td>Metal Siding</td>\n",
       "    </tr>\n",
       "    <tr>\n",
       "      <th>54</th>\n",
       "      <td>Exterior2nd</td>\n",
       "      <td>ImStucc</td>\n",
       "      <td>Imitation Stucco</td>\n",
       "    </tr>\n",
       "    <tr>\n",
       "      <th>55</th>\n",
       "      <td>Exterior2nd</td>\n",
       "      <td>CemntBd</td>\n",
       "      <td>Cement Board</td>\n",
       "    </tr>\n",
       "    <tr>\n",
       "      <th>56</th>\n",
       "      <td>Exterior2nd</td>\n",
       "      <td>CBlock</td>\n",
       "      <td>Cinder Block</td>\n",
       "    </tr>\n",
       "    <tr>\n",
       "      <th>57</th>\n",
       "      <td>Exterior2nd</td>\n",
       "      <td>BrkFace</td>\n",
       "      <td>Brick Face</td>\n",
       "    </tr>\n",
       "    <tr>\n",
       "      <th>58</th>\n",
       "      <td>Exterior2nd</td>\n",
       "      <td>BrkComm</td>\n",
       "      <td>Brick Common</td>\n",
       "    </tr>\n",
       "    <tr>\n",
       "      <th>59</th>\n",
       "      <td>Exterior2nd</td>\n",
       "      <td>AsphShn</td>\n",
       "      <td>Asphalt Shingles</td>\n",
       "    </tr>\n",
       "    <tr>\n",
       "      <th>60</th>\n",
       "      <td>Exterior2nd</td>\n",
       "      <td>Stucco</td>\n",
       "      <td>Stucco</td>\n",
       "    </tr>\n",
       "    <tr>\n",
       "      <th>61</th>\n",
       "      <td>Exterior2nd</td>\n",
       "      <td>HdBoard</td>\n",
       "      <td>Hard Board</td>\n",
       "    </tr>\n",
       "    <tr>\n",
       "      <th>62</th>\n",
       "      <td>Exterior2nd</td>\n",
       "      <td>WdShing</td>\n",
       "      <td>Wood Shingles</td>\n",
       "    </tr>\n",
       "  </tbody>\n",
       "</table>"
      ],
      "text/plain": [
       "<IPython.core.display.HTML object>"
      ]
     },
     "metadata": {},
     "output_type": "display_data"
    }
   ],
   "source": [
    "dicts('Exter')"
   ]
  },
  {
   "cell_type": "code",
   "execution_count": 58,
   "metadata": {},
   "outputs": [
    {
     "data": {
      "text/html": [
       "<div>\n",
       "<style scoped>\n",
       "    .dataframe tbody tr th:only-of-type {\n",
       "        vertical-align: middle;\n",
       "    }\n",
       "\n",
       "    .dataframe tbody tr th {\n",
       "        vertical-align: top;\n",
       "    }\n",
       "\n",
       "    .dataframe thead th {\n",
       "        text-align: right;\n",
       "    }\n",
       "</style>\n",
       "<table border=\"1\" class=\"dataframe\">\n",
       "  <thead>\n",
       "    <tr style=\"text-align: left;\">\n",
       "      <th></th>\n",
       "      <th>ExterQual</th>\n",
       "      <th>Exterior1st</th>\n",
       "      <th>Exterior2nd</th>\n",
       "    </tr>\n",
       "  </thead>\n",
       "  <tbody>\n",
       "    <tr>\n",
       "      <th>2151</th>\n",
       "      <td>TA</td>\n",
       "      <td>NaN</td>\n",
       "      <td>NaN</td>\n",
       "    </tr>\n",
       "  </tbody>\n",
       "</table>\n",
       "</div>"
      ],
      "text/plain": [
       "     ExterQual Exterior1st Exterior2nd\n",
       "2151  TA        NaN         NaN       "
      ]
     },
     "execution_count": 58,
     "metadata": {},
     "output_type": "execute_result"
    }
   ],
   "source": [
    "ext = ddict[ddict.index.str.contains('Ext')].index\n",
    "df[ext].loc[df['Exterior1st'].isnull()]"
   ]
  },
  {
   "cell_type": "code",
   "execution_count": 59,
   "metadata": {},
   "outputs": [],
   "source": [
    "for col in ['Exterior1st', 'Exterior2nd']:\n",
    "    df[col] = df[col].fillna('VinylSd')"
   ]
  },
  {
   "cell_type": "code",
   "execution_count": 60,
   "metadata": {},
   "outputs": [
    {
     "name": "stdout",
     "output_type": "stream",
     "text": [
      "Data Dictionary:\n"
     ]
    },
    {
     "data": {
      "text/html": [
       "<table border=\"1\" class=\"dataframe\">\n",
       "  <thead>\n",
       "    <tr style=\"text-align: left;\">\n",
       "      <th></th>\n",
       "      <th>Description</th>\n",
       "      <th>#Unique</th>\n",
       "      <th>%Missing</th>\n",
       "      <th>TopValue</th>\n",
       "      <th>%UsedTop</th>\n",
       "      <th>Dtype</th>\n",
       "      <th>Type</th>\n",
       "      <th>Unit</th>\n",
       "    </tr>\n",
       "  </thead>\n",
       "  <tbody>\n",
       "    <tr>\n",
       "      <th>KitchenQual</th>\n",
       "      <td>Kitchen quality</td>\n",
       "      <td>5</td>\n",
       "      <td>0.03</td>\n",
       "      <td>TA</td>\n",
       "      <td>51.11</td>\n",
       "      <td>object</td>\n",
       "      <td>ordinal</td>\n",
       "      <td>rate</td>\n",
       "    </tr>\n",
       "  </tbody>\n",
       "</table>"
      ],
      "text/plain": [
       "<IPython.core.display.HTML object>"
      ]
     },
     "metadata": {},
     "output_type": "display_data"
    },
    {
     "name": "stdout",
     "output_type": "stream",
     "text": [
      "Value Description:\n"
     ]
    },
    {
     "data": {
      "text/html": [
       "<table border=\"1\" class=\"dataframe\">\n",
       "  <thead>\n",
       "    <tr style=\"text-align: left;\">\n",
       "      <th></th>\n",
       "      <th>Feature</th>\n",
       "      <th>Val</th>\n",
       "      <th>Value</th>\n",
       "    </tr>\n",
       "  </thead>\n",
       "  <tbody>\n",
       "    <tr>\n",
       "      <th>105</th>\n",
       "      <td>KitchenQual</td>\n",
       "      <td>Ex</td>\n",
       "      <td>Excellent</td>\n",
       "    </tr>\n",
       "    <tr>\n",
       "      <th>106</th>\n",
       "      <td>KitchenQual</td>\n",
       "      <td>TA</td>\n",
       "      <td>Typical/Average</td>\n",
       "    </tr>\n",
       "    <tr>\n",
       "      <th>107</th>\n",
       "      <td>KitchenQual</td>\n",
       "      <td>Fa</td>\n",
       "      <td>Fair</td>\n",
       "    </tr>\n",
       "    <tr>\n",
       "      <th>108</th>\n",
       "      <td>KitchenQual</td>\n",
       "      <td>Po</td>\n",
       "      <td>Poor</td>\n",
       "    </tr>\n",
       "    <tr>\n",
       "      <th>109</th>\n",
       "      <td>KitchenQual</td>\n",
       "      <td>Gd</td>\n",
       "      <td>Good</td>\n",
       "    </tr>\n",
       "  </tbody>\n",
       "</table>"
      ],
      "text/plain": [
       "<IPython.core.display.HTML object>"
      ]
     },
     "metadata": {},
     "output_type": "display_data"
    }
   ],
   "source": [
    "dicts('Kitch')"
   ]
  },
  {
   "cell_type": "code",
   "execution_count": 61,
   "metadata": {},
   "outputs": [],
   "source": [
    "df['KitchenQual'] = df['KitchenQual'].fillna('TA')"
   ]
  },
  {
   "cell_type": "markdown",
   "metadata": {},
   "source": [
    "I believe, work was just done, more accurate than it may be without using a Data Dictionary.\n",
    "But let's do a final check of missings."
   ]
  },
  {
   "cell_type": "code",
   "execution_count": 62,
   "metadata": {},
   "outputs": [
    {
     "data": {
      "text/plain": [
       "SalePrice    1459\n",
       "dtype: int64"
      ]
     },
     "execution_count": 62,
     "metadata": {},
     "output_type": "execute_result"
    }
   ],
   "source": [
    "tdf = df.isnull().sum().sort_values(ascending=False)\n",
    "tdf.loc[(tdf != 0)]"
   ]
  },
  {
   "cell_type": "markdown",
   "metadata": {},
   "source": [
    "Good!"
   ]
  },
  {
   "cell_type": "markdown",
   "metadata": {},
   "source": [
    "# 5. Manage Category"
   ]
  },
  {
   "cell_type": "code",
   "execution_count": 63,
   "metadata": {},
   "outputs": [
    {
     "data": {
      "text/html": [
       "<div>\n",
       "<style scoped>\n",
       "    .dataframe tbody tr th:only-of-type {\n",
       "        vertical-align: middle;\n",
       "    }\n",
       "\n",
       "    .dataframe tbody tr th {\n",
       "        vertical-align: top;\n",
       "    }\n",
       "\n",
       "    .dataframe thead th {\n",
       "        text-align: right;\n",
       "    }\n",
       "</style>\n",
       "<table border=\"1\" class=\"dataframe\">\n",
       "  <thead>\n",
       "    <tr style=\"text-align: left;\">\n",
       "      <th></th>\n",
       "      <th>Description</th>\n",
       "      <th>#Unique</th>\n",
       "      <th>%Missing</th>\n",
       "      <th>TopValue</th>\n",
       "      <th>%UsedTop</th>\n",
       "      <th>Dtype</th>\n",
       "      <th>Type</th>\n",
       "      <th>Unit</th>\n",
       "    </tr>\n",
       "  </thead>\n",
       "  <tbody>\n",
       "    <tr>\n",
       "      <th>BsmtFinType1</th>\n",
       "      <td>Rating of basement finished area</td>\n",
       "      <td>7</td>\n",
       "      <td>2.71</td>\n",
       "      <td>Unf</td>\n",
       "      <td>29.15</td>\n",
       "      <td>object</td>\n",
       "      <td>ordinal</td>\n",
       "      <td>rate</td>\n",
       "    </tr>\n",
       "    <tr>\n",
       "      <th>BsmtQual</th>\n",
       "      <td>Evaluates the height of the basement</td>\n",
       "      <td>5</td>\n",
       "      <td>2.77</td>\n",
       "      <td>TA</td>\n",
       "      <td>43.95</td>\n",
       "      <td>object</td>\n",
       "      <td>ordinal</td>\n",
       "      <td>rate</td>\n",
       "    </tr>\n",
       "    <tr>\n",
       "      <th>ExterQual</th>\n",
       "      <td>Evaluates the quality of the material on the exterior</td>\n",
       "      <td>4</td>\n",
       "      <td>0.00</td>\n",
       "      <td>TA</td>\n",
       "      <td>61.60</td>\n",
       "      <td>object</td>\n",
       "      <td>ordinal</td>\n",
       "      <td>rate</td>\n",
       "    </tr>\n",
       "    <tr>\n",
       "      <th>Exterior1st</th>\n",
       "      <td>Exterior covering on house</td>\n",
       "      <td>16</td>\n",
       "      <td>0.03</td>\n",
       "      <td>VinylSd</td>\n",
       "      <td>35.11</td>\n",
       "      <td>object</td>\n",
       "      <td>nominal</td>\n",
       "      <td>-</td>\n",
       "    </tr>\n",
       "    <tr>\n",
       "      <th>Exterior2nd</th>\n",
       "      <td>Exterior covering on house (if more than one material)</td>\n",
       "      <td>17</td>\n",
       "      <td>0.03</td>\n",
       "      <td>VinylSd</td>\n",
       "      <td>34.74</td>\n",
       "      <td>object</td>\n",
       "      <td>nominal</td>\n",
       "      <td>-</td>\n",
       "    </tr>\n",
       "    <tr>\n",
       "      <th>FireplaceQu</th>\n",
       "      <td>Fireplace quality</td>\n",
       "      <td>6</td>\n",
       "      <td>48.65</td>\n",
       "      <td>Gd</td>\n",
       "      <td>25.49</td>\n",
       "      <td>object</td>\n",
       "      <td>ordinal</td>\n",
       "      <td>rate</td>\n",
       "    </tr>\n",
       "    <tr>\n",
       "      <th>Foundation</th>\n",
       "      <td>Type of foundation</td>\n",
       "      <td>6</td>\n",
       "      <td>0.00</td>\n",
       "      <td>PConc</td>\n",
       "      <td>44.81</td>\n",
       "      <td>object</td>\n",
       "      <td>nominal</td>\n",
       "      <td>-</td>\n",
       "    </tr>\n",
       "    <tr>\n",
       "      <th>GarageFinish</th>\n",
       "      <td>Interior finish of the garage</td>\n",
       "      <td>4</td>\n",
       "      <td>5.45</td>\n",
       "      <td>Unf</td>\n",
       "      <td>42.14</td>\n",
       "      <td>object</td>\n",
       "      <td>nominal</td>\n",
       "      <td>-</td>\n",
       "    </tr>\n",
       "    <tr>\n",
       "      <th>GarageType</th>\n",
       "      <td>Garage location</td>\n",
       "      <td>7</td>\n",
       "      <td>5.38</td>\n",
       "      <td>Attchd</td>\n",
       "      <td>59.03</td>\n",
       "      <td>object</td>\n",
       "      <td>nominal</td>\n",
       "      <td>-</td>\n",
       "    </tr>\n",
       "    <tr>\n",
       "      <th>HeatingQC</th>\n",
       "      <td>Heating quality and condition</td>\n",
       "      <td>5</td>\n",
       "      <td>0.00</td>\n",
       "      <td>Ex</td>\n",
       "      <td>51.15</td>\n",
       "      <td>object</td>\n",
       "      <td>ordinal</td>\n",
       "      <td>rate</td>\n",
       "    </tr>\n",
       "    <tr>\n",
       "      <th>HouseStyle</th>\n",
       "      <td>Style of dwelling</td>\n",
       "      <td>8</td>\n",
       "      <td>0.00</td>\n",
       "      <td>1Story</td>\n",
       "      <td>50.39</td>\n",
       "      <td>object</td>\n",
       "      <td>nominal</td>\n",
       "      <td>-</td>\n",
       "    </tr>\n",
       "    <tr>\n",
       "      <th>KitchenQual</th>\n",
       "      <td>Kitchen quality</td>\n",
       "      <td>5</td>\n",
       "      <td>0.03</td>\n",
       "      <td>TA</td>\n",
       "      <td>51.11</td>\n",
       "      <td>object</td>\n",
       "      <td>ordinal</td>\n",
       "      <td>rate</td>\n",
       "    </tr>\n",
       "    <tr>\n",
       "      <th>LotConfig</th>\n",
       "      <td>Lot configuration</td>\n",
       "      <td>5</td>\n",
       "      <td>0.00</td>\n",
       "      <td>Inside</td>\n",
       "      <td>73.07</td>\n",
       "      <td>object</td>\n",
       "      <td>nominal</td>\n",
       "      <td>-</td>\n",
       "    </tr>\n",
       "    <tr>\n",
       "      <th>LotShape</th>\n",
       "      <td>General shape of property</td>\n",
       "      <td>4</td>\n",
       "      <td>0.00</td>\n",
       "      <td>Reg</td>\n",
       "      <td>63.69</td>\n",
       "      <td>object</td>\n",
       "      <td>nominal</td>\n",
       "      <td>-</td>\n",
       "    </tr>\n",
       "    <tr>\n",
       "      <th>MSZoning</th>\n",
       "      <td>Identifies the general zoning classification of the sale.</td>\n",
       "      <td>6</td>\n",
       "      <td>0.14</td>\n",
       "      <td>RL</td>\n",
       "      <td>77.60</td>\n",
       "      <td>object</td>\n",
       "      <td>nominal</td>\n",
       "      <td>-</td>\n",
       "    </tr>\n",
       "    <tr>\n",
       "      <th>MasVnrType</th>\n",
       "      <td>Masonry veneer type</td>\n",
       "      <td>5</td>\n",
       "      <td>0.82</td>\n",
       "      <td>None</td>\n",
       "      <td>59.68</td>\n",
       "      <td>object</td>\n",
       "      <td>nominal</td>\n",
       "      <td>-</td>\n",
       "    </tr>\n",
       "    <tr>\n",
       "      <th>Neighborhood</th>\n",
       "      <td>Physical locations within Ames city limits</td>\n",
       "      <td>25</td>\n",
       "      <td>0.00</td>\n",
       "      <td>NAmes</td>\n",
       "      <td>15.18</td>\n",
       "      <td>object</td>\n",
       "      <td>nominal</td>\n",
       "      <td>location</td>\n",
       "    </tr>\n",
       "    <tr>\n",
       "      <th>RoofStyle</th>\n",
       "      <td>Type of roof</td>\n",
       "      <td>6</td>\n",
       "      <td>0.00</td>\n",
       "      <td>Gable</td>\n",
       "      <td>79.14</td>\n",
       "      <td>object</td>\n",
       "      <td>nominal</td>\n",
       "      <td>-</td>\n",
       "    </tr>\n",
       "  </tbody>\n",
       "</table>\n",
       "</div>"
      ],
      "text/plain": [
       "             Description                                                  \\\n",
       "BsmtFinType1   Rating of basement finished area                            \n",
       "BsmtQual       Evaluates the height of the basement                        \n",
       "ExterQual      Evaluates the quality of the material on the exterior       \n",
       "Exterior1st    Exterior covering on house                                  \n",
       "Exterior2nd    Exterior covering on house (if more than one material)      \n",
       "FireplaceQu    Fireplace quality                                           \n",
       "Foundation     Type of foundation                                          \n",
       "GarageFinish   Interior finish of the garage                               \n",
       "GarageType     Garage location                                             \n",
       "HeatingQC      Heating quality and condition                               \n",
       "HouseStyle     Style of dwelling                                           \n",
       "KitchenQual    Kitchen quality                                             \n",
       "LotConfig      Lot configuration                                           \n",
       "LotShape       General shape of property                                   \n",
       "MSZoning       Identifies the general zoning classification of the sale.   \n",
       "MasVnrType     Masonry veneer type                                         \n",
       "Neighborhood   Physical locations within Ames city limits                  \n",
       "RoofStyle      Type of roof                                                \n",
       "\n",
       "              #Unique  %Missing TopValue  %UsedTop Dtype   Type     Unit       \n",
       "BsmtFinType1  7       2.71       Unf     29.15      object  ordinal  rate      \n",
       "BsmtQual      5       2.77       TA      43.95      object  ordinal  rate      \n",
       "ExterQual     4       0.00       TA      61.60      object  ordinal  rate      \n",
       "Exterior1st   16      0.03       VinylSd 35.11      object  nominal  -         \n",
       "Exterior2nd   17      0.03       VinylSd 34.74      object  nominal  -         \n",
       "FireplaceQu   6       48.65      Gd      25.49      object  ordinal  rate      \n",
       "Foundation    6       0.00       PConc   44.81      object  nominal  -         \n",
       "GarageFinish  4       5.45       Unf     42.14      object  nominal  -         \n",
       "GarageType    7       5.38       Attchd  59.03      object  nominal  -         \n",
       "HeatingQC     5       0.00       Ex      51.15      object  ordinal  rate      \n",
       "HouseStyle    8       0.00       1Story  50.39      object  nominal  -         \n",
       "KitchenQual   5       0.03       TA      51.11      object  ordinal  rate      \n",
       "LotConfig     5       0.00       Inside  73.07      object  nominal  -         \n",
       "LotShape      4       0.00       Reg     63.69      object  nominal  -         \n",
       "MSZoning      6       0.14       RL      77.60      object  nominal  -         \n",
       "MasVnrType    5       0.82       None    59.68      object  nominal  -         \n",
       "Neighborhood  25      0.00       NAmes   15.18      object  nominal  location  \n",
       "RoofStyle     6       0.00       Gable   79.14      object  nominal  -         "
      ]
     },
     "execution_count": 63,
     "metadata": {},
     "output_type": "execute_result"
    }
   ],
   "source": [
    "cols = df.select_dtypes('category').columns.to_list()\n",
    "ddict.loc[ddict.index.isin(cols)]"
   ]
  },
  {
   "cell_type": "markdown",
   "metadata": {},
   "source": [
    "Filtering the 'quality' columns:"
   ]
  },
  {
   "cell_type": "code",
   "execution_count": 64,
   "metadata": {},
   "outputs": [
    {
     "name": "stdout",
     "output_type": "stream",
     "text": [
      "OverallCond : [5 8 6 7 4 2 3 9 1]\n",
      "OverallQual : [ 7  6  8  5  9  4 10  3  1  2]\n",
      "FireplaceQu : [none, TA, Gd, Fa, Ex, Po]\n",
      "Categories (6, object): [none, TA, Gd, Fa, Ex, Po]\n",
      "KitchenQual : [Gd, TA, Ex, Fa]\n",
      "Categories (4, object): [Gd, TA, Ex, Fa]\n",
      "ExterQual : [Gd, TA, Ex, Fa]\n",
      "Categories (4, object): [Gd, TA, Ex, Fa]\n",
      "BsmtQual : [Gd, TA, Ex, no basement, Fa]\n",
      "Categories (5, object): [Gd, TA, Ex, no basement, Fa]\n",
      "HeatingQC : [Ex, Gd, TA, Fa, Po]\n",
      "Categories (5, object): [Ex, Gd, TA, Fa, Po]\n"
     ]
    }
   ],
   "source": [
    "cols = ['OverallCond', 'OverallQual', 'FireplaceQu', 'KitchenQual', 'ExterQual', 'BsmtQual', 'HeatingQC']\n",
    "for col in cols:\n",
    "    print(col, ':', df[col].unique())"
   ]
  },
  {
   "cell_type": "markdown",
   "metadata": {},
   "source": [
    "Renaming values:"
   ]
  },
  {
   "cell_type": "code",
   "execution_count": 65,
   "metadata": {},
   "outputs": [],
   "source": [
    "for col in ['OverallCond', 'OverallQual']:\n",
    "    df[col] = df[col].replace({1:'Very Poor', 2:'Poor', 3:'Fair', 4:'Below Average', 5:'Average',\n",
    "                               6:'Above Average', 7:'Good', 8:'Very Good', 9:'Excellent', \n",
    "                               10:'Very Excellent'}).astype('category')"
   ]
  },
  {
   "cell_type": "code",
   "execution_count": 66,
   "metadata": {},
   "outputs": [],
   "source": [
    "for col in ['FireplaceQu', 'KitchenQual', 'ExterQual', 'BsmtQual', 'HeatingQC']:\n",
    "    df[col] = df[col].replace({'TA':'Typical', 'Gd':'Good', 'Ex':'Excellent', 'Po':'Poor', \n",
    "                               'Fa':'Fair'}).astype('category')"
   ]
  },
  {
   "cell_type": "markdown",
   "metadata": {},
   "source": [
    "# 6. Dates"
   ]
  },
  {
   "cell_type": "code",
   "execution_count": 67,
   "metadata": {},
   "outputs": [
    {
     "data": {
      "text/html": [
       "<div>\n",
       "<style scoped>\n",
       "    .dataframe tbody tr th:only-of-type {\n",
       "        vertical-align: middle;\n",
       "    }\n",
       "\n",
       "    .dataframe tbody tr th {\n",
       "        vertical-align: top;\n",
       "    }\n",
       "\n",
       "    .dataframe thead th {\n",
       "        text-align: right;\n",
       "    }\n",
       "</style>\n",
       "<table border=\"1\" class=\"dataframe\">\n",
       "  <thead>\n",
       "    <tr style=\"text-align: left;\">\n",
       "      <th></th>\n",
       "      <th>Description</th>\n",
       "      <th>#Unique</th>\n",
       "      <th>%Missing</th>\n",
       "      <th>TopValue</th>\n",
       "      <th>%UsedTop</th>\n",
       "      <th>Dtype</th>\n",
       "      <th>Type</th>\n",
       "      <th>Unit</th>\n",
       "    </tr>\n",
       "  </thead>\n",
       "  <tbody>\n",
       "    <tr>\n",
       "      <th>GarageYrBlt</th>\n",
       "      <td>Year garage was built</td>\n",
       "      <td>104</td>\n",
       "      <td>5.45</td>\n",
       "      <td>2005</td>\n",
       "      <td>4.86</td>\n",
       "      <td>float64</td>\n",
       "      <td>time</td>\n",
       "      <td>year</td>\n",
       "    </tr>\n",
       "    <tr>\n",
       "      <th>MoSold</th>\n",
       "      <td>Month Sold (MM)</td>\n",
       "      <td>12</td>\n",
       "      <td>0.00</td>\n",
       "      <td>6</td>\n",
       "      <td>17.23</td>\n",
       "      <td>int64</td>\n",
       "      <td>time</td>\n",
       "      <td>month</td>\n",
       "    </tr>\n",
       "    <tr>\n",
       "      <th>YearBuilt</th>\n",
       "      <td>Original construction date</td>\n",
       "      <td>118</td>\n",
       "      <td>0.00</td>\n",
       "      <td>2005</td>\n",
       "      <td>4.86</td>\n",
       "      <td>int64</td>\n",
       "      <td>time</td>\n",
       "      <td>year</td>\n",
       "    </tr>\n",
       "    <tr>\n",
       "      <th>YearRemodAdd</th>\n",
       "      <td>Remodel date (same as construction date if no remodel</td>\n",
       "      <td>61</td>\n",
       "      <td>0.00</td>\n",
       "      <td>1950</td>\n",
       "      <td>12.37</td>\n",
       "      <td>int64</td>\n",
       "      <td>time</td>\n",
       "      <td>year</td>\n",
       "    </tr>\n",
       "    <tr>\n",
       "      <th>YrSold</th>\n",
       "      <td>Year Sold (YYYY)</td>\n",
       "      <td>5</td>\n",
       "      <td>0.00</td>\n",
       "      <td>2007</td>\n",
       "      <td>23.71</td>\n",
       "      <td>int64</td>\n",
       "      <td>time</td>\n",
       "      <td>year</td>\n",
       "    </tr>\n",
       "  </tbody>\n",
       "</table>\n",
       "</div>"
      ],
      "text/plain": [
       "             Description                                              #Unique  \\\n",
       "GarageYrBlt    Year garage was built                                  104       \n",
       "MoSold         Month Sold (MM)                                        12        \n",
       "YearBuilt      Original construction date                             118       \n",
       "YearRemodAdd   Remodel date (same as construction date if no remodel  61        \n",
       "YrSold         Year Sold (YYYY)                                       5         \n",
       "\n",
       "              %Missing TopValue  %UsedTop Dtype    Type  Unit    \n",
       "GarageYrBlt  5.45       2005    4.86       float64  time  year   \n",
       "MoSold       0.00       6       17.23      int64    time  month  \n",
       "YearBuilt    0.00       2005    4.86       int64    time  year   \n",
       "YearRemodAdd 0.00       1950    12.37      int64    time  year   \n",
       "YrSold       0.00       2007    23.71      int64    time  year   "
      ]
     },
     "execution_count": 67,
     "metadata": {},
     "output_type": "execute_result"
    }
   ],
   "source": [
    "tdf = ddict.loc[ddict['Type'].isin(['time'])]\n",
    "tdf"
   ]
  },
  {
   "cell_type": "code",
   "execution_count": 68,
   "metadata": {},
   "outputs": [
    {
     "data": {
      "text/html": [
       "<div>\n",
       "<style scoped>\n",
       "    .dataframe tbody tr th:only-of-type {\n",
       "        vertical-align: middle;\n",
       "    }\n",
       "\n",
       "    .dataframe tbody tr th {\n",
       "        vertical-align: top;\n",
       "    }\n",
       "\n",
       "    .dataframe thead th {\n",
       "        text-align: right;\n",
       "    }\n",
       "</style>\n",
       "<table border=\"1\" class=\"dataframe\">\n",
       "  <thead>\n",
       "    <tr style=\"text-align: left;\">\n",
       "      <th></th>\n",
       "      <th>GarageYrBlt</th>\n",
       "      <th>MoSold</th>\n",
       "      <th>YearBuilt</th>\n",
       "      <th>YearRemodAdd</th>\n",
       "      <th>YrSold</th>\n",
       "    </tr>\n",
       "  </thead>\n",
       "  <tbody>\n",
       "    <tr>\n",
       "      <th>0</th>\n",
       "      <td>2,003.00</td>\n",
       "      <td>2</td>\n",
       "      <td>2003</td>\n",
       "      <td>2003</td>\n",
       "      <td>2008</td>\n",
       "    </tr>\n",
       "    <tr>\n",
       "      <th>1</th>\n",
       "      <td>1,976.00</td>\n",
       "      <td>5</td>\n",
       "      <td>1976</td>\n",
       "      <td>1976</td>\n",
       "      <td>2007</td>\n",
       "    </tr>\n",
       "  </tbody>\n",
       "</table>\n",
       "</div>"
      ],
      "text/plain": [
       "   GarageYrBlt  MoSold  YearBuilt  YearRemodAdd  YrSold\n",
       "0 2,003.00      2       2003       2003          2008  \n",
       "1 1,976.00      5       1976       1976          2007  "
      ]
     },
     "execution_count": 68,
     "metadata": {},
     "output_type": "execute_result"
    }
   ],
   "source": [
    "df[tdf.index.unique().tolist()].head(2)"
   ]
  },
  {
   "cell_type": "code",
   "execution_count": 69,
   "metadata": {},
   "outputs": [],
   "source": [
    "df['GarageYrBlt'] = df['GarageYrBlt'].astype('str').map(lambda x: x.split('.')[0])"
   ]
  },
  {
   "cell_type": "code",
   "execution_count": 70,
   "metadata": {},
   "outputs": [
    {
     "data": {
      "text/plain": [
       "0   2008-02-01\n",
       "1   2007-05-01\n",
       "Name: YearMoSold, dtype: datetime64[ns]"
      ]
     },
     "execution_count": 70,
     "metadata": {},
     "output_type": "execute_result"
    }
   ],
   "source": [
    "from datetime import date\n",
    "df['YearMoSold'] = pd.to_datetime(df['YrSold'].astype('str')+'-'+  df['MoSold'].astype('str'))\n",
    "df = df.drop(['MoSold', 'YrSold'], axis=1)\n",
    "df['YearMoSold'].head(2)"
   ]
  },
  {
   "cell_type": "markdown",
   "metadata": {},
   "source": [
    "For the future using I'll change type as string because when fill will open next time it will be readed as object. But to show you the importanse for memory usage, I'll change type to category here"
   ]
  },
  {
   "cell_type": "code",
   "execution_count": 71,
   "metadata": {},
   "outputs": [],
   "source": [
    "for col in ['YearRemodAdd', 'YearBuilt']:\n",
    "    df[col] = df[col].astype('str')"
   ]
  },
  {
   "cell_type": "code",
   "execution_count": 72,
   "metadata": {},
   "outputs": [],
   "source": [
    "for col in ['YearRemodAdd', 'YearBuilt', 'GarageYrBlt']:\n",
    "    df[col] = df[col].astype('category')"
   ]
  },
  {
   "cell_type": "markdown",
   "metadata": {},
   "source": [
    "# 7. Final check"
   ]
  },
  {
   "cell_type": "code",
   "execution_count": 73,
   "metadata": {},
   "outputs": [
    {
     "data": {
      "text/html": [
       "<div>\n",
       "<style scoped>\n",
       "    .dataframe tbody tr th:only-of-type {\n",
       "        vertical-align: middle;\n",
       "    }\n",
       "\n",
       "    .dataframe tbody tr th {\n",
       "        vertical-align: top;\n",
       "    }\n",
       "\n",
       "    .dataframe thead th {\n",
       "        text-align: right;\n",
       "    }\n",
       "</style>\n",
       "<table border=\"1\" class=\"dataframe\">\n",
       "  <thead>\n",
       "    <tr style=\"text-align: left;\">\n",
       "      <th></th>\n",
       "      <th>0</th>\n",
       "    </tr>\n",
       "  </thead>\n",
       "  <tbody>\n",
       "    <tr>\n",
       "      <th>SalePrice</th>\n",
       "      <td>1459</td>\n",
       "    </tr>\n",
       "    <tr>\n",
       "      <th>MSSubClass</th>\n",
       "      <td>0</td>\n",
       "    </tr>\n",
       "    <tr>\n",
       "      <th>MSZoning</th>\n",
       "      <td>0</td>\n",
       "    </tr>\n",
       "    <tr>\n",
       "      <th>LotFrontage</th>\n",
       "      <td>0</td>\n",
       "    </tr>\n",
       "    <tr>\n",
       "      <th>LotArea</th>\n",
       "      <td>0</td>\n",
       "    </tr>\n",
       "  </tbody>\n",
       "</table>\n",
       "</div>"
      ],
      "text/plain": [
       "             0   \n",
       "SalePrice    1459\n",
       "MSSubClass   0   \n",
       "MSZoning     0   \n",
       "LotFrontage  0   \n",
       "LotArea      0   "
      ]
     },
     "execution_count": 73,
     "metadata": {},
     "output_type": "execute_result"
    }
   ],
   "source": [
    "# missing values\n",
    "df.isnull().sum().nlargest().to_frame()"
   ]
  },
  {
   "cell_type": "code",
   "execution_count": 74,
   "metadata": {
    "scrolled": true
   },
   "outputs": [
    {
     "data": {
      "text/html": [
       "<div>\n",
       "<style scoped>\n",
       "    .dataframe tbody tr th:only-of-type {\n",
       "        vertical-align: middle;\n",
       "    }\n",
       "\n",
       "    .dataframe tbody tr th {\n",
       "        vertical-align: top;\n",
       "    }\n",
       "\n",
       "    .dataframe thead th {\n",
       "        text-align: right;\n",
       "    }\n",
       "</style>\n",
       "<table border=\"1\" class=\"dataframe\">\n",
       "  <thead>\n",
       "    <tr style=\"text-align: left;\">\n",
       "      <th></th>\n",
       "      <th>category</th>\n",
       "      <th>datetime64[ns]</th>\n",
       "      <th>float64</th>\n",
       "      <th>int64</th>\n",
       "      <th>object</th>\n",
       "    </tr>\n",
       "  </thead>\n",
       "  <tbody>\n",
       "    <tr>\n",
       "      <th>0</th>\n",
       "      <td>23</td>\n",
       "      <td>1</td>\n",
       "      <td>8</td>\n",
       "      <td>11</td>\n",
       "      <td>1</td>\n",
       "    </tr>\n",
       "  </tbody>\n",
       "</table>\n",
       "</div>"
      ],
      "text/plain": [
       "   category  datetime64[ns]  float64  int64  object\n",
       "0  23        1               8        11     1     "
      ]
     },
     "execution_count": 74,
     "metadata": {},
     "output_type": "execute_result"
    }
   ],
   "source": [
    "# data types\n",
    "df.get_dtype_counts().to_frame().T"
   ]
  },
  {
   "cell_type": "code",
   "execution_count": 75,
   "metadata": {},
   "outputs": [
    {
     "data": {
      "text/plain": [
       "BsmtExposure    object\n",
       "dtype: object"
      ]
     },
     "execution_count": 75,
     "metadata": {},
     "output_type": "execute_result"
    }
   ],
   "source": [
    "df.dtypes[df.dtypes == 'object']"
   ]
  },
  {
   "cell_type": "code",
   "execution_count": 76,
   "metadata": {},
   "outputs": [],
   "source": [
    "df['BsmtExposure'] = df['BsmtExposure'].astype('category')"
   ]
  },
  {
   "cell_type": "code",
   "execution_count": 77,
   "metadata": {},
   "outputs": [
    {
     "data": {
      "text/html": [
       "<div>\n",
       "<style scoped>\n",
       "    .dataframe tbody tr th:only-of-type {\n",
       "        vertical-align: middle;\n",
       "    }\n",
       "\n",
       "    .dataframe tbody tr th {\n",
       "        vertical-align: top;\n",
       "    }\n",
       "\n",
       "    .dataframe thead th {\n",
       "        text-align: right;\n",
       "    }\n",
       "</style>\n",
       "<table border=\"1\" class=\"dataframe\">\n",
       "  <thead>\n",
       "    <tr style=\"text-align: left;\">\n",
       "      <th></th>\n",
       "      <th>0</th>\n",
       "    </tr>\n",
       "  </thead>\n",
       "  <tbody>\n",
       "    <tr>\n",
       "      <th>MSSubClass</th>\n",
       "      <td>23352</td>\n",
       "    </tr>\n",
       "    <tr>\n",
       "      <th>LotFrontage</th>\n",
       "      <td>23352</td>\n",
       "    </tr>\n",
       "    <tr>\n",
       "      <th>LotArea</th>\n",
       "      <td>23352</td>\n",
       "    </tr>\n",
       "    <tr>\n",
       "      <th>MasVnrArea</th>\n",
       "      <td>23352</td>\n",
       "    </tr>\n",
       "    <tr>\n",
       "      <th>BsmtFinSF1</th>\n",
       "      <td>23352</td>\n",
       "    </tr>\n",
       "  </tbody>\n",
       "</table>\n",
       "</div>"
      ],
      "text/plain": [
       "             0    \n",
       "MSSubClass   23352\n",
       "LotFrontage  23352\n",
       "LotArea      23352\n",
       "MasVnrArea   23352\n",
       "BsmtFinSF1   23352"
      ]
     },
     "execution_count": 77,
     "metadata": {},
     "output_type": "execute_result"
    }
   ],
   "source": [
    "# memory usage detailed\n",
    "df.memory_usage(deep=True).nlargest().to_frame()"
   ]
  },
  {
   "cell_type": "code",
   "execution_count": 78,
   "metadata": {},
   "outputs": [
    {
     "name": "stdout",
     "output_type": "stream",
     "text": [
      "Now the data set uses 546.07 of memory against 1824.5 (MB)\n"
     ]
    }
   ],
   "source": [
    "# memory usage in common\n",
    "mu_after = round(df.memory_usage(index=True).sum()/1024, 2)\n",
    "print('Now the data set uses', mu_after, 'of memory against', mu_before, '(MB)')"
   ]
  },
  {
   "cell_type": "markdown",
   "metadata": {},
   "source": [
    "So huge difference!"
   ]
  },
  {
   "cell_type": "markdown",
   "metadata": {},
   "source": [
    "# 8. Saving results"
   ]
  },
  {
   "cell_type": "code",
   "execution_count": 79,
   "metadata": {},
   "outputs": [
    {
     "name": "stdout",
     "output_type": "stream",
     "text": [
      "last index: 1460 shape: (1460, 80)\n"
     ]
    }
   ],
   "source": [
    "#old train\n",
    "print('last index:', train.index[-1], 'shape:', train.shape)"
   ]
  },
  {
   "cell_type": "code",
   "execution_count": 80,
   "metadata": {},
   "outputs": [
    {
     "data": {
      "text/plain": [
       "(1460, 44)"
      ]
     },
     "execution_count": 80,
     "metadata": {},
     "output_type": "execute_result"
    }
   ],
   "source": [
    "# new train\n",
    "new_train = df.iloc[:1460,:]\n",
    "new_train.shape"
   ]
  },
  {
   "cell_type": "code",
   "execution_count": 81,
   "metadata": {},
   "outputs": [
    {
     "data": {
      "text/plain": [
       "0"
      ]
     },
     "execution_count": 81,
     "metadata": {},
     "output_type": "execute_result"
    }
   ],
   "source": [
    "# simple check\n",
    "new_train['SalePrice'].isnull().sum()"
   ]
  },
  {
   "cell_type": "markdown",
   "metadata": {},
   "source": [
    "Correct!"
   ]
  },
  {
   "cell_type": "code",
   "execution_count": 82,
   "metadata": {},
   "outputs": [
    {
     "data": {
      "text/plain": [
       "(1459, 44)"
      ]
     },
     "execution_count": 82,
     "metadata": {},
     "output_type": "execute_result"
    }
   ],
   "source": [
    "# new test\n",
    "new_test = df.iloc[1460:,:]\n",
    "new_test.shape"
   ]
  },
  {
   "cell_type": "code",
   "execution_count": 83,
   "metadata": {},
   "outputs": [
    {
     "data": {
      "text/plain": [
       "array([nan])"
      ]
     },
     "execution_count": 83,
     "metadata": {},
     "output_type": "execute_result"
    }
   ],
   "source": [
    "# the same chek again\n",
    "new_test['SalePrice'].unique()"
   ]
  },
  {
   "cell_type": "markdown",
   "metadata": {},
   "source": [
    "#### Change the data dictionary for a further using:"
   ]
  },
  {
   "cell_type": "code",
   "execution_count": 84,
   "metadata": {},
   "outputs": [],
   "source": [
    "# deleting columns\n",
    "ddict = ddict.drop(['%Missing'], axis=1)"
   ]
  },
  {
   "cell_type": "code",
   "execution_count": 85,
   "metadata": {},
   "outputs": [],
   "source": [
    "# deleting rows\n",
    "todelete=['MoSold', 'YrSold']\n",
    "ddict = ddict.loc[~ddict.index.isin(todelete)]"
   ]
  },
  {
   "cell_type": "code",
   "execution_count": 86,
   "metadata": {},
   "outputs": [
    {
     "data": {
      "text/plain": [
       "{'YearMoSold'}"
      ]
     },
     "execution_count": 86,
     "metadata": {},
     "output_type": "execute_result"
    }
   ],
   "source": [
    "# check if any mistakes\n",
    "set1 = set(df.columns.tolist())\n",
    "set2 = set(ddict.index.tolist())\n",
    "set1.difference(set2)"
   ]
  },
  {
   "cell_type": "markdown",
   "metadata": {},
   "source": [
    "We need to add a created feature into a dictionary"
   ]
  },
  {
   "cell_type": "code",
   "execution_count": 87,
   "metadata": {},
   "outputs": [],
   "source": [
    "# combining a row\n",
    "n = df['YearMoSold'].nunique()\n",
    "values = df['YearMoSold'].value_counts().to_frame().reset_index()\n",
    "t = values.iloc[0,0]\n",
    "u = values.iloc[0,1]*100/len(df)\n",
    "dt = str(df['YearMoSold'].dtype)\n",
    "a = pd.DataFrame({'Description':'date', '#Unique':n, 'TopValue':t, '%UsedTop':u, 'Dtype':dt, 'Type':'time', 'Unit':'time'}, index=['YearMoSold'])"
   ]
  },
  {
   "cell_type": "code",
   "execution_count": 88,
   "metadata": {},
   "outputs": [],
   "source": [
    "# adding the row\n",
    "ddict = ddict.append(a)"
   ]
  },
  {
   "cell_type": "code",
   "execution_count": 89,
   "metadata": {},
   "outputs": [
    {
     "data": {
      "text/html": [
       "<div>\n",
       "<style scoped>\n",
       "    .dataframe tbody tr th:only-of-type {\n",
       "        vertical-align: middle;\n",
       "    }\n",
       "\n",
       "    .dataframe tbody tr th {\n",
       "        vertical-align: top;\n",
       "    }\n",
       "\n",
       "    .dataframe thead th {\n",
       "        text-align: right;\n",
       "    }\n",
       "</style>\n",
       "<table border=\"1\" class=\"dataframe\">\n",
       "  <thead>\n",
       "    <tr style=\"text-align: left;\">\n",
       "      <th></th>\n",
       "      <th>Description</th>\n",
       "      <th>#Unique</th>\n",
       "      <th>TopValue</th>\n",
       "      <th>%UsedTop</th>\n",
       "      <th>Dtype</th>\n",
       "      <th>Type</th>\n",
       "      <th>Unit</th>\n",
       "    </tr>\n",
       "  </thead>\n",
       "  <tbody>\n",
       "    <tr>\n",
       "      <th>1stFlrSF</th>\n",
       "      <td>First Floor square feet</td>\n",
       "      <td>1083</td>\n",
       "      <td>864</td>\n",
       "      <td>1.58</td>\n",
       "      <td>int64</td>\n",
       "      <td>cont</td>\n",
       "      <td>square feet</td>\n",
       "    </tr>\n",
       "    <tr>\n",
       "      <th>2ndFlrSF</th>\n",
       "      <td>Second floor square feet</td>\n",
       "      <td>635</td>\n",
       "      <td>0</td>\n",
       "      <td>57.14</td>\n",
       "      <td>int64</td>\n",
       "      <td>cont</td>\n",
       "      <td>square feet</td>\n",
       "    </tr>\n",
       "    <tr>\n",
       "      <th>BedroomAbvGr</th>\n",
       "      <td>Bedrooms above grade (does NOT include basement bedrooms)</td>\n",
       "      <td>8</td>\n",
       "      <td>3</td>\n",
       "      <td>54.68</td>\n",
       "      <td>int64</td>\n",
       "      <td>discrete</td>\n",
       "      <td>quantity</td>\n",
       "    </tr>\n",
       "    <tr>\n",
       "      <th>BsmtExposure</th>\n",
       "      <td>Refers to walkout or garden level walls</td>\n",
       "      <td>5</td>\n",
       "      <td>No</td>\n",
       "      <td>65.23</td>\n",
       "      <td>category</td>\n",
       "      <td>ordinal</td>\n",
       "      <td>rate</td>\n",
       "    </tr>\n",
       "    <tr>\n",
       "      <th>BsmtFinSF1</th>\n",
       "      <td>Type 1 finished square feet</td>\n",
       "      <td>992</td>\n",
       "      <td>0</td>\n",
       "      <td>31.83</td>\n",
       "      <td>float64</td>\n",
       "      <td>cont</td>\n",
       "      <td>square feet</td>\n",
       "    </tr>\n",
       "  </tbody>\n",
       "</table>\n",
       "</div>"
      ],
      "text/plain": [
       "             Description                                                  \\\n",
       "1stFlrSF       First Floor square feet                                     \n",
       "2ndFlrSF       Second floor square feet                                    \n",
       "BedroomAbvGr   Bedrooms above grade (does NOT include basement bedrooms)   \n",
       "BsmtExposure   Refers to walkout or garden level walls                     \n",
       "BsmtFinSF1     Type 1 finished square feet                                 \n",
       "\n",
       "              #Unique TopValue  %UsedTop Dtype     Type      Unit          \n",
       "1stFlrSF      1083     864     1.58       int64     cont      square feet  \n",
       "2ndFlrSF      635      0       57.14      int64     cont      square feet  \n",
       "BedroomAbvGr  8        3       54.68      int64     discrete  quantity     \n",
       "BsmtExposure  5        No      65.23      category  ordinal   rate         \n",
       "BsmtFinSF1    992      0       31.83      float64   cont      square feet  "
      ]
     },
     "execution_count": 89,
     "metadata": {},
     "output_type": "execute_result"
    }
   ],
   "source": [
    "# Saving a new data types as a column in ddict\n",
    "for i in ddict.index:\n",
    "    ddict.loc[i,'Dtype'] = str(df[i].dtype)\n",
    "ddict.head()"
   ]
  },
  {
   "cell_type": "code",
   "execution_count": 90,
   "metadata": {
    "scrolled": true
   },
   "outputs": [],
   "source": [
    "# saving outputs\n",
    "new_train.to_csv('.../HPrices_train_cleaned.csv', index=False)\n",
    "new_test.to_csv('.../HPrices_test_cleaned.csv', index=False)\n",
    "ddict.to_csv('.../HPrices_ddict_cleaned.csv')"
   ]
  },
  {
   "cell_type": "markdown",
   "metadata": {},
   "source": [
    "That's it!  \n",
    "I've done here a data cleaning only, because I prefer to work with milestones.  "
   ]
  }
 ],
 "metadata": {
  "kernelspec": {
   "display_name": "Python 3",
   "language": "python",
   "name": "python3"
  },
  "language_info": {
   "codemirror_mode": {
    "name": "ipython",
    "version": 3
   },
   "file_extension": ".py",
   "mimetype": "text/x-python",
   "name": "python",
   "nbconvert_exporter": "python",
   "pygments_lexer": "ipython3",
   "version": "3.6.8"
  }
 },
 "nbformat": 4,
 "nbformat_minor": 2
}
