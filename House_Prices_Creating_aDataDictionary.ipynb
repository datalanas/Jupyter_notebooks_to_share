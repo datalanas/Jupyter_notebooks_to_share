{
 "cells": [
  {
   "cell_type": "code",
   "execution_count": 1,
   "metadata": {},
   "outputs": [],
   "source": [
    "import numpy as np\n",
    "import pandas as pd\n",
    "pd.options.display.float_format = '{:,.2f}'.format\n",
    "from IPython.core.display import HTML "
   ]
  },
  {
   "cell_type": "markdown",
   "metadata": {},
   "source": [
    "# 1. Reading the data"
   ]
  },
  {
   "cell_type": "code",
   "execution_count": 2,
   "metadata": {},
   "outputs": [
    {
     "data": {
      "text/plain": [
       "(2919, 80)"
      ]
     },
     "execution_count": 2,
     "metadata": {},
     "output_type": "execute_result"
    }
   ],
   "source": [
    "df1 = pd.read_csv('../HPriceKaggleTrain.csv', index_col='Id')\n",
    "df2 = pd.read_csv('../HPriceKaggleTest.csv', index_col='Id')\n",
    "df = pd.concat([df1, df2], axis=0, sort=False).reset_index(drop=True)\n",
    "df.shape"
   ]
  },
  {
   "cell_type": "markdown",
   "metadata": {},
   "source": [
    "# 2. Creating a Data Describtion file"
   ]
  },
  {
   "cell_type": "markdown",
   "metadata": {},
   "source": [
    "### DATA TYPES:\n",
    "\n",
    "1. Useless - useless for machine learning algorithms\n",
    "2. Nominal - truly categorical, labels, groups without order)\n",
    "3. Binary - dichotomous, a type of nominal scales that contains only two categories\n",
    "4. Ordinal - categorical groups with order\n",
    "5. Count - discrete numerical, this type of data can’t be measured but it can be counted\n",
    "6. Ratio - contituous with an absolute zero, without a temporal component \n",
    "7. Interval - don’t have a „true zero“, positive and/or negative numbers without a temporal component \n",
    "8. Time - cyclical numbers with a temporal component — continuous\n",
    "9. Text\n",
    "10. Image\n",
    "11. Audio\n",
    "12. Video"
   ]
  },
  {
   "cell_type": "code",
   "execution_count": 3,
   "metadata": {},
   "outputs": [],
   "source": [
    "# from txt to excel\n",
    "ddes = pd.read_fwf('/home/lana/Desktop/DS_blog/Inbox/HPriceKaggle_data_description.txt', sep=' ', header=None)\n",
    "writer = pd.ExcelWriter('/home/lana/Desktop/DS_blog/InBetween/HPricesDDescribtion_raw.xlsx')\n",
    "ddes.to_excel(writer, 'Data_Describtion', index=True)\n",
    "writer.save()"
   ]
  },
  {
   "cell_type": "code",
   "execution_count": 4,
   "metadata": {},
   "outputs": [
    {
     "data": {
      "text/html": [
       "<div>\n",
       "<style scoped>\n",
       "    .dataframe tbody tr th:only-of-type {\n",
       "        vertical-align: middle;\n",
       "    }\n",
       "\n",
       "    .dataframe tbody tr th {\n",
       "        vertical-align: top;\n",
       "    }\n",
       "\n",
       "    .dataframe thead th {\n",
       "        text-align: right;\n",
       "    }\n",
       "</style>\n",
       "<table border=\"1\" class=\"dataframe\">\n",
       "  <thead>\n",
       "    <tr style=\"text-align: right;\">\n",
       "      <th></th>\n",
       "      <th>Feature</th>\n",
       "      <th>Unit</th>\n",
       "      <th>Type</th>\n",
       "      <th>Descript</th>\n",
       "      <th>Val</th>\n",
       "    </tr>\n",
       "  </thead>\n",
       "  <tbody>\n",
       "    <tr>\n",
       "      <th>159</th>\n",
       "      <td>Exterior1st</td>\n",
       "      <td>-</td>\n",
       "      <td>nominal</td>\n",
       "      <td>Exterior covering on house</td>\n",
       "      <td>WdShing\\tWood Shingles</td>\n",
       "    </tr>\n",
       "  </tbody>\n",
       "</table>\n",
       "</div>"
      ],
      "text/plain": [
       "         Feature Unit     Type                     Descript  \\\n",
       "159  Exterior1st    -  nominal   Exterior covering on house   \n",
       "\n",
       "                        Val  \n",
       "159  WdShing\\tWood Shingles  "
      ]
     },
     "execution_count": 4,
     "metadata": {},
     "output_type": "execute_result"
    }
   ],
   "source": [
    "# after some handwork\n",
    "ddes = pd.read_excel('/home/lana/Desktop/DS_blog/InBetween/HPricesDDescribtion_handwrited.xlsx')\n",
    "ddes = ddes.dropna(how='all')\n",
    "ddes.sample()"
   ]
  },
  {
   "cell_type": "code",
   "execution_count": 5,
   "metadata": {},
   "outputs": [],
   "source": [
    "ddes[['Val', 'Value']] = ddes['Val'].str.split('\\t', expand=True)\n",
    "digits = ['ratio', 'count', 'time']\n",
    "ddes.loc[ddes['Type'].isin(digits), 'Val'] = 123\n",
    "ddes.loc[ddes['Type'].isin(digits), 'Value'] = 'digits'"
   ]
  },
  {
   "cell_type": "code",
   "execution_count": 6,
   "metadata": {},
   "outputs": [],
   "source": [
    "ddes = ddes[['Feature', 'Descript',  'Val', 'Value', 'Type', 'Unit']].sort_values(['Feature'])\n",
    "writer = pd.ExcelWriter('/home/lana/Desktop/DS_blog/InBetween/HPricesDDescribtion.xlsx')\n",
    "ddes.to_excel(writer, 'Data_Describtion', index=True)\n",
    "writer.save()"
   ]
  },
  {
   "cell_type": "code",
   "execution_count": 7,
   "metadata": {},
   "outputs": [
    {
     "data": {
      "text/html": [
       "<div>\n",
       "<style scoped>\n",
       "    .dataframe tbody tr th:only-of-type {\n",
       "        vertical-align: middle;\n",
       "    }\n",
       "\n",
       "    .dataframe tbody tr th {\n",
       "        vertical-align: top;\n",
       "    }\n",
       "\n",
       "    .dataframe thead th {\n",
       "        text-align: right;\n",
       "    }\n",
       "</style>\n",
       "<table border=\"1\" class=\"dataframe\">\n",
       "  <thead>\n",
       "    <tr style=\"text-align: right;\">\n",
       "      <th></th>\n",
       "      <th>Feature</th>\n",
       "      <th>Descript</th>\n",
       "      <th>Val</th>\n",
       "      <th>Value</th>\n",
       "      <th>Type</th>\n",
       "      <th>Unit</th>\n",
       "    </tr>\n",
       "  </thead>\n",
       "  <tbody>\n",
       "    <tr>\n",
       "      <th>228</th>\n",
       "      <td>MSSubClass</td>\n",
       "      <td>Identifies the type of dwelling involved in t...</td>\n",
       "      <td>150</td>\n",
       "      <td>1-1/2 STORY PUD - ALL AGES</td>\n",
       "      <td>nominal</td>\n",
       "      <td>-</td>\n",
       "    </tr>\n",
       "  </tbody>\n",
       "</table>\n",
       "</div>"
      ],
      "text/plain": [
       "        Feature                                           Descript  Val  \\\n",
       "228  MSSubClass   Identifies the type of dwelling involved in t...  150   \n",
       "\n",
       "                          Value     Type Unit  \n",
       "228  1-1/2 STORY PUD - ALL AGES  nominal    -  "
      ]
     },
     "execution_count": 7,
     "metadata": {},
     "output_type": "execute_result"
    }
   ],
   "source": [
    "ddes = pd.read_excel('/home/lana/Desktop/DS_blog/InBetween/HPricesDDescribtion.xlsx', index_col=0)\n",
    "ddes = ddes.reset_index(drop=True)\n",
    "ddes.sample()"
   ]
  },
  {
   "cell_type": "markdown",
   "metadata": {},
   "source": [
    "A Data Description file was created first and contains fewer common information, but it has description for every categorical value.\n",
    "- 'Feature' - main data set column name\n",
    "- 'Descript' - feature meaning\n",
    "- 'Val' - value\n",
    "- 'Value' - value meaning\n",
    "- 'Type' - column's data type\n",
    "- 'Unit' - given unit of value"
   ]
  },
  {
   "cell_type": "code",
   "execution_count": 8,
   "metadata": {},
   "outputs": [
    {
     "data": {
      "text/plain": [
       "80"
      ]
     },
     "execution_count": 8,
     "metadata": {},
     "output_type": "execute_result"
    }
   ],
   "source": [
    "len(ddes['Feature'].unique())"
   ]
  },
  {
   "cell_type": "markdown",
   "metadata": {},
   "source": [
    "# 3. Creating a Data Dictionary file"
   ]
  },
  {
   "cell_type": "code",
   "execution_count": 9,
   "metadata": {},
   "outputs": [
    {
     "data": {
      "text/html": [
       "<div>\n",
       "<style scoped>\n",
       "    .dataframe tbody tr th:only-of-type {\n",
       "        vertical-align: middle;\n",
       "    }\n",
       "\n",
       "    .dataframe tbody tr th {\n",
       "        vertical-align: top;\n",
       "    }\n",
       "\n",
       "    .dataframe thead th {\n",
       "        text-align: right;\n",
       "    }\n",
       "</style>\n",
       "<table border=\"1\" class=\"dataframe\">\n",
       "  <thead>\n",
       "    <tr style=\"text-align: right;\">\n",
       "      <th></th>\n",
       "      <th>Descript</th>\n",
       "      <th>Type</th>\n",
       "      <th>Unit</th>\n",
       "    </tr>\n",
       "    <tr>\n",
       "      <th>Feature</th>\n",
       "      <th></th>\n",
       "      <th></th>\n",
       "      <th></th>\n",
       "    </tr>\n",
       "  </thead>\n",
       "  <tbody>\n",
       "    <tr>\n",
       "      <th>1stFlrSF</th>\n",
       "      <td>First Floor square feet</td>\n",
       "      <td>cont</td>\n",
       "      <td>square feet</td>\n",
       "    </tr>\n",
       "    <tr>\n",
       "      <th>2ndFlrSF</th>\n",
       "      <td>Second floor square feet</td>\n",
       "      <td>cont</td>\n",
       "      <td>square feet</td>\n",
       "    </tr>\n",
       "    <tr>\n",
       "      <th>3SsnPorch</th>\n",
       "      <td>Three season porch area in square feet</td>\n",
       "      <td>cont</td>\n",
       "      <td>square feet</td>\n",
       "    </tr>\n",
       "  </tbody>\n",
       "</table>\n",
       "</div>"
      ],
      "text/plain": [
       "                                          Descript  Type         Unit\n",
       "Feature                                                              \n",
       "1stFlrSF                   First Floor square feet  cont  square feet\n",
       "2ndFlrSF                  Second floor square feet  cont  square feet\n",
       "3SsnPorch   Three season porch area in square feet  cont  square feet"
      ]
     },
     "execution_count": 9,
     "metadata": {},
     "output_type": "execute_result"
    }
   ],
   "source": [
    "desdf = ddes.groupby(['Feature', 'Descript', 'Type', 'Unit'])['Val'].count()\n",
    "desdf = pd.DataFrame(desdf).reset_index().drop('Val', axis=1).set_index('Feature')\n",
    "desdf.head(3)"
   ]
  },
  {
   "cell_type": "code",
   "execution_count": 10,
   "metadata": {},
   "outputs": [
    {
     "data": {
      "text/plain": [
       "True"
      ]
     },
     "execution_count": 10,
     "metadata": {},
     "output_type": "execute_result"
    }
   ],
   "source": [
    "len(desdf) == df.shape[1]"
   ]
  },
  {
   "cell_type": "code",
   "execution_count": 11,
   "metadata": {},
   "outputs": [],
   "source": [
    "def DataDictionary(df, desdf):\n",
    "    \"\"\" Create a Data Dictionary. \n",
    "    \n",
    "        Parameters:\n",
    "            arg_1: data frame (raw data set)\n",
    "            arg_2: data describtion frame (columns: Feature, Descript, Type, Unit)\n",
    "        Returns:\n",
    "            Data Dictionary Frame with following columns:\n",
    "                'Description' - feature meaning\n",
    "                '#Unique' - number of unique values in the columns where NaN calculated as value also  \n",
    "                '%Missing' - % of missing values\n",
    "                'TopValue' - the most used value  \n",
    "                '%UsedTop' - % of using top value  \n",
    "                'Dtype' - column's python data type \n",
    "                'Type' - column's data type \n",
    "                'Unit' - given unit of value \n",
    "    \"\"\"\n",
    "\n",
    "    cols = df.columns.tolist()\n",
    "    l = len(df)\n",
    "    x, y, z, v, w, xx, yy, zz, ww = [], [], [], [], [], [], [], [], []\n",
    "    for col in cols:\n",
    "        s = df[col]\n",
    "        ll = len(s.unique())\n",
    "        x.append(ll)\n",
    "        \n",
    "        values = s.value_counts().to_frame().reset_index() #number of using for all values\n",
    "        \n",
    "        y.append(values.iloc[0,0]) # a name of top value\n",
    "        nused = values.iloc[0,1] # a number of using \n",
    "        yy.append(nused*100/l)\n",
    "        \n",
    "        missed = s.isnull().sum() # number of missing values\n",
    "        z.append(round(missed*100/l, 2))\n",
    "        \n",
    "        v.append(str(s.dtype)) # extract a data type\n",
    "        \n",
    "        # extract values from data describtion frame\n",
    "        w.append(desdf['Descript'][col])\n",
    "        zz.append(desdf['Type'][col])\n",
    "        ww.append(desdf['Unit'][col])\n",
    "    \n",
    "    ddict = pd.DataFrame({'Description':w, '#Unique':x,'%Missing':z, 'TopValue':y, '%UsedTop':yy,   \n",
    "                         'Dtype':v, 'Type':zz, 'Unit':ww}, index=[cols]).sort_index()\n",
    "    return ddict"
   ]
  },
  {
   "cell_type": "code",
   "execution_count": 12,
   "metadata": {},
   "outputs": [
    {
     "data": {
      "text/html": [
       "<div>\n",
       "<style scoped>\n",
       "    .dataframe tbody tr th:only-of-type {\n",
       "        vertical-align: middle;\n",
       "    }\n",
       "\n",
       "    .dataframe tbody tr th {\n",
       "        vertical-align: top;\n",
       "    }\n",
       "\n",
       "    .dataframe thead th {\n",
       "        text-align: right;\n",
       "    }\n",
       "</style>\n",
       "<table border=\"1\" class=\"dataframe\">\n",
       "  <thead>\n",
       "    <tr style=\"text-align: right;\">\n",
       "      <th></th>\n",
       "      <th>Description</th>\n",
       "      <th>#Unique</th>\n",
       "      <th>%Missing</th>\n",
       "      <th>TopValue</th>\n",
       "      <th>%UsedTop</th>\n",
       "      <th>Dtype</th>\n",
       "      <th>Type</th>\n",
       "      <th>Unit</th>\n",
       "    </tr>\n",
       "  </thead>\n",
       "  <tbody>\n",
       "    <tr>\n",
       "      <th>1stFlrSF</th>\n",
       "      <td>First Floor square feet</td>\n",
       "      <td>1083</td>\n",
       "      <td>0.00</td>\n",
       "      <td>864</td>\n",
       "      <td>1.58</td>\n",
       "      <td>int64</td>\n",
       "      <td>cont</td>\n",
       "      <td>square feet</td>\n",
       "    </tr>\n",
       "    <tr>\n",
       "      <th>2ndFlrSF</th>\n",
       "      <td>Second floor square feet</td>\n",
       "      <td>635</td>\n",
       "      <td>0.00</td>\n",
       "      <td>0</td>\n",
       "      <td>57.14</td>\n",
       "      <td>int64</td>\n",
       "      <td>cont</td>\n",
       "      <td>square feet</td>\n",
       "    </tr>\n",
       "    <tr>\n",
       "      <th>3SsnPorch</th>\n",
       "      <td>Three season porch area in square feet</td>\n",
       "      <td>31</td>\n",
       "      <td>0.00</td>\n",
       "      <td>0</td>\n",
       "      <td>98.73</td>\n",
       "      <td>int64</td>\n",
       "      <td>cont</td>\n",
       "      <td>square feet</td>\n",
       "    </tr>\n",
       "    <tr>\n",
       "      <th>Alley</th>\n",
       "      <td>Type of alley access to property</td>\n",
       "      <td>3</td>\n",
       "      <td>93.22</td>\n",
       "      <td>Grvl</td>\n",
       "      <td>4.11</td>\n",
       "      <td>object</td>\n",
       "      <td>nominal</td>\n",
       "      <td>-</td>\n",
       "    </tr>\n",
       "    <tr>\n",
       "      <th>BedroomAbvGr</th>\n",
       "      <td>Bedrooms above grade (does NOT include baseme...</td>\n",
       "      <td>8</td>\n",
       "      <td>0.00</td>\n",
       "      <td>3</td>\n",
       "      <td>54.68</td>\n",
       "      <td>int64</td>\n",
       "      <td>discrete</td>\n",
       "      <td>quantity</td>\n",
       "    </tr>\n",
       "  </tbody>\n",
       "</table>\n",
       "</div>"
      ],
      "text/plain": [
       "                                                    Description  #Unique  \\\n",
       "1stFlrSF                                First Floor square feet     1083   \n",
       "2ndFlrSF                               Second floor square feet      635   \n",
       "3SsnPorch                Three season porch area in square feet       31   \n",
       "Alley                          Type of alley access to property        3   \n",
       "BedroomAbvGr   Bedrooms above grade (does NOT include baseme...        8   \n",
       "\n",
       "              %Missing TopValue  %UsedTop   Dtype      Type         Unit  \n",
       "1stFlrSF          0.00      864      1.58   int64      cont  square feet  \n",
       "2ndFlrSF          0.00        0     57.14   int64      cont  square feet  \n",
       "3SsnPorch         0.00        0     98.73   int64      cont  square feet  \n",
       "Alley            93.22     Grvl      4.11  object   nominal            -  \n",
       "BedroomAbvGr      0.00        3     54.68   int64  discrete     quantity  "
      ]
     },
     "execution_count": 12,
     "metadata": {},
     "output_type": "execute_result"
    }
   ],
   "source": [
    "ddict = DataDictionary(df, desdf)\n",
    "ddict.head()"
   ]
  },
  {
   "cell_type": "code",
   "execution_count": 13,
   "metadata": {},
   "outputs": [],
   "source": [
    "writer = pd.ExcelWriter('.../HPricesDDict.xlsx')\n",
    "ddict.to_excel(writer, 'Data_Dictionary', index=True)\n",
    "writer.save()"
   ]
  }
 ],
 "metadata": {
  "kernelspec": {
   "display_name": "Python 3",
   "language": "python",
   "name": "python3"
  },
  "language_info": {
   "codemirror_mode": {
    "name": "ipython",
    "version": 3
   },
   "file_extension": ".py",
   "mimetype": "text/x-python",
   "name": "python",
   "nbconvert_exporter": "python",
   "pygments_lexer": "ipython3",
   "version": "3.6.8"
  }
 },
 "nbformat": 4,
 "nbformat_minor": 2
}
